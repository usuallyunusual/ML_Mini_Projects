{
 "cells": [
  {
   "cell_type": "markdown",
   "metadata": {},
   "source": [
    "# Machine Learning Lab 2\n",
    "\n",
    "## Importing libraries for entire exercise"
   ]
  },
  {
   "cell_type": "code",
   "execution_count": 2,
   "metadata": {},
   "outputs": [],
   "source": [
    "import pandas as pd\n",
    "import numpy as np\n",
    "from sklearn.model_selection import train_test_split\n",
    "from sklearn.naive_bayes import GaussianNB\n",
    "from sklearn import metrics\n",
    "import matplotlib.pyplot as plt\n",
    "from sklearn.metrics import plot_precision_recall_curve\n",
    "from sklearn.metrics import plot_confusion_matrix\n",
    "from sklearn.feature_extraction.text import TfidfVectorizer\n",
    "from sklearn.naive_bayes import MultinomialNB\n",
    "from sklearn.pipeline import make_pipeline\n",
    "from sklearn.metrics import confusion_matrix\n",
    "import seaborn as sns; sns.set()\n",
    "\n",
    "from sklearn.datasets import fetch_20newsgroups\n",
    "%matplotlib inline\n"
   ]
  },
  {
   "cell_type": "markdown",
   "metadata": {},
   "source": [
    "# Naive Bayes Classification on numeric data \n",
    "\n",
    "## Loading data"
   ]
  },
  {
   "cell_type": "code",
   "execution_count": 3,
   "metadata": {},
   "outputs": [],
   "source": [
    "data = pd.read_csv('data.csv')\n",
    "data_sec = pd.read_csv('data.csv')"
   ]
  },
  {
   "cell_type": "markdown",
   "metadata": {},
   "source": [
    "## Defining function to convert classes to numeric"
   ]
  },
  {
   "cell_type": "code",
   "execution_count": 4,
   "metadata": {},
   "outputs": [],
   "source": [
    "def diagnum(x):\n",
    "    if x == 'M' or x == 1:\n",
    "        return 1\n",
    "    else:\n",
    "        return 0"
   ]
  },
  {
   "cell_type": "markdown",
   "metadata": {},
   "source": [
    "## Applying conversion to entire dataframe and also preparing output vector"
   ]
  },
  {
   "cell_type": "code",
   "execution_count": 5,
   "metadata": {},
   "outputs": [],
   "source": [
    "data_sec_y = data_sec['diagnosis'].apply(diagnum)\n",
    "data_sec = data_sec.drop(['diagnosis'],axis = 1)"
   ]
  },
  {
   "cell_type": "markdown",
   "metadata": {},
   "source": [
    "## Splitting data and test and train sets (75-train and 25 test)"
   ]
  },
  {
   "cell_type": "code",
   "execution_count": 6,
   "metadata": {},
   "outputs": [],
   "source": [
    "train_x,test_x,train_y,test_y = train_test_split(data_sec,data_sec_y,test_size = 0.2,random_state = 0)"
   ]
  },
  {
   "cell_type": "markdown",
   "metadata": {},
   "source": [
    "## Setting up Naive Bayes classifier to classify whether tumor is benign or malignant\n",
    "\n",
    "###  We have to assume that the distribution of the data is Gaussian for the classifier to work (Hence the 'Naive')\n",
    "### To this end we have used GuassianNB( ) function"
   ]
  },
  {
   "cell_type": "code",
   "execution_count": 7,
   "metadata": {},
   "outputs": [
    {
     "data": {
      "text/plain": [
       "GaussianNB(priors=None, var_smoothing=1e-09)"
      ]
     },
     "execution_count": 7,
     "metadata": {},
     "output_type": "execute_result"
    }
   ],
   "source": [
    "headings = data_sec.columns.tolist()\n",
    "model = GaussianNB()\n",
    "model.fit(train_x[headings[1:3]],train_y)"
   ]
  },
  {
   "cell_type": "markdown",
   "metadata": {},
   "source": [
    "## Error Metric 1: Accuracy"
   ]
  },
  {
   "cell_type": "code",
   "execution_count": 8,
   "metadata": {},
   "outputs": [
    {
     "name": "stdout",
     "output_type": "stream",
     "text": [
      "The accuracy of the model on test data is found to be : 0.9035087719298246\n",
      "The accuracy of the model on train data is found to be : 0.8857142857142857\n"
     ]
    }
   ],
   "source": [
    "print(\"The accuracy of the model on test data is found to be :\",model.score(test_x[headings[1:3]],test_y))\n",
    "print(\"The accuracy of the model on train data is found to be :\",model.score(train_x[headings[1:3]],train_y))"
   ]
  },
  {
   "cell_type": "markdown",
   "metadata": {},
   "source": [
    "## Error Metric 2: Precision\n",
    "\n",
    "### Introduced the confusion matrix that is essential to calculate the necessary metrics"
   ]
  },
  {
   "cell_type": "code",
   "execution_count": 9,
   "metadata": {},
   "outputs": [
    {
     "name": "stdout",
     "output_type": "stream",
     "text": [
      "The precision of the model is found to be: 0.9402985074626866\n"
     ]
    }
   ],
   "source": [
    "conf_mat = metrics.confusion_matrix(test_y,model.predict(test_x[headings[1:3]]))\n",
    "precision = conf_mat[0][0]/(conf_mat[0][0]+conf_mat[0][1])\n",
    "print(\"The precision of the model is found to be:\",precision)"
   ]
  },
  {
   "cell_type": "markdown",
   "metadata": {},
   "source": [
    "## Error Metric 3: Recall"
   ]
  },
  {
   "cell_type": "code",
   "execution_count": 10,
   "metadata": {},
   "outputs": [
    {
     "name": "stdout",
     "output_type": "stream",
     "text": [
      "The recall of the model is found to be: 0.9\n"
     ]
    }
   ],
   "source": [
    "recall = conf_mat[0][0]/(conf_mat[0][0]+conf_mat[1][0])\n",
    "print(\"The recall of the model is found to be:\",recall)"
   ]
  },
  {
   "cell_type": "markdown",
   "metadata": {},
   "source": [
    "## Error Metric 4: F1 score (The most accurate metric to decide on how well the model is doing"
   ]
  },
  {
   "cell_type": "code",
   "execution_count": 11,
   "metadata": {},
   "outputs": [
    {
     "name": "stdout",
     "output_type": "stream",
     "text": [
      "The F1 score of the model is : 0.9197080291970803\n"
     ]
    }
   ],
   "source": [
    "f1_score = 2*((precision*recall)/(precision+recall))\n",
    "print(\"The F1 score of the model is :\",f1_score)"
   ]
  },
  {
   "cell_type": "markdown",
   "metadata": {},
   "source": [
    "# Plotting error metrics\n",
    "\n",
    "## Plot 1: Precision vs Recall"
   ]
  },
  {
   "cell_type": "code",
   "execution_count": 12,
   "metadata": {},
   "outputs": [
    {
     "data": {
      "image/png": "[encoded data removed]",
      "text/plain": [
       "<Figure size 432x288 with 1 Axes>"
      ]
     },
     "metadata": {
      "needs_background": "light"
     },
     "output_type": "display_data"
    }
   ],
   "source": [
    "disp = plot_precision_recall_curve(model, test_x[headings[1:3]],test_y)"
   ]
  },
  {
   "cell_type": "markdown",
   "metadata": {},
   "source": [
    "## Plot 2: The confusion matrix"
   ]
  },
  {
   "cell_type": "code",
   "execution_count": 13,
   "metadata": {},
   "outputs": [
    {
     "data": {
      "text/plain": [
       "<sklearn.metrics._plot.confusion_matrix.ConfusionMatrixDisplay at 0x24665509a48>"
      ]
     },
     "execution_count": 13,
     "metadata": {},
     "output_type": "execute_result"
    },
    {
     "data": {
      "image/png": "[encoded data removed]",
      "text/plain": [
       "<Figure size 432x288 with 2 Axes>"
      ]
     },
     "metadata": {
      "needs_background": "light"
     },
     "output_type": "display_data"
    }
   ],
   "source": [
    "plot_confusion_matrix(model,test_x[headings[1:3]],test_y)"
   ]
  },
  {
   "cell_type": "markdown",
   "metadata": {},
   "source": [
    "# Naive Bayes classification on Nominal data\n",
    "\n",
    "## Loading data from sklearn"
   ]
  },
  {
   "cell_type": "code",
   "execution_count": 14,
   "metadata": {},
   "outputs": [],
   "source": [
    "data = fetch_20newsgroups()"
   ]
  },
  {
   "cell_type": "markdown",
   "metadata": {},
   "source": [
    "## Selecting specific categories as features and splitting data and test and train sets"
   ]
  },
  {
   "cell_type": "code",
   "execution_count": 15,
   "metadata": {},
   "outputs": [],
   "source": [
    "categories = ['talk.religion.misc', 'soc.religion.christian',\n",
    "              'sci.space', 'comp.graphics']\n",
    "train = fetch_20newsgroups(subset='train', categories=categories)\n",
    "test = fetch_20newsgroups(subset='test', categories=categories)"
   ]
  },
  {
   "cell_type": "markdown",
   "metadata": {},
   "source": [
    "## Preview of the data"
   ]
  },
  {
   "cell_type": "code",
   "execution_count": 16,
   "metadata": {},
   "outputs": [
    {
     "name": "stdout",
     "output_type": "stream",
     "text": [
      "From: dmcgee@uluhe.soest.hawaii.edu (Don McGee)\n",
      "Subject: Federal Hearing\n",
      "Originator: dmcgee@uluhe\n",
      "Organization: School of Ocean and Earth Science and Technology\n",
      "Distribution: usa\n",
      "Lines: 10\n",
      "\n",
      "\n",
      "Fact or rumor....?  Madalyn Murray O'Hare an atheist who eliminated the\n",
      "use of the bible reading and prayer in public schools 15 years ago is now\n",
      "going to appear before the FCC with a petition to stop the reading of the\n",
      "Gospel on the airways of America.  And she is also campaigning to remove\n",
      "Christmas programs, songs, etc from the public schools.  If it is true\n",
      "then mail to Federal Communications Commission 1919 H Street Washington DC\n",
      "20054 expressing your opposition to her request.  Reference Petition number\n",
      "\n",
      "2493.\n",
      "\n"
     ]
    }
   ],
   "source": [
    "print(train.data[5])"
   ]
  },
  {
   "cell_type": "markdown",
   "metadata": {},
   "source": [
    "## Setting up Naive Bayes classification to classify into what category of news it is\n",
    "\n",
    "### We first vectorize the articles using tf-idf that creates a feature vector oout of the frequency of words in an article"
   ]
  },
  {
   "cell_type": "code",
   "execution_count": 17,
   "metadata": {},
   "outputs": [
    {
     "data": {
      "text/plain": [
       "Pipeline(memory=None,\n",
       "         steps=[('tfidfvectorizer',\n",
       "                 TfidfVectorizer(analyzer='word', binary=False,\n",
       "                                 decode_error='strict',\n",
       "                                 dtype=<class 'numpy.float64'>,\n",
       "                                 encoding='utf-8', input='content',\n",
       "                                 lowercase=True, max_df=1.0, max_features=None,\n",
       "                                 min_df=1, ngram_range=(1, 1), norm='l2',\n",
       "                                 preprocessor=None, smooth_idf=True,\n",
       "                                 stop_words=None, strip_accents=None,\n",
       "                                 sublinear_tf=False,\n",
       "                                 token_pattern='(?u)\\\\b\\\\w\\\\w+\\\\b',\n",
       "                                 tokenizer=None, use_idf=True,\n",
       "                                 vocabulary=None)),\n",
       "                ('multinomialnb',\n",
       "                 MultinomialNB(alpha=1.0, class_prior=None, fit_prior=True))],\n",
       "         verbose=False)"
      ]
     },
     "execution_count": 17,
     "metadata": {},
     "output_type": "execute_result"
    }
   ],
   "source": [
    "model = make_pipeline(TfidfVectorizer(), MultinomialNB())\n",
    "model.fit(train.data, train.target)"
   ]
  },
  {
   "cell_type": "markdown",
   "metadata": {},
   "source": [
    "## Predicting class labels"
   ]
  },
  {
   "cell_type": "code",
   "execution_count": 18,
   "metadata": {},
   "outputs": [],
   "source": [
    "label = model.predict(test.data)"
   ]
  },
  {
   "cell_type": "markdown",
   "metadata": {},
   "source": [
    "## Error metric 1: Accuracy"
   ]
  },
  {
   "cell_type": "code",
   "execution_count": 19,
   "metadata": {},
   "outputs": [
    {
     "name": "stdout",
     "output_type": "stream",
     "text": [
      "The accuracy of the model on test data is found to be : 0.8016759776536313\n",
      "The accuracy of the model on train data is found to be : 0.8959591267998143\n"
     ]
    }
   ],
   "source": [
    "print(\"The accuracy of the model on test data is found to be :\",model.score(test.data,test.target))\n",
    "print(\"The accuracy of the model on train data is found to be :\",model.score(train.data,train.target))"
   ]
  },
  {
   "cell_type": "markdown",
   "metadata": {},
   "source": [
    "## Error Metric 2: Precision\n",
    "\n",
    "### Introduced the confusion matrix that is essential to calculate the necessary metrics"
   ]
  },
  {
   "cell_type": "code",
   "execution_count": 20,
   "metadata": {},
   "outputs": [
    {
     "name": "stdout",
     "output_type": "stream",
     "text": [
      "The precision of the model for class 1 is found to be: 0.4693042291950887\n",
      "The precision of the model for class 2 is found to be: 0.9238578680203046\n",
      "The precision of the model for class 3 is found to be: 0.9849246231155779\n",
      "The precision of the model for class 4 is found to be: 0.19123505976095617\n"
     ]
    }
   ],
   "source": [
    "conf_mat = metrics.confusion_matrix(test.target,model.predict(test.data))\n",
    "precision_1 = conf_mat[0][0]/(conf_mat[0][0]+conf_mat[0][0]+conf_mat[0][1]+conf_mat[0][2])\n",
    "precision_2 = conf_mat[1][1]/(conf_mat[1][1]+conf_mat[1][0]+conf_mat[1][2]+conf_mat[1][3])\n",
    "precision_3 = conf_mat[2][2]/(conf_mat[2][2]+conf_mat[2][0]+conf_mat[2][1]+conf_mat[2][3])\n",
    "precision_4 = conf_mat[3][3]/(conf_mat[3][3]+conf_mat[3][0]+conf_mat[3][1]+conf_mat[3][2])\n",
    "print(\"The precision of the model for class 1 is found to be:\",precision_1)\n",
    "print(\"The precision of the model for class 2 is found to be:\",precision_2)\n",
    "print(\"The precision of the model for class 3 is found to be:\",precision_3)\n",
    "print(\"The precision of the model for class 4 is found to be:\",precision_4)"
   ]
  },
  {
   "cell_type": "markdown",
   "metadata": {},
   "source": [
    "## Error Metric 3: Recall"
   ]
  },
  {
   "cell_type": "code",
   "execution_count": 21,
   "metadata": {},
   "outputs": [
    {
     "name": "stdout",
     "output_type": "stream",
     "text": [
      "The recall of the model for class 1 is found to be: 0.9690140845070423\n",
      "The recall of the model for class 2 is found to be: 0.9238578680203046\n",
      "The recall of the model for class 3 is found to be: 0.6173228346456693\n",
      "The recall of the model for class 4 is found to be: 1.0\n"
     ]
    }
   ],
   "source": [
    "rec_1 = conf_mat[0][0]/(conf_mat[0][0]+conf_mat[1][0]+conf_mat[2][0]+conf_mat[3][0])\n",
    "rec_2 = conf_mat[1][1]/(conf_mat[1][1]+conf_mat[2][1]+conf_mat[3][1]+conf_mat[0][1])\n",
    "rec_3 = conf_mat[2][2]/(conf_mat[2][2]+conf_mat[0][2]+conf_mat[1][2]+conf_mat[3][2])\n",
    "rec_4 = conf_mat[3][3]/(conf_mat[3][3]+conf_mat[0][3]+conf_mat[1][3]+conf_mat[2][3])\n",
    "print(\"The recall of the model for class 1 is found to be:\",rec_1)\n",
    "print(\"The recall of the model for class 2 is found to be:\",rec_2)\n",
    "print(\"The recall of the model for class 3 is found to be:\",rec_3)\n",
    "print(\"The recall of the model for class 4 is found to be:\",rec_4)"
   ]
  },
  {
   "cell_type": "markdown",
   "metadata": {},
   "source": [
    "## Error Metric 4: F1 Score"
   ]
  },
  {
   "cell_type": "code",
   "execution_count": 22,
   "metadata": {},
   "outputs": [
    {
     "name": "stdout",
     "output_type": "stream",
     "text": [
      "The F1 score of the model for class 1 is : 0.6323529411764706\n",
      "The F1 score of the model for class 2 is : 0.9238578680203046\n",
      "The F1 score of the model for class 3 is : 0.7589545014520812\n",
      "The F1 score of the model for class 4 is : 0.3210702341137123\n"
     ]
    }
   ],
   "source": [
    "f1_score_1 = 2*((precision_1*rec_1)/(precision_1+rec_1))\n",
    "f1_score_2 = 2*((precision_2*rec_2)/(precision_2+rec_2))\n",
    "f1_score_3 = 2*((precision_3*rec_3)/(precision_3+rec_3))\n",
    "f1_score_4 = 2*((precision_4*rec_4)/(precision_4+rec_4))\n",
    "\n",
    "print(\"The F1 score of the model for class 1 is :\",f1_score_1)\n",
    "print(\"The F1 score of the model for class 2 is :\",f1_score_2)\n",
    "print(\"The F1 score of the model for class 3 is :\",f1_score_3)\n",
    "print(\"The F1 score of the model for class 4 is :\",f1_score_4)"
   ]
  },
  {
   "cell_type": "markdown",
   "metadata": {},
   "source": [
    "# Plotting error metrics\n",
    "\n",
    "## Plot 1: Confusion matrix"
   ]
  },
  {
   "cell_type": "code",
   "execution_count": 24,
   "metadata": {},
   "outputs": [
    {
     "data": {
      "image/png": "[encoded data removed]",
      "text/plain": [
       "<Figure size 432x288 with 1 Axes>"
      ]
     },
     "metadata": {
      "needs_background": "light"
     },
     "output_type": "display_data"
    }
   ],
   "source": [
    "mat = confusion_matrix(test.target, label)\n",
    "sns.heatmap(mat.T, square=True, annot=True, fmt='d', cbar=False,\n",
    "            xticklabels=train.target_names, yticklabels=train.target_names)\n",
    "plt.xlabel('true label')\n",
    "plt.ylabel('predicted label');"
   ]
  },
  {
   "cell_type": "markdown",
   "metadata": {},
   "source": [
    "<center> \n",
    "    <h1> End of notebook <h2>\n",
    "</center>"
   ]
  },
  {
   "cell_type": "code",
   "execution_count": null,
   "metadata": {},
   "outputs": [],
   "source": []
  }
 ],
 "metadata": {
  "kernelspec": {
   "display_name": "Python 3",
   "language": "python",
   "name": "python3"
  },
  "language_info": {
   "codemirror_mode": {
    "name": "ipython",
    "version": 3
   },
   "file_extension": ".py",
   "mimetype": "text/x-python",
   "name": "python",
   "nbconvert_exporter": "python",
   "pygments_lexer": "ipython3",
   "version": "3.7.7"
  }
 },
 "nbformat": 4,
 "nbformat_minor": 4
}
