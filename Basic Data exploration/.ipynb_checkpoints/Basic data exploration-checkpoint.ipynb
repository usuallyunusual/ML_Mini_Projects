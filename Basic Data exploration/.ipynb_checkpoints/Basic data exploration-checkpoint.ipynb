{
 "cells": [
  {
   "cell_type": "markdown",
   "metadata": {},
   "source": [
    "# Importing necesssary packages"
   ]
  },
  {
   "cell_type": "code",
   "execution_count": 47,
   "metadata": {},
   "outputs": [],
   "source": [
    "import pandas as pd\n",
    "from numpy import percentile as ps\n",
    "import matplotlib.pyplot as plt"
   ]
  },
  {
   "cell_type": "markdown",
   "metadata": {},
   "source": [
    "## Question 1\n",
    "### Reading data using pandas"
   ]
  },
  {
   "cell_type": "code",
   "execution_count": 48,
   "metadata": {},
   "outputs": [],
   "source": [
    "bc = pd.read_csv(\"data.csv\")"
   ]
  },
  {
   "cell_type": "markdown",
   "metadata": {},
   "source": [
    "## Question 2\n",
    "### Finding class distribution"
   ]
  },
  {
   "cell_type": "code",
   "execution_count": 49,
   "metadata": {},
   "outputs": [
    {
     "name": "stdout",
     "output_type": "stream",
     "text": [
      "Class distribution:\n",
      " M : 212 \n",
      " B : 357 \n",
      "Total records : 569\n"
     ]
    }
   ],
   "source": [
    "classes = bc['diagnosis'].unique()\n",
    "a = bc[bc['diagnosis']==classes[0]]\n",
    "b = bc[bc['diagnosis']==classes[1]]\n",
    "print(\"Class distribution:\\n\",classes[0],\":\",len(a),\"\\n\",classes[1],\":\",len(b),\"\\nTotal records :\",len(bc))\n"
   ]
  },
  {
   "cell_type": "markdown",
   "metadata": {},
   "source": [
    "## Question 3\n",
    "### Finding five number summary and plotting boxplot for the same\n",
    "#### Function find5ns( ) takes as input column number (3 to 32, as first two are non numeric) and also plot boolean which decides whether the plot is drawn or not. It prints the 5 number summary and plot (optional)"
   ]
  },
  {
   "cell_type": "code",
   "execution_count": 50,
   "metadata": {},
   "outputs": [],
   "source": [
    "headings = bc.columns.tolist()\n",
    "def find5ns(i,plot):\n",
    "    quartiles = ps(bc[headings[i]],[25,50,75])\n",
    "    bc_min,bc_max = bc[headings[i]].min(),bc[headings[i]].max()\n",
    "    print(\"5 number summary of\",headings[i])\n",
    "    print('Min: %.3f' % bc_min)\n",
    "    print('Q1: %.3f' % quartiles[0])\n",
    "    print('Median: %.3f' % quartiles[1])\n",
    "    print('Q3: %.3f' % quartiles[2])\n",
    "    print('Max: %.3f' % bc_max)\n",
    "    if plot:\n",
    "        bc.boxplot(column = [headings[i]])"
   ]
  },
  {
   "cell_type": "markdown",
   "metadata": {},
   "source": [
    "#### We can even put it through a simple for loop and call the function over every column with ease"
   ]
  },
  {
   "cell_type": "code",
   "execution_count": 51,
   "metadata": {},
   "outputs": [
    {
     "name": "stdout",
     "output_type": "stream",
     "text": [
      "5 number summary of texture_mean\n",
      "Min: 9.710\n",
      "Q1: 16.170\n",
      "Median: 18.840\n",
      "Q3: 21.800\n",
      "Max: 39.280\n"
     ]
    },
    {
     "data": {
      "image/png": "[encoded data removed]",
      "text/plain": [
       "<Figure size 432x288 with 1 Axes>"
      ]
     },
     "metadata": {
      "needs_background": "light"
     },
     "output_type": "display_data"
    }
   ],
   "source": [
    "find5ns(3,plot=True)"
   ]
  },
  {
   "cell_type": "code",
   "execution_count": 52,
   "metadata": {},
   "outputs": [
    {
     "name": "stdout",
     "output_type": "stream",
     "text": [
      "5 number summary of perimeter_mean\n",
      "Min: 43.790\n",
      "Q1: 75.170\n",
      "Median: 86.240\n",
      "Q3: 104.100\n",
      "Max: 188.500\n"
     ]
    }
   ],
   "source": [
    "find5ns(4,plot = False)"
   ]
  },
  {
   "cell_type": "markdown",
   "metadata": {},
   "source": [
    "## Question 4\n",
    "### Plotting boxplot for attributes and comparing them with respect to different classes\n",
    "#### To this end i've written a function that plots the column that is given as input to the function myboxplot( ). It also gives the 5 number summary (See previous) for better understanding the boxplot."
   ]
  },
  {
   "cell_type": "code",
   "execution_count": 54,
   "metadata": {},
   "outputs": [],
   "source": [
    "def myboxplot(i):\n",
    "    find5ns(i,plot = False)\n",
    "    bc.boxplot(column = [headings[i]], by = 'diagnosis')"
   ]
  },
  {
   "cell_type": "markdown",
   "metadata": {},
   "source": [
    "#### Similar to previous cases, we can use a for loop to plot for all columns to enhance understanding or specify columns we want."
   ]
  },
  {
   "cell_type": "code",
   "execution_count": 56,
   "metadata": {},
   "outputs": [
    {
     "name": "stdout",
     "output_type": "stream",
     "text": [
      "5 number summary of texture_mean\n",
      "Min: 9.710\n",
      "Q1: 16.170\n",
      "Median: 18.840\n",
      "Q3: 21.800\n",
      "Max: 39.280\n"
     ]
    },
    {
     "data": {
      "image/png": "[encoded data removed]",
      "text/plain": [
       "<Figure size 432x288 with 1 Axes>"
      ]
     },
     "metadata": {
      "needs_background": "light"
     },
     "output_type": "display_data"
    }
   ],
   "source": [
    "myboxplot(3)"
   ]
  },
  {
   "cell_type": "code",
   "execution_count": 57,
   "metadata": {},
   "outputs": [
    {
     "name": "stdout",
     "output_type": "stream",
     "text": [
      "5 number summary of area_mean\n",
      "Min: 143.500\n",
      "Q1: 420.300\n",
      "Median: 551.100\n",
      "Q3: 782.700\n",
      "Max: 2501.000\n"
     ]
    },
    {
     "data": {
      "image/png": "[encoded data removed]",
      "text/plain": [
       "<Figure size 432x288 with 1 Axes>"
      ]
     },
     "metadata": {
      "needs_background": "light"
     },
     "output_type": "display_data"
    }
   ],
   "source": [
    "myboxplot(5)"
   ]
  },
  {
   "cell_type": "markdown",
   "metadata": {},
   "source": [
    "## Question 5\n",
    "### Plot histogram for attributes\n",
    "#### The function plothist( ) plots histogram for selected columns. Plotting all columns is possible but is not plausible because no inference can be drawn because of too many attributes."
   ]
  },
  {
   "cell_type": "code",
   "execution_count": 58,
   "metadata": {},
   "outputs": [],
   "source": [
    "def plothist(i):\n",
    "    bc[headings[i]].plot.hist(bins=20, alpha = 0.7,rwidth=0.85)\n",
    "    plt.xlabel(headings[i])\n",
    "    plt.title(\"Histogram of \"+headings[i])\n",
    "    plt.grid(axis='y', alpha=0.75)\n",
    "    find5ns(i,plot = False)"
   ]
  },
  {
   "cell_type": "markdown",
   "metadata": {},
   "source": [
    "#### Similar to previous cases I've maintained modularity, so this function can be used in a for loop or on a specific column. It displays the 5 number summary so we can better understand the plotted distribution"
   ]
  },
  {
   "cell_type": "code",
   "execution_count": 59,
   "metadata": {},
   "outputs": [
    {
     "name": "stdout",
     "output_type": "stream",
     "text": [
      "5 number summary of texture_mean\n",
      "Min: 9.710\n",
      "Q1: 16.170\n",
      "Median: 18.840\n",
      "Q3: 21.800\n",
      "Max: 39.280\n"
     ]
    },
    {
     "data": {
      "image/png": "[encoded data removed]",
      "text/plain": [
       "<Figure size 432x288 with 1 Axes>"
      ]
     },
     "metadata": {
      "needs_background": "light"
     },
     "output_type": "display_data"
    }
   ],
   "source": [
    "plothist(3)"
   ]
  },
  {
   "cell_type": "markdown",
   "metadata": {},
   "source": [
    "As we can see in the above case. The 5 number summary is graphically depicted. The median is pretty close to the mean. It is a good example of a bell curve with a relatively narrow distribution. The example on the far right could be a possible outlier."
   ]
  },
  {
   "cell_type": "code",
   "execution_count": 60,
   "metadata": {},
   "outputs": [
    {
     "name": "stdout",
     "output_type": "stream",
     "text": [
      "5 number summary of area_mean\n",
      "Min: 143.500\n",
      "Q1: 420.300\n",
      "Median: 551.100\n",
      "Q3: 782.700\n",
      "Max: 2501.000\n"
     ]
    },
    {
     "data": {
      "image/png": "[encoded data removed]",
      "text/plain": [
       "<Figure size 432x288 with 1 Axes>"
      ]
     },
     "metadata": {
      "needs_background": "light"
     },
     "output_type": "display_data"
    }
   ],
   "source": [
    "plothist(5)"
   ]
  },
  {
   "cell_type": "markdown",
   "metadata": {},
   "source": [
    "The above histogram is of the area of the cell. Not really a perfect gaussian distributin. It is skewed towards the right side. The examples on the far right are possible outliers. Most distributions are between minimum and Q3 values."
   ]
  },
  {
   "cell_type": "code",
   "execution_count": null,
   "metadata": {},
   "outputs": [],
   "source": []
  }
 ],
 "metadata": {
  "kernelspec": {
   "display_name": "Python 3",
   "language": "python",
   "name": "python3"
  },
  "language_info": {
   "codemirror_mode": {
    "name": "ipython",
    "version": 3
   },
   "file_extension": ".py",
   "mimetype": "text/x-python",
   "name": "python",
   "nbconvert_exporter": "python",
   "pygments_lexer": "ipython3",
   "version": "3.7.7"
  }
 },
 "nbformat": 4,
 "nbformat_minor": 4
}
