{
 "metadata": {
  "language_info": {
   "codemirror_mode": {
    "name": "ipython",
    "version": 3
   },
   "file_extension": ".py",
   "mimetype": "text/x-python",
   "name": "python",
   "nbconvert_exporter": "python",
   "pygments_lexer": "ipython3",
   "version": "3.7.7-final"
  },
  "orig_nbformat": 2,
  "kernelspec": {
   "name": "Python 3.7.7 64-bit ('base': conda)",
   "display_name": "Python 3.7.7 64-bit ('base': conda)",
   "metadata": {
    "interpreter": {
     "hash": "7b4b4feff2f24a0f0a34464dbe537a36fda679851528fb8735cb41fa49dffb2d"
    }
   }
  }
 },
 "nbformat": 4,
 "nbformat_minor": 2,
 "cells": [
  {
   "source": [
    "# Random Forest Classifier"
   ],
   "cell_type": "markdown",
   "metadata": {}
  },
  {
   "source": [
    "## Importing necessary libraries"
   ],
   "cell_type": "markdown",
   "metadata": {}
  },
  {
   "cell_type": "code",
   "execution_count": 3,
   "metadata": {},
   "outputs": [],
   "source": [
    "import numpy as np\n",
    "import pandas as pd\n",
    "import matplotlib.pyplot as plt\n",
    "import seaborn as sns\n",
    "from sklearn.model_selection import train_test_split\n",
    "from sklearn.ensemble import RandomForestClassifier as RFC\n",
    "from sklearn.metrics import confusion_matrix\n",
    "from sklearn.preprocessing import OneHotEncoder\n",
    "from sklearn.preprocessing import LabelBinarizer\n"
   ]
  },
  {
   "source": [
    "## View the data\n",
    "Most of the data is categorical"
   ],
   "cell_type": "markdown",
   "metadata": {}
  },
  {
   "cell_type": "code",
   "execution_count": 4,
   "metadata": {},
   "outputs": [
    {
     "output_type": "execute_result",
     "data": {
      "text/plain": "                                                     App             Category  \\\n0         Photo Editor &amp; Candy Camera &amp; Grid &amp; ScrapBook       ART_AND_DESIGN   \n1                                    Coloring book moana       ART_AND_DESIGN   \n2      U Launcher Lite – FREE Live Cool Themes, Hide ...       ART_AND_DESIGN   \n3                                  Sketch - Draw &amp; Paint       ART_AND_DESIGN   \n4                  Pixel Draw - Number Art Coloring Book       ART_AND_DESIGN   \n...                                                  ...                  ...   \n10836                                   Sya9a Maroc - FR               FAMILY   \n10837                   Fr. Mike Schmitz Audio Teachings               FAMILY   \n10838                             Parkinson Exercices FR              MEDICAL   \n10839                      The SCP Foundation DB fr nn5n  BOOKS_AND_REFERENCE   \n10840      iHoroscope - 2018 Daily Horoscope &amp; Astrology            LIFESTYLE   \n\n       Rating Reviews                Size     Installs  Type Price  \\\n0         4.1     159                 19M      10,000+  Free     0   \n1         3.9     967                 14M     500,000+  Free     0   \n2         4.7   87510                8.7M   5,000,000+  Free     0   \n3         4.5  215644                 25M  50,000,000+  Free     0   \n4         4.3     967                2.8M     100,000+  Free     0   \n...       ...     ...                 ...          ...   ...   ...   \n10836     4.5      38                 53M       5,000+  Free     0   \n10837     5.0       4                3.6M         100+  Free     0   \n10838     NaN       3                9.5M       1,000+  Free     0   \n10839     4.5     114  Varies with device       1,000+  Free     0   \n10840     4.5  398307                 19M  10,000,000+  Free     0   \n\n      Content Rating                     Genres      Last Updated  \\\n0           Everyone               Art &amp; Design   January 7, 2018   \n1           Everyone  Art &amp; Design;Pretend Play  January 15, 2018   \n2           Everyone               Art &amp; Design    August 1, 2018   \n3               Teen               Art &amp; Design      June 8, 2018   \n4           Everyone    Art &amp; Design;Creativity     June 20, 2018   \n...              ...                        ...               ...   \n10836       Everyone                  Education     July 25, 2017   \n10837       Everyone                  Education      July 6, 2018   \n10838       Everyone                    Medical  January 20, 2017   \n10839     Mature 17+          Books &amp; Reference  January 19, 2015   \n10840       Everyone                  Lifestyle     July 25, 2018   \n\n              Current Ver         Android Ver  \n0                   1.0.0        4.0.3 and up  \n1                   2.0.0        4.0.3 and up  \n2                   1.2.4        4.0.3 and up  \n3      Varies with device          4.2 and up  \n4                     1.1          4.4 and up  \n...                   ...                 ...  \n10836                1.48          4.1 and up  \n10837                 1.0          4.1 and up  \n10838                 1.0          2.2 and up  \n10839  Varies with device  Varies with device  \n10840  Varies with device  Varies with device  \n\n[10841 rows x 13 columns]",
      "text/html": "<div>\n<style scoped>\n    .dataframe tbody tr th:only-of-type {\n        vertical-align: middle;\n    }\n\n    .dataframe tbody tr th {\n        vertical-align: top;\n    }\n\n    .dataframe thead th {\n        text-align: right;\n    }\n</style>\n<table border=\"1\" class=\"dataframe\">\n  <thead>\n    <tr style=\"text-align: right;\">\n      <th></th>\n      <th>App</th>\n      <th>Category</th>\n      <th>Rating</th>\n      <th>Reviews</th>\n      <th>Size</th>\n      <th>Installs</th>\n      <th>Type</th>\n      <th>Price</th>\n      <th>Content Rating</th>\n      <th>Genres</th>\n      <th>Last Updated</th>\n      <th>Current Ver</th>\n      <th>Android Ver</th>\n    </tr>\n  </thead>\n  <tbody>\n    <tr>\n      <th>0</th>\n      <td>Photo Editor &amp; Candy Camera &amp; Grid &amp; ScrapBook</td>\n      <td>ART_AND_DESIGN</td>\n      <td>4.1</td>\n      <td>159</td>\n      <td>19M</td>\n      <td>10,000+</td>\n      <td>Free</td>\n      <td>0</td>\n      <td>Everyone</td>\n      <td>Art &amp; Design</td>\n      <td>January 7, 2018</td>\n      <td>1.0.0</td>\n      <td>4.0.3 and up</td>\n    </tr>\n    <tr>\n      <th>1</th>\n      <td>Coloring book moana</td>\n      <td>ART_AND_DESIGN</td>\n      <td>3.9</td>\n      <td>967</td>\n      <td>14M</td>\n      <td>500,000+</td>\n      <td>Free</td>\n      <td>0</td>\n      <td>Everyone</td>\n      <td>Art &amp; Design;Pretend Play</td>\n      <td>January 15, 2018</td>\n      <td>2.0.0</td>\n      <td>4.0.3 and up</td>\n    </tr>\n    <tr>\n      <th>2</th>\n      <td>U Launcher Lite – FREE Live Cool Themes, Hide ...</td>\n      <td>ART_AND_DESIGN</td>\n      <td>4.7</td>\n      <td>87510</td>\n      <td>8.7M</td>\n      <td>5,000,000+</td>\n      <td>Free</td>\n      <td>0</td>\n      <td>Everyone</td>\n      <td>Art &amp; Design</td>\n      <td>August 1, 2018</td>\n      <td>1.2.4</td>\n      <td>4.0.3 and up</td>\n    </tr>\n    <tr>\n      <th>3</th>\n      <td>Sketch - Draw &amp; Paint</td>\n      <td>ART_AND_DESIGN</td>\n      <td>4.5</td>\n      <td>215644</td>\n      <td>25M</td>\n      <td>50,000,000+</td>\n      <td>Free</td>\n      <td>0</td>\n      <td>Teen</td>\n      <td>Art &amp; Design</td>\n      <td>June 8, 2018</td>\n      <td>Varies with device</td>\n      <td>4.2 and up</td>\n    </tr>\n    <tr>\n      <th>4</th>\n      <td>Pixel Draw - Number Art Coloring Book</td>\n      <td>ART_AND_DESIGN</td>\n      <td>4.3</td>\n      <td>967</td>\n      <td>2.8M</td>\n      <td>100,000+</td>\n      <td>Free</td>\n      <td>0</td>\n      <td>Everyone</td>\n      <td>Art &amp; Design;Creativity</td>\n      <td>June 20, 2018</td>\n      <td>1.1</td>\n      <td>4.4 and up</td>\n    </tr>\n    <tr>\n      <th>...</th>\n      <td>...</td>\n      <td>...</td>\n      <td>...</td>\n      <td>...</td>\n      <td>...</td>\n      <td>...</td>\n      <td>...</td>\n      <td>...</td>\n      <td>...</td>\n      <td>...</td>\n      <td>...</td>\n      <td>...</td>\n      <td>...</td>\n    </tr>\n    <tr>\n      <th>10836</th>\n      <td>Sya9a Maroc - FR</td>\n      <td>FAMILY</td>\n      <td>4.5</td>\n      <td>38</td>\n      <td>53M</td>\n      <td>5,000+</td>\n      <td>Free</td>\n      <td>0</td>\n      <td>Everyone</td>\n      <td>Education</td>\n      <td>July 25, 2017</td>\n      <td>1.48</td>\n      <td>4.1 and up</td>\n    </tr>\n    <tr>\n      <th>10837</th>\n      <td>Fr. Mike Schmitz Audio Teachings</td>\n      <td>FAMILY</td>\n      <td>5.0</td>\n      <td>4</td>\n      <td>3.6M</td>\n      <td>100+</td>\n      <td>Free</td>\n      <td>0</td>\n      <td>Everyone</td>\n      <td>Education</td>\n      <td>July 6, 2018</td>\n      <td>1.0</td>\n      <td>4.1 and up</td>\n    </tr>\n    <tr>\n      <th>10838</th>\n      <td>Parkinson Exercices FR</td>\n      <td>MEDICAL</td>\n      <td>NaN</td>\n      <td>3</td>\n      <td>9.5M</td>\n      <td>1,000+</td>\n      <td>Free</td>\n      <td>0</td>\n      <td>Everyone</td>\n      <td>Medical</td>\n      <td>January 20, 2017</td>\n      <td>1.0</td>\n      <td>2.2 and up</td>\n    </tr>\n    <tr>\n      <th>10839</th>\n      <td>The SCP Foundation DB fr nn5n</td>\n      <td>BOOKS_AND_REFERENCE</td>\n      <td>4.5</td>\n      <td>114</td>\n      <td>Varies with device</td>\n      <td>1,000+</td>\n      <td>Free</td>\n      <td>0</td>\n      <td>Mature 17+</td>\n      <td>Books &amp; Reference</td>\n      <td>January 19, 2015</td>\n      <td>Varies with device</td>\n      <td>Varies with device</td>\n    </tr>\n    <tr>\n      <th>10840</th>\n      <td>iHoroscope - 2018 Daily Horoscope &amp; Astrology</td>\n      <td>LIFESTYLE</td>\n      <td>4.5</td>\n      <td>398307</td>\n      <td>19M</td>\n      <td>10,000,000+</td>\n      <td>Free</td>\n      <td>0</td>\n      <td>Everyone</td>\n      <td>Lifestyle</td>\n      <td>July 25, 2018</td>\n      <td>Varies with device</td>\n      <td>Varies with device</td>\n    </tr>\n  </tbody>\n</table>\n<p>10841 rows × 13 columns</p>\n</div>"
     },
     "metadata": {},
     "execution_count": 4
    }
   ],
   "source": [
    "data = pd.read_csv(\"../Datasets/googleplaystore.csv\")\n",
    "data"
   ]
  },
  {
   "source": [
    "## Information about the dataset\n",
    "We can see that we have a lot of NaN's or missing values"
   ],
   "cell_type": "markdown",
   "metadata": {}
  },
  {
   "cell_type": "code",
   "execution_count": 5,
   "metadata": {
    "tags": []
   },
   "outputs": [
    {
     "output_type": "stream",
     "name": "stdout",
     "text": "&lt;class &#39;pandas.core.frame.DataFrame&#39;&gt;\nRangeIndex: 10841 entries, 0 to 10840\nData columns (total 13 columns):\n #   Column          Non-Null Count  Dtype  \n---  ------          --------------  -----  \n 0   App             10841 non-null  object \n 1   Category        10841 non-null  object \n 2   Rating          9367 non-null   float64\n 3   Reviews         10841 non-null  object \n 4   Size            10841 non-null  object \n 5   Installs        10841 non-null  object \n 6   Type            10840 non-null  object \n 7   Price           10841 non-null  object \n 8   Content Rating  10840 non-null  object \n 9   Genres          10841 non-null  object \n 10  Last Updated    10841 non-null  object \n 11  Current Ver     10833 non-null  object \n 12  Android Ver     10838 non-null  object \ndtypes: float64(1), object(12)\nmemory usage: 1.1+ MB\n"
    }
   ],
   "source": [
    "data.info()"
   ]
  },
  {
   "source": [
    "## Statistics of the data\n",
    "There is only one numeric attribute. We will treat this as our target variable"
   ],
   "cell_type": "markdown",
   "metadata": {}
  },
  {
   "cell_type": "code",
   "execution_count": 6,
   "metadata": {},
   "outputs": [
    {
     "output_type": "execute_result",
     "data": {
      "text/plain": "            Rating\ncount  9367.000000\nmean      4.193338\nstd       0.537431\nmin       1.000000\n25%       4.000000\n50%       4.300000\n75%       4.500000\nmax      19.000000",
      "text/html": "<div>\n<style scoped>\n    .dataframe tbody tr th:only-of-type {\n        vertical-align: middle;\n    }\n\n    .dataframe tbody tr th {\n        vertical-align: top;\n    }\n\n    .dataframe thead th {\n        text-align: right;\n    }\n</style>\n<table border=\"1\" class=\"dataframe\">\n  <thead>\n    <tr style=\"text-align: right;\">\n      <th></th>\n      <th>Rating</th>\n    </tr>\n  </thead>\n  <tbody>\n    <tr>\n      <th>count</th>\n      <td>9367.000000</td>\n    </tr>\n    <tr>\n      <th>mean</th>\n      <td>4.193338</td>\n    </tr>\n    <tr>\n      <th>std</th>\n      <td>0.537431</td>\n    </tr>\n    <tr>\n      <th>min</th>\n      <td>1.000000</td>\n    </tr>\n    <tr>\n      <th>25%</th>\n      <td>4.000000</td>\n    </tr>\n    <tr>\n      <th>50%</th>\n      <td>4.300000</td>\n    </tr>\n    <tr>\n      <th>75%</th>\n      <td>4.500000</td>\n    </tr>\n    <tr>\n      <th>max</th>\n      <td>19.000000</td>\n    </tr>\n  </tbody>\n</table>\n</div>"
     },
     "metadata": {},
     "execution_count": 6
    }
   ],
   "source": [
    "data.describe()"
   ]
  },
  {
   "source": [
    "## Converting the target variable into integer type\n",
    "So that we have a good 5 class target variable"
   ],
   "cell_type": "markdown",
   "metadata": {}
  },
  {
   "cell_type": "code",
   "execution_count": 7,
   "metadata": {},
   "outputs": [
    {
     "output_type": "execute_result",
     "data": {
      "text/plain": "0        4.0\n1        4.0\n2        5.0\n3        4.0\n4        4.0\n        ... \n10836    4.0\n10837    5.0\n10838    NaN\n10839    4.0\n10840    4.0\nName: Rating, Length: 10841, dtype: float64"
     },
     "metadata": {},
     "execution_count": 7
    }
   ],
   "source": [
    "data[\"Rating\"] = np.round(data[\"Rating\"])\n",
    "data[\"Rating\"]"
   ]
  },
  {
   "source": [
    "## Checking for NaN's in the data\n",
    "isnull() gives a boolean series with True mapped to missing values. We take these values and OR them, essentially knowing if we have any missing values in our dataframe\n"
   ],
   "cell_type": "markdown",
   "metadata": {}
  },
  {
   "cell_type": "code",
   "execution_count": 8,
   "metadata": {},
   "outputs": [
    {
     "output_type": "execute_result",
     "data": {
      "text/plain": "True"
     },
     "metadata": {},
     "execution_count": 8
    }
   ],
   "source": [
    "data.isnull().values.any()"
   ]
  },
  {
   "source": [
    "## Cleaning process\n",
    "NaN's are not equal to NaN's since python3. This is a quick way of finding values that are NaN's in a particular attribute.\n",
    "Here we are cleaning the target variable \"Rating\" tha we are trying to predict.\n",
    "We are not goign to  impute any values because these are target variables and not data"
   ],
   "cell_type": "markdown",
   "metadata": {}
  },
  {
   "cell_type": "code",
   "execution_count": 9,
   "metadata": {},
   "outputs": [
    {
     "output_type": "execute_result",
     "data": {
      "text/plain": "                                       App             Category  Rating  \\\n23                  Mcqueen Coloring pages       ART_AND_DESIGN     NaN   \n113              Wrinkles and rejuvenation               BEAUTY     NaN   \n123                 Manicure - nail design               BEAUTY     NaN   \n126           Skin Care and Natural Beauty               BEAUTY     NaN   \n129    Secrets of beauty, youth and health               BEAUTY     NaN   \n...                                    ...                  ...     ...   \n10824                            Cardio-FR              MEDICAL     NaN   \n10825                   Naruto &amp; Boruto FR               SOCIAL     NaN   \n10831             payermonstationnement.fr  MAPS_AND_NAVIGATION     NaN   \n10835                             FR Forms             BUSINESS     NaN   \n10838               Parkinson Exercices FR              MEDICAL     NaN   \n\n      Reviews  Size  Installs  Type Price Content Rating  \\\n23         61  7.0M  100,000+  Free     0       Everyone   \n113       182  5.7M  100,000+  Free     0   Everyone 10+   \n123       119  3.7M   50,000+  Free     0       Everyone   \n126       654  7.4M  100,000+  Free     0           Teen   \n129        77  2.9M   10,000+  Free     0     Mature 17+   \n...       ...   ...       ...   ...   ...            ...   \n10824      67   82M   10,000+  Free     0       Everyone   \n10825       7  7.7M      100+  Free     0           Teen   \n10831      38  9.8M    5,000+  Free     0       Everyone   \n10835       0  9.6M       10+  Free     0       Everyone   \n10838       3  9.5M    1,000+  Free     0       Everyone   \n\n                                Genres        Last Updated Current Ver  \\\n23     Art &amp; Design;Action &amp; Adventure       March 7, 2018       1.0.0   \n113                             Beauty  September 20, 2017         8.0   \n123                             Beauty       July 23, 2018         1.3   \n126                             Beauty       July 17, 2018        1.15   \n129                             Beauty      August 8, 2017         2.0   \n...                                ...                 ...         ...   \n10824                          Medical       July 31, 2018       2.2.2   \n10825                           Social    February 2, 2018         1.0   \n10831                Maps &amp; Navigation       June 13, 2018   2.0.148.0   \n10835                         Business  September 29, 2016       1.1.5   \n10838                          Medical    January 20, 2017         1.0   \n\n      Android Ver  \n23     4.1 and up  \n113    3.0 and up  \n123    4.1 and up  \n126    4.1 and up  \n129    2.3 and up  \n...           ...  \n10824  4.4 and up  \n10825  4.0 and up  \n10831  4.0 and up  \n10835  4.0 and up  \n10838  2.2 and up  \n\n[1474 rows x 13 columns]",
      "text/html": "<div>\n<style scoped>\n    .dataframe tbody tr th:only-of-type {\n        vertical-align: middle;\n    }\n\n    .dataframe tbody tr th {\n        vertical-align: top;\n    }\n\n    .dataframe thead th {\n        text-align: right;\n    }\n</style>\n<table border=\"1\" class=\"dataframe\">\n  <thead>\n    <tr style=\"text-align: right;\">\n      <th></th>\n      <th>App</th>\n      <th>Category</th>\n      <th>Rating</th>\n      <th>Reviews</th>\n      <th>Size</th>\n      <th>Installs</th>\n      <th>Type</th>\n      <th>Price</th>\n      <th>Content Rating</th>\n      <th>Genres</th>\n      <th>Last Updated</th>\n      <th>Current Ver</th>\n      <th>Android Ver</th>\n    </tr>\n  </thead>\n  <tbody>\n    <tr>\n      <th>23</th>\n      <td>Mcqueen Coloring pages</td>\n      <td>ART_AND_DESIGN</td>\n      <td>NaN</td>\n      <td>61</td>\n      <td>7.0M</td>\n      <td>100,000+</td>\n      <td>Free</td>\n      <td>0</td>\n      <td>Everyone</td>\n      <td>Art &amp; Design;Action &amp; Adventure</td>\n      <td>March 7, 2018</td>\n      <td>1.0.0</td>\n      <td>4.1 and up</td>\n    </tr>\n    <tr>\n      <th>113</th>\n      <td>Wrinkles and rejuvenation</td>\n      <td>BEAUTY</td>\n      <td>NaN</td>\n      <td>182</td>\n      <td>5.7M</td>\n      <td>100,000+</td>\n      <td>Free</td>\n      <td>0</td>\n      <td>Everyone 10+</td>\n      <td>Beauty</td>\n      <td>September 20, 2017</td>\n      <td>8.0</td>\n      <td>3.0 and up</td>\n    </tr>\n    <tr>\n      <th>123</th>\n      <td>Manicure - nail design</td>\n      <td>BEAUTY</td>\n      <td>NaN</td>\n      <td>119</td>\n      <td>3.7M</td>\n      <td>50,000+</td>\n      <td>Free</td>\n      <td>0</td>\n      <td>Everyone</td>\n      <td>Beauty</td>\n      <td>July 23, 2018</td>\n      <td>1.3</td>\n      <td>4.1 and up</td>\n    </tr>\n    <tr>\n      <th>126</th>\n      <td>Skin Care and Natural Beauty</td>\n      <td>BEAUTY</td>\n      <td>NaN</td>\n      <td>654</td>\n      <td>7.4M</td>\n      <td>100,000+</td>\n      <td>Free</td>\n      <td>0</td>\n      <td>Teen</td>\n      <td>Beauty</td>\n      <td>July 17, 2018</td>\n      <td>1.15</td>\n      <td>4.1 and up</td>\n    </tr>\n    <tr>\n      <th>129</th>\n      <td>Secrets of beauty, youth and health</td>\n      <td>BEAUTY</td>\n      <td>NaN</td>\n      <td>77</td>\n      <td>2.9M</td>\n      <td>10,000+</td>\n      <td>Free</td>\n      <td>0</td>\n      <td>Mature 17+</td>\n      <td>Beauty</td>\n      <td>August 8, 2017</td>\n      <td>2.0</td>\n      <td>2.3 and up</td>\n    </tr>\n    <tr>\n      <th>...</th>\n      <td>...</td>\n      <td>...</td>\n      <td>...</td>\n      <td>...</td>\n      <td>...</td>\n      <td>...</td>\n      <td>...</td>\n      <td>...</td>\n      <td>...</td>\n      <td>...</td>\n      <td>...</td>\n      <td>...</td>\n      <td>...</td>\n    </tr>\n    <tr>\n      <th>10824</th>\n      <td>Cardio-FR</td>\n      <td>MEDICAL</td>\n      <td>NaN</td>\n      <td>67</td>\n      <td>82M</td>\n      <td>10,000+</td>\n      <td>Free</td>\n      <td>0</td>\n      <td>Everyone</td>\n      <td>Medical</td>\n      <td>July 31, 2018</td>\n      <td>2.2.2</td>\n      <td>4.4 and up</td>\n    </tr>\n    <tr>\n      <th>10825</th>\n      <td>Naruto &amp; Boruto FR</td>\n      <td>SOCIAL</td>\n      <td>NaN</td>\n      <td>7</td>\n      <td>7.7M</td>\n      <td>100+</td>\n      <td>Free</td>\n      <td>0</td>\n      <td>Teen</td>\n      <td>Social</td>\n      <td>February 2, 2018</td>\n      <td>1.0</td>\n      <td>4.0 and up</td>\n    </tr>\n    <tr>\n      <th>10831</th>\n      <td>payermonstationnement.fr</td>\n      <td>MAPS_AND_NAVIGATION</td>\n      <td>NaN</td>\n      <td>38</td>\n      <td>9.8M</td>\n      <td>5,000+</td>\n      <td>Free</td>\n      <td>0</td>\n      <td>Everyone</td>\n      <td>Maps &amp; Navigation</td>\n      <td>June 13, 2018</td>\n      <td>2.0.148.0</td>\n      <td>4.0 and up</td>\n    </tr>\n    <tr>\n      <th>10835</th>\n      <td>FR Forms</td>\n      <td>BUSINESS</td>\n      <td>NaN</td>\n      <td>0</td>\n      <td>9.6M</td>\n      <td>10+</td>\n      <td>Free</td>\n      <td>0</td>\n      <td>Everyone</td>\n      <td>Business</td>\n      <td>September 29, 2016</td>\n      <td>1.1.5</td>\n      <td>4.0 and up</td>\n    </tr>\n    <tr>\n      <th>10838</th>\n      <td>Parkinson Exercices FR</td>\n      <td>MEDICAL</td>\n      <td>NaN</td>\n      <td>3</td>\n      <td>9.5M</td>\n      <td>1,000+</td>\n      <td>Free</td>\n      <td>0</td>\n      <td>Everyone</td>\n      <td>Medical</td>\n      <td>January 20, 2017</td>\n      <td>1.0</td>\n      <td>2.2 and up</td>\n    </tr>\n  </tbody>\n</table>\n<p>1474 rows × 13 columns</p>\n</div>"
     },
     "metadata": {},
     "execution_count": 9
    }
   ],
   "source": [
    "data[data[\"Rating\"]!=data[\"Rating\"]]"
   ]
  },
  {
   "source": [
    "## Getting dataframe indices of the NaqN values"
   ],
   "cell_type": "markdown",
   "metadata": {}
  },
  {
   "cell_type": "code",
   "execution_count": 10,
   "metadata": {},
   "outputs": [
    {
     "output_type": "execute_result",
     "data": {
      "text/plain": "[23,\n 113,\n 123,\n 126,\n 129,\n 130,\n 134,\n 163,\n 180,\n 185,\n 227,\n 321,\n 478,\n 479,\n 480,\n 610,\n 613,\n 617,\n 620,\n 621,\n 623,\n 624,\n 626,\n 627,\n 628,\n 629,\n 630,\n 631,\n 632,\n 635,\n 637,\n 638,\n 639,\n 641,\n 642,\n 643,\n 644,\n 647,\n 648,\n 649,\n 650,\n 651,\n 652,\n 653,\n 658,\n 659,\n 660,\n 666,\n 669,\n 683,\n 698,\n 704,\n 1013,\n 1024,\n 1025,\n 1032,\n 1033,\n 1034,\n 1039,\n 1041,\n 1043,\n 1045,\n 1046,\n 1177,\n 1180,\n 1455,\n 1469,\n 1478,\n 1484,\n 1489,\n 1517,\n 1519,\n 1520,\n 1530,\n 1534,\n 1536,\n 1537,\n 1539,\n 1540,\n 1552,\n 1557,\n 1559,\n 2111,\n 2265,\n 2280,\n 2294,\n 2356,\n 2390,\n 2419,\n 2422,\n 2423,\n 2424,\n 2425,\n 2430,\n 2431,\n 2432,\n 2433,\n 2434,\n 2435,\n 2436,\n 2437,\n 2438,\n 2439,\n 2440,\n 2441,\n 2442,\n 2443,\n 2446,\n 2447,\n 2449,\n 2451,\n 2453,\n 2456,\n 2460,\n 2461,\n 2462,\n 2465,\n 2466,\n 2467,\n 2468,\n 2469,\n 2470,\n 2471,\n 2473,\n 2474,\n 2478,\n 2479,\n 2480,\n 2481,\n 2483,\n 2485,\n 2498,\n 2501,\n 2502,\n 2503,\n 2513,\n 2516,\n 2529,\n 2540,\n 3252,\n 3258,\n 3577,\n 3579,\n 3580,\n 3583,\n 3585,\n 3589,\n 3599,\n 3603,\n 3616,\n 3621,\n 3705,\n 3959,\n 3985,\n 4130,\n 4134,\n 4137,\n 4139,\n 4177,\n 4201,\n 4218,\n 4256,\n 4265,\n 4269,\n 4270,\n 4273,\n 4278,\n 4303,\n 4307,\n 4308,\n 4315,\n 4431,\n 4451,\n 4457,\n 4459,\n 4462,\n 4465,\n 4471,\n 4475,\n 4482,\n 4485,\n 4489,\n 4504,\n 4520,\n 4532,\n 4537,\n 4538,\n 4543,\n 4546,\n 4548,\n 4549,\n 4550,\n 4551,\n 4562,\n 4564,\n 4565,\n 4697,\n 4776,\n 4845,\n 4848,\n 4884,\n 4889,\n 4894,\n 5023,\n 5029,\n 5034,\n 5050,\n 5051,\n 5052,\n 5056,\n 5059,\n 5061,\n 5068,\n 5072,\n 5086,\n 5088,\n 5090,\n 5093,\n 5096,\n 5098,\n 5099,\n 5100,\n 5101,\n 5106,\n 5107,\n 5109,\n 5110,\n 5111,\n 5112,\n 5113,\n 5114,\n 5115,\n 5116,\n 5119,\n 5120,\n 5122,\n 5123,\n 5124,\n 5126,\n 5127,\n 5131,\n 5132,\n 5134,\n 5135,\n 5136,\n 5140,\n 5141,\n 5142,\n 5147,\n 5152,\n 5154,\n 5155,\n 5157,\n 5159,\n 5160,\n 5161,\n 5162,\n 5163,\n 5164,\n 5165,\n 5166,\n 5168,\n 5169,\n 5170,\n 5171,\n 5172,\n 5174,\n 5176,\n 5177,\n 5208,\n 5213,\n 5217,\n 5218,\n 5229,\n 5231,\n 5232,\n 5234,\n 5240,\n 5243,\n 5247,\n 5249,\n 5250,\n 5253,\n 5255,\n 5256,\n 5259,\n 5262,\n 5264,\n 5265,\n 5266,\n 5269,\n 5270,\n 5271,\n 5274,\n 5281,\n 5288,\n 5289,\n 5290,\n 5296,\n 5298,\n 5300,\n 5301,\n 5302,\n 5303,\n 5307,\n 5407,\n 5414,\n 5457,\n 5461,\n 5480,\n 5484,\n 5486,\n 5494,\n 5497,\n 5498,\n 5499,\n 5500,\n 5508,\n 5510,\n 5511,\n 5513,\n 5564,\n 5575,\n 5669,\n 5676,\n 5677,\n 5680,\n 5682,\n 5683,\n 5687,\n 5688,\n 5690,\n 5694,\n 5713,\n 5730,\n 5734,\n 5739,\n 5742,\n 5750,\n 5753,\n 5754,\n 5756,\n 5757,\n 5762,\n 5771,\n 5788,\n 5792,\n 5793,\n 5796,\n 5798,\n 5800,\n 5804,\n 5807,\n 5809,\n 5810,\n 5812,\n 5816,\n 5817,\n 5824,\n 5832,\n 5833,\n 5834,\n 5835,\n 5837,\n 5838,\n 5839,\n 5840,\n 5841,\n 5843,\n 5845,\n 5846,\n 5851,\n 5853,\n 5854,\n 5855,\n 5857,\n 5882,\n 5891,\n 5918,\n 5921,\n 5923,\n 5924,\n 5925,\n 5927,\n 5942,\n 5943,\n 5945,\n 5951,\n 5967,\n 5976,\n 5977,\n 5985,\n 5991,\n 5992,\n 5998,\n 6011,\n 6085,\n 6109,\n 6110,\n 6114,\n 6117,\n 6118,\n 6122,\n 6138,\n 6139,\n 6143,\n 6145,\n 6147,\n 6149,\n 6150,\n 6151,\n 6152,\n 6153,\n 6154,\n 6157,\n 6158,\n 6162,\n 6163,\n 6164,\n 6165,\n 6170,\n 6172,\n 6173,\n 6174,\n 6176,\n 6179,\n 6182,\n 6186,\n 6190,\n 6192,\n 6199,\n 6208,\n 6225,\n 6229,\n 6230,\n 6231,\n 6233,\n 6234,\n 6235,\n 6237,\n 6239,\n 6240,\n 6243,\n 6246,\n 6250,\n 6257,\n 6258,\n 6259,\n 6260,\n 6261,\n 6277,\n 6278,\n 6291,\n 6292,\n 6318,\n 6320,\n 6325,\n 6328,\n 6329,\n 6333,\n 6334,\n 6335,\n 6336,\n 6337,\n 6339,\n 6345,\n 6357,\n 6360,\n 6365,\n 6366,\n 6367,\n 6377,\n 6389,\n 6393,\n 6394,\n 6399,\n 6425,\n 6428,\n 6430,\n 6433,\n 6434,\n 6435,\n 6436,\n 6437,\n 6443,\n 6444,\n 6445,\n 6456,\n 6460,\n 6464,\n 6469,\n 6470,\n 6473,\n 6475,\n 6478,\n 6479,\n 6480,\n 6481,\n 6482,\n 6483,\n 6487,\n 6488,\n 6492,\n 6499,\n 6502,\n 6508,\n 6518,\n 6519,\n 6527,\n 6528,\n 6530,\n 6542,\n 6544,\n 6545,\n 6555,\n 6559,\n 6560,\n 6567,\n 6569,\n 6596,\n 6598,\n 6606,\n 6613,\n 6623,\n 6624,\n 6633,\n 6634,\n 6637,\n 6638,\n 6639,\n 6641,\n 6642,\n 6644,\n 6653,\n 6657,\n 6659,\n 6664,\n 6665,\n 6667,\n 6668,\n 6669,\n 6670,\n 6671,\n 6672,\n 6683,\n 6689,\n 6692,\n 6693,\n 6695,\n 6696,\n 6699,\n 6701,\n 6703,\n 6704,\n 6706,\n 6710,\n 6711,\n 6732,\n 6733,\n 6734,\n 6736,\n 6738,\n 6742,\n 6743,\n 6746,\n 6750,\n 6751,\n 6753,\n 6755,\n 6778,\n 6780,\n 6795,\n 6800,\n 6801,\n 6803,\n 6804,\n 6805,\n 6808,\n 6809,\n 6815,\n 6817,\n 6818,\n 6819,\n 6821,\n 6826,\n 6828,\n 6829,\n 6831,\n 6832,\n 6834,\n 6835,\n 6838,\n 6839,\n 6841,\n 6842,\n 6843,\n 6844,\n 6846,\n 6853,\n 6854,\n 6855,\n 6857,\n 6859,\n 6862,\n 6864,\n 6865,\n 6866,\n 6868,\n 6869,\n 6871,\n 6872,\n 6873,\n 6875,\n 6876,\n 6878,\n 6879,\n 6880,\n 6888,\n 6890,\n 6893,\n 6904,\n 6912,\n 6915,\n 6916,\n 6917,\n 6918,\n 6928,\n 6932,\n 6933,\n 6937,\n 6938,\n 6940,\n 6941,\n 6950,\n 6952,\n 6954,\n 6955,\n 6956,\n 6959,\n 6962,\n 6965,\n 6967,\n 7034,\n 7038,\n 7040,\n 7047,\n 7049,\n 7051,\n 7053,\n 7056,\n 7058,\n 7060,\n 7061,\n 7064,\n 7073,\n 7074,\n 7081,\n 7083,\n 7084,\n 7087,\n 7092,\n 7101,\n 7114,\n 7116,\n 7117,\n 7120,\n 7121,\n 7123,\n 7129,\n 7130,\n 7133,\n 7135,\n 7138,\n 7140,\n 7141,\n 7153,\n 7154,\n 7156,\n 7157,\n 7158,\n 7160,\n 7161,\n 7163,\n 7166,\n 7167,\n 7168,\n 7169,\n 7171,\n 7172,\n 7173,\n 7174,\n 7176,\n 7180,\n 7181,\n 7182,\n 7183,\n 7184,\n 7185,\n 7188,\n 7189,\n 7190,\n 7199,\n 7202,\n 7203,\n 7208,\n 7211,\n 7214,\n 7217,\n 7220,\n 7221,\n 7222,\n 7224,\n 7225,\n 7226,\n 7227,\n 7228,\n 7230,\n 7231,\n 7232,\n 7233,\n 7234,\n 7246,\n 7249,\n 7251,\n 7252,\n 7255,\n 7256,\n 7257,\n 7259,\n 7262,\n 7263,\n 7264,\n 7265,\n 7268,\n 7269,\n 7271,\n 7272,\n 7274,\n 7275,\n 7276,\n 7277,\n 7278,\n 7279,\n 7293,\n 7294,\n 7296,\n 7305,\n 7306,\n 7308,\n 7311,\n 7312,\n 7317,\n 7318,\n 7322,\n 7332,\n 7335,\n 7339,\n 7342,\n 7343,\n 7344,\n 7346,\n 7361,\n 7370,\n 7371,\n 7376,\n 7378,\n 7380,\n 7382,\n 7384,\n 7386,\n 7387,\n 7388,\n 7389,\n 7390,\n 7391,\n 7394,\n 7395,\n 7396,\n 7400,\n 7401,\n 7407,\n 7409,\n 7410,\n 7432,\n 7434,\n 7440,\n 7445,\n 7447,\n 7448,\n 7460,\n 7472,\n 7476,\n 7481,\n 7485,\n 7486,\n 7488,\n 7493,\n 7494,\n 7502,\n 7503,\n 7504,\n 7505,\n 7516,\n 7521,\n 7522,\n 7526,\n 7528,\n 7529,\n 7531,\n 7532,\n 7581,\n 7622,\n 7629,\n 7642,\n 7652,\n 7663,\n 7679,\n 7681,\n 7691,\n 7694,\n 7702,\n 7703,\n 7710,\n 7712,\n 7713,\n 7714,\n 7719,\n 7720,\n 7724,\n 7726,\n 7728,\n 7730,\n 7732,\n 7735,\n 7737,\n 7745,\n 7747,\n 7748,\n 7757,\n 7759,\n 7775,\n 7778,\n 7787,\n 7790,\n 7800,\n 7804,\n 7827,\n 7832,\n 7843,\n 7854,\n 7862,\n 7873,\n 7874,\n 7878,\n 7882,\n 7884,\n 7888,\n 7891,\n 7893,\n 7897,\n 7898,\n 7901,\n 7981,\n 7994,\n 8005,\n 8007,\n 8009,\n 8011,\n 8017,\n 8019,\n 8055,\n 8057,\n 8060,\n 8062,\n 8065,\n 8066,\n 8067,\n 8068,\n 8069,\n 8070,\n 8072,\n 8076,\n 8078,\n 8079,\n 8080,\n 8081,\n 8091,\n 8093,\n 8094,\n 8097,\n 8103,\n 8105,\n 8106,\n 8109,\n 8110,\n 8112,\n 8113,\n 8114,\n 8119,\n 8137,\n 8139,\n 8140,\n 8145,\n 8147,\n 8148,\n 8150,\n 8151,\n 8154,\n 8155,\n 8160,\n 8161,\n 8165,\n 8169,\n 8206,\n 8209,\n 8210,\n 8217,\n 8218,\n 8223,\n 8225,\n 8232,\n 8241,\n 8242,\n 8243,\n 8262,\n 8278,\n 8280,\n 8282,\n 8283,\n 8318,\n 8319,\n 8322,\n 8328,\n 8329,\n 8330,\n 8331,\n 8332,\n 8333,\n 8334,\n 8337,\n 8338,\n 8339,\n 8340,\n 8341,\n 8342,\n 8344,\n 8345,\n 8346,\n 8348,\n 8349,\n 8351,\n 8354,\n 8355,\n 8356,\n 8358,\n 8359,\n 8384,\n 8389,\n 8390,\n 8393,\n 8414,\n 8425,\n 8431,\n 8435,\n 8488,\n 8489,\n 8490,\n 8495,\n 8499,\n 8501,\n 8502,\n 8504,\n 8505,\n 8506,\n 8509,\n 8510,\n 8548,\n 8556,\n 8562,\n 8565,\n 8566,\n 8567,\n 8568,\n 8573,\n 8575,\n 8576,\n 8577,\n 8578,\n 8579,\n 8580,\n 8581,\n 8583,\n 8588,\n 8593,\n 8597,\n 8598,\n 8599,\n 8600,\n 8602,\n 8603,\n ...]"
     },
     "metadata": {},
     "execution_count": 10
    }
   ],
   "source": [
    "nans = data[data[\"Rating\"]!=data[\"Rating\"]].index.tolist()\n",
    "nans"
   ]
  },
  {
   "source": [
    "## Drop the indices of NaN values"
   ],
   "cell_type": "markdown",
   "metadata": {}
  },
  {
   "cell_type": "code",
   "execution_count": 11,
   "metadata": {},
   "outputs": [],
   "source": [
    "data = data.drop(nans,axis = 0)"
   ]
  },
  {
   "source": [
    "## Sanity Checking if cleaning worked\n",
    "We can see it results in zero rows. SO cleaning was successful"
   ],
   "cell_type": "markdown",
   "metadata": {}
  },
  {
   "cell_type": "code",
   "execution_count": 12,
   "metadata": {},
   "outputs": [
    {
     "output_type": "execute_result",
     "data": {
      "text/plain": "Empty DataFrame\nColumns: [App, Category, Rating, Reviews, Size, Installs, Type, Price, Content Rating, Genres, Last Updated, Current Ver, Android Ver]\nIndex: []",
      "text/html": "<div>\n<style scoped>\n    .dataframe tbody tr th:only-of-type {\n        vertical-align: middle;\n    }\n\n    .dataframe tbody tr th {\n        vertical-align: top;\n    }\n\n    .dataframe thead th {\n        text-align: right;\n    }\n</style>\n<table border=\"1\" class=\"dataframe\">\n  <thead>\n    <tr style=\"text-align: right;\">\n      <th></th>\n      <th>App</th>\n      <th>Category</th>\n      <th>Rating</th>\n      <th>Reviews</th>\n      <th>Size</th>\n      <th>Installs</th>\n      <th>Type</th>\n      <th>Price</th>\n      <th>Content Rating</th>\n      <th>Genres</th>\n      <th>Last Updated</th>\n      <th>Current Ver</th>\n      <th>Android Ver</th>\n    </tr>\n  </thead>\n  <tbody>\n  </tbody>\n</table>\n</div>"
     },
     "metadata": {},
     "execution_count": 12
    }
   ],
   "source": [
    "data[data[\"Rating\"]!=data[\"Rating\"]]"
   ]
  },
  {
   "source": [
    "## We still have some missing values"
   ],
   "cell_type": "markdown",
   "metadata": {}
  },
  {
   "cell_type": "code",
   "execution_count": 13,
   "metadata": {},
   "outputs": [
    {
     "output_type": "execute_result",
     "data": {
      "text/plain": "True"
     },
     "metadata": {},
     "execution_count": 13
    }
   ],
   "source": [
    "data.isnull().values.any()"
   ]
  },
  {
   "source": [
    "## Checking where the missing values are\n",
    "We can observe the missing values are coming from $[\"Content Rating\",\"Current Ver\",\"Android Ver\"]$"
   ],
   "cell_type": "markdown",
   "metadata": {}
  },
  {
   "cell_type": "code",
   "execution_count": 14,
   "metadata": {
    "tags": []
   },
   "outputs": [
    {
     "output_type": "stream",
     "name": "stdout",
     "text": "&lt;class &#39;pandas.core.frame.DataFrame&#39;&gt;\nInt64Index: 9367 entries, 0 to 10840\nData columns (total 13 columns):\n #   Column          Non-Null Count  Dtype  \n---  ------          --------------  -----  \n 0   App             9367 non-null   object \n 1   Category        9367 non-null   object \n 2   Rating          9367 non-null   float64\n 3   Reviews         9367 non-null   object \n 4   Size            9367 non-null   object \n 5   Installs        9367 non-null   object \n 6   Type            9367 non-null   object \n 7   Price           9367 non-null   object \n 8   Content Rating  9366 non-null   object \n 9   Genres          9367 non-null   object \n 10  Last Updated    9367 non-null   object \n 11  Current Ver     9363 non-null   object \n 12  Android Ver     9364 non-null   object \ndtypes: float64(1), object(12)\nmemory usage: 1.0+ MB\n"
    }
   ],
   "source": [
    "data.info()"
   ]
  },
  {
   "source": [
    "## Cleaning the data\n",
    "We use a forloop to speed up the process. Much simpler to understand"
   ],
   "cell_type": "markdown",
   "metadata": {}
  },
  {
   "cell_type": "code",
   "execution_count": 15,
   "metadata": {},
   "outputs": [],
   "source": [
    "data_clean = data.copy()\n",
    "for col in [\"Content Rating\",\"Current Ver\",\"Android Ver\"]:\n",
    "    data_clean = data_clean.drop(data_clean[data_clean[col]!=data_clean[col]].index.tolist(),axis = 0)"
   ]
  },
  {
   "source": [
    "## Viewing the data"
   ],
   "cell_type": "markdown",
   "metadata": {}
  },
  {
   "cell_type": "code",
   "execution_count": 16,
   "metadata": {},
   "outputs": [
    {
     "output_type": "execute_result",
     "data": {
      "text/plain": "                                                     App             Category  \\\n0         Photo Editor &amp; Candy Camera &amp; Grid &amp; ScrapBook       ART_AND_DESIGN   \n1                                    Coloring book moana       ART_AND_DESIGN   \n2      U Launcher Lite – FREE Live Cool Themes, Hide ...       ART_AND_DESIGN   \n3                                  Sketch - Draw &amp; Paint       ART_AND_DESIGN   \n4                  Pixel Draw - Number Art Coloring Book       ART_AND_DESIGN   \n...                                                  ...                  ...   \n10834                                      FR Calculator               FAMILY   \n10836                                   Sya9a Maroc - FR               FAMILY   \n10837                   Fr. Mike Schmitz Audio Teachings               FAMILY   \n10839                      The SCP Foundation DB fr nn5n  BOOKS_AND_REFERENCE   \n10840      iHoroscope - 2018 Daily Horoscope &amp; Astrology            LIFESTYLE   \n\n       Rating Reviews                Size     Installs  Type Price  \\\n0         4.0     159                 19M      10,000+  Free     0   \n1         4.0     967                 14M     500,000+  Free     0   \n2         5.0   87510                8.7M   5,000,000+  Free     0   \n3         4.0  215644                 25M  50,000,000+  Free     0   \n4         4.0     967                2.8M     100,000+  Free     0   \n...       ...     ...                 ...          ...   ...   ...   \n10834     4.0       7                2.6M         500+  Free     0   \n10836     4.0      38                 53M       5,000+  Free     0   \n10837     5.0       4                3.6M         100+  Free     0   \n10839     4.0     114  Varies with device       1,000+  Free     0   \n10840     4.0  398307                 19M  10,000,000+  Free     0   \n\n      Content Rating                     Genres      Last Updated  \\\n0           Everyone               Art &amp; Design   January 7, 2018   \n1           Everyone  Art &amp; Design;Pretend Play  January 15, 2018   \n2           Everyone               Art &amp; Design    August 1, 2018   \n3               Teen               Art &amp; Design      June 8, 2018   \n4           Everyone    Art &amp; Design;Creativity     June 20, 2018   \n...              ...                        ...               ...   \n10834       Everyone                  Education     June 18, 2017   \n10836       Everyone                  Education     July 25, 2017   \n10837       Everyone                  Education      July 6, 2018   \n10839     Mature 17+          Books &amp; Reference  January 19, 2015   \n10840       Everyone                  Lifestyle     July 25, 2018   \n\n              Current Ver         Android Ver  \n0                   1.0.0        4.0.3 and up  \n1                   2.0.0        4.0.3 and up  \n2                   1.2.4        4.0.3 and up  \n3      Varies with device          4.2 and up  \n4                     1.1          4.4 and up  \n...                   ...                 ...  \n10834               1.0.0          4.1 and up  \n10836                1.48          4.1 and up  \n10837                 1.0          4.1 and up  \n10839  Varies with device  Varies with device  \n10840  Varies with device  Varies with device  \n\n[9360 rows x 13 columns]",
      "text/html": "<div>\n<style scoped>\n    .dataframe tbody tr th:only-of-type {\n        vertical-align: middle;\n    }\n\n    .dataframe tbody tr th {\n        vertical-align: top;\n    }\n\n    .dataframe thead th {\n        text-align: right;\n    }\n</style>\n<table border=\"1\" class=\"dataframe\">\n  <thead>\n    <tr style=\"text-align: right;\">\n      <th></th>\n      <th>App</th>\n      <th>Category</th>\n      <th>Rating</th>\n      <th>Reviews</th>\n      <th>Size</th>\n      <th>Installs</th>\n      <th>Type</th>\n      <th>Price</th>\n      <th>Content Rating</th>\n      <th>Genres</th>\n      <th>Last Updated</th>\n      <th>Current Ver</th>\n      <th>Android Ver</th>\n    </tr>\n  </thead>\n  <tbody>\n    <tr>\n      <th>0</th>\n      <td>Photo Editor &amp; Candy Camera &amp; Grid &amp; ScrapBook</td>\n      <td>ART_AND_DESIGN</td>\n      <td>4.0</td>\n      <td>159</td>\n      <td>19M</td>\n      <td>10,000+</td>\n      <td>Free</td>\n      <td>0</td>\n      <td>Everyone</td>\n      <td>Art &amp; Design</td>\n      <td>January 7, 2018</td>\n      <td>1.0.0</td>\n      <td>4.0.3 and up</td>\n    </tr>\n    <tr>\n      <th>1</th>\n      <td>Coloring book moana</td>\n      <td>ART_AND_DESIGN</td>\n      <td>4.0</td>\n      <td>967</td>\n      <td>14M</td>\n      <td>500,000+</td>\n      <td>Free</td>\n      <td>0</td>\n      <td>Everyone</td>\n      <td>Art &amp; Design;Pretend Play</td>\n      <td>January 15, 2018</td>\n      <td>2.0.0</td>\n      <td>4.0.3 and up</td>\n    </tr>\n    <tr>\n      <th>2</th>\n      <td>U Launcher Lite – FREE Live Cool Themes, Hide ...</td>\n      <td>ART_AND_DESIGN</td>\n      <td>5.0</td>\n      <td>87510</td>\n      <td>8.7M</td>\n      <td>5,000,000+</td>\n      <td>Free</td>\n      <td>0</td>\n      <td>Everyone</td>\n      <td>Art &amp; Design</td>\n      <td>August 1, 2018</td>\n      <td>1.2.4</td>\n      <td>4.0.3 and up</td>\n    </tr>\n    <tr>\n      <th>3</th>\n      <td>Sketch - Draw &amp; Paint</td>\n      <td>ART_AND_DESIGN</td>\n      <td>4.0</td>\n      <td>215644</td>\n      <td>25M</td>\n      <td>50,000,000+</td>\n      <td>Free</td>\n      <td>0</td>\n      <td>Teen</td>\n      <td>Art &amp; Design</td>\n      <td>June 8, 2018</td>\n      <td>Varies with device</td>\n      <td>4.2 and up</td>\n    </tr>\n    <tr>\n      <th>4</th>\n      <td>Pixel Draw - Number Art Coloring Book</td>\n      <td>ART_AND_DESIGN</td>\n      <td>4.0</td>\n      <td>967</td>\n      <td>2.8M</td>\n      <td>100,000+</td>\n      <td>Free</td>\n      <td>0</td>\n      <td>Everyone</td>\n      <td>Art &amp; Design;Creativity</td>\n      <td>June 20, 2018</td>\n      <td>1.1</td>\n      <td>4.4 and up</td>\n    </tr>\n    <tr>\n      <th>...</th>\n      <td>...</td>\n      <td>...</td>\n      <td>...</td>\n      <td>...</td>\n      <td>...</td>\n      <td>...</td>\n      <td>...</td>\n      <td>...</td>\n      <td>...</td>\n      <td>...</td>\n      <td>...</td>\n      <td>...</td>\n      <td>...</td>\n    </tr>\n    <tr>\n      <th>10834</th>\n      <td>FR Calculator</td>\n      <td>FAMILY</td>\n      <td>4.0</td>\n      <td>7</td>\n      <td>2.6M</td>\n      <td>500+</td>\n      <td>Free</td>\n      <td>0</td>\n      <td>Everyone</td>\n      <td>Education</td>\n      <td>June 18, 2017</td>\n      <td>1.0.0</td>\n      <td>4.1 and up</td>\n    </tr>\n    <tr>\n      <th>10836</th>\n      <td>Sya9a Maroc - FR</td>\n      <td>FAMILY</td>\n      <td>4.0</td>\n      <td>38</td>\n      <td>53M</td>\n      <td>5,000+</td>\n      <td>Free</td>\n      <td>0</td>\n      <td>Everyone</td>\n      <td>Education</td>\n      <td>July 25, 2017</td>\n      <td>1.48</td>\n      <td>4.1 and up</td>\n    </tr>\n    <tr>\n      <th>10837</th>\n      <td>Fr. Mike Schmitz Audio Teachings</td>\n      <td>FAMILY</td>\n      <td>5.0</td>\n      <td>4</td>\n      <td>3.6M</td>\n      <td>100+</td>\n      <td>Free</td>\n      <td>0</td>\n      <td>Everyone</td>\n      <td>Education</td>\n      <td>July 6, 2018</td>\n      <td>1.0</td>\n      <td>4.1 and up</td>\n    </tr>\n    <tr>\n      <th>10839</th>\n      <td>The SCP Foundation DB fr nn5n</td>\n      <td>BOOKS_AND_REFERENCE</td>\n      <td>4.0</td>\n      <td>114</td>\n      <td>Varies with device</td>\n      <td>1,000+</td>\n      <td>Free</td>\n      <td>0</td>\n      <td>Mature 17+</td>\n      <td>Books &amp; Reference</td>\n      <td>January 19, 2015</td>\n      <td>Varies with device</td>\n      <td>Varies with device</td>\n    </tr>\n    <tr>\n      <th>10840</th>\n      <td>iHoroscope - 2018 Daily Horoscope &amp; Astrology</td>\n      <td>LIFESTYLE</td>\n      <td>4.0</td>\n      <td>398307</td>\n      <td>19M</td>\n      <td>10,000,000+</td>\n      <td>Free</td>\n      <td>0</td>\n      <td>Everyone</td>\n      <td>Lifestyle</td>\n      <td>July 25, 2018</td>\n      <td>Varies with device</td>\n      <td>Varies with device</td>\n    </tr>\n  </tbody>\n</table>\n<p>9360 rows × 13 columns</p>\n</div>"
     },
     "metadata": {},
     "execution_count": 16
    }
   ],
   "source": [
    "data_clean"
   ]
  },
  {
   "source": [
    "## Checking for Missing values.\n",
    "We have no missing values"
   ],
   "cell_type": "markdown",
   "metadata": {}
  },
  {
   "cell_type": "code",
   "execution_count": 17,
   "metadata": {
    "tags": []
   },
   "outputs": [
    {
     "output_type": "stream",
     "name": "stdout",
     "text": "&lt;class &#39;pandas.core.frame.DataFrame&#39;&gt;\nInt64Index: 9360 entries, 0 to 10840\nData columns (total 13 columns):\n #   Column          Non-Null Count  Dtype  \n---  ------          --------------  -----  \n 0   App             9360 non-null   object \n 1   Category        9360 non-null   object \n 2   Rating          9360 non-null   float64\n 3   Reviews         9360 non-null   object \n 4   Size            9360 non-null   object \n 5   Installs        9360 non-null   object \n 6   Type            9360 non-null   object \n 7   Price           9360 non-null   object \n 8   Content Rating  9360 non-null   object \n 9   Genres          9360 non-null   object \n 10  Last Updated    9360 non-null   object \n 11  Current Ver     9360 non-null   object \n 12  Android Ver     9360 non-null   object \ndtypes: float64(1), object(12)\nmemory usage: 1023.8+ KB\n"
    }
   ],
   "source": [
    "data_clean.info()"
   ]
  },
  {
   "source": [
    "## Sanity Checking"
   ],
   "cell_type": "markdown",
   "metadata": {}
  },
  {
   "cell_type": "code",
   "execution_count": 18,
   "metadata": {},
   "outputs": [
    {
     "output_type": "execute_result",
     "data": {
      "text/plain": "False"
     },
     "metadata": {},
     "execution_count": 18
    }
   ],
   "source": [
    "data_clean.isnull().values.any()"
   ]
  },
  {
   "source": [
    "## Helper Functions to clean columns \"Size\" and \"Installs\"\n",
    "Removing the \"M\" tokens in the size and making sure the kb values are represented as MB. Any other values are converted to zero"
   ],
   "cell_type": "markdown",
   "metadata": {}
  },
  {
   "cell_type": "code",
   "execution_count": 19,
   "metadata": {
    "tags": []
   },
   "outputs": [],
   "source": [
    "def temp(x):\n",
    "    if \"M\" in x:\n",
    "        return(x[:-1])\n",
    "    elif \"k\" in x:\n",
    "        return(float(x[:-1])/1000)\n",
    "    else:\n",
    "        return 0\n",
    "data_clean[\"Size\"] = data_clean[\"Size\"].apply(temp)"
   ]
  },
  {
   "source": [
    "Installs has \"+\" at the end, we remove that."
   ],
   "cell_type": "markdown",
   "metadata": {}
  },
  {
   "cell_type": "code",
   "execution_count": 20,
   "metadata": {
    "tags": []
   },
   "outputs": [],
   "source": [
    "def inst(x):\n",
    "    if \"+\" in x:\n",
    "        return(x[:-1])\n",
    "data_clean[\"Installs\"] = data_clean[\"Installs\"].apply(inst)"
   ]
  },
  {
   "source": [
    "## Viewing the data"
   ],
   "cell_type": "markdown",
   "metadata": {}
  },
  {
   "cell_type": "code",
   "execution_count": 21,
   "metadata": {},
   "outputs": [
    {
     "output_type": "execute_result",
     "data": {
      "text/plain": "                                                     App             Category  \\\n0         Photo Editor &amp; Candy Camera &amp; Grid &amp; ScrapBook       ART_AND_DESIGN   \n1                                    Coloring book moana       ART_AND_DESIGN   \n2      U Launcher Lite – FREE Live Cool Themes, Hide ...       ART_AND_DESIGN   \n3                                  Sketch - Draw &amp; Paint       ART_AND_DESIGN   \n4                  Pixel Draw - Number Art Coloring Book       ART_AND_DESIGN   \n...                                                  ...                  ...   \n10834                                      FR Calculator               FAMILY   \n10836                                   Sya9a Maroc - FR               FAMILY   \n10837                   Fr. Mike Schmitz Audio Teachings               FAMILY   \n10839                      The SCP Foundation DB fr nn5n  BOOKS_AND_REFERENCE   \n10840      iHoroscope - 2018 Daily Horoscope &amp; Astrology            LIFESTYLE   \n\n       Rating Reviews Size    Installs  Type Price Content Rating  \\\n0         4.0     159   19      10,000  Free     0       Everyone   \n1         4.0     967   14     500,000  Free     0       Everyone   \n2         5.0   87510  8.7   5,000,000  Free     0       Everyone   \n3         4.0  215644   25  50,000,000  Free     0           Teen   \n4         4.0     967  2.8     100,000  Free     0       Everyone   \n...       ...     ...  ...         ...   ...   ...            ...   \n10834     4.0       7  2.6         500  Free     0       Everyone   \n10836     4.0      38   53       5,000  Free     0       Everyone   \n10837     5.0       4  3.6         100  Free     0       Everyone   \n10839     4.0     114    0       1,000  Free     0     Mature 17+   \n10840     4.0  398307   19  10,000,000  Free     0       Everyone   \n\n                          Genres      Last Updated         Current Ver  \\\n0                   Art &amp; Design   January 7, 2018               1.0.0   \n1      Art &amp; Design;Pretend Play  January 15, 2018               2.0.0   \n2                   Art &amp; Design    August 1, 2018               1.2.4   \n3                   Art &amp; Design      June 8, 2018  Varies with device   \n4        Art &amp; Design;Creativity     June 20, 2018                 1.1   \n...                          ...               ...                 ...   \n10834                  Education     June 18, 2017               1.0.0   \n10836                  Education     July 25, 2017                1.48   \n10837                  Education      July 6, 2018                 1.0   \n10839          Books &amp; Reference  January 19, 2015  Varies with device   \n10840                  Lifestyle     July 25, 2018  Varies with device   \n\n              Android Ver  \n0            4.0.3 and up  \n1            4.0.3 and up  \n2            4.0.3 and up  \n3              4.2 and up  \n4              4.4 and up  \n...                   ...  \n10834          4.1 and up  \n10836          4.1 and up  \n10837          4.1 and up  \n10839  Varies with device  \n10840  Varies with device  \n\n[9360 rows x 13 columns]",
      "text/html": "<div>\n<style scoped>\n    .dataframe tbody tr th:only-of-type {\n        vertical-align: middle;\n    }\n\n    .dataframe tbody tr th {\n        vertical-align: top;\n    }\n\n    .dataframe thead th {\n        text-align: right;\n    }\n</style>\n<table border=\"1\" class=\"dataframe\">\n  <thead>\n    <tr style=\"text-align: right;\">\n      <th></th>\n      <th>App</th>\n      <th>Category</th>\n      <th>Rating</th>\n      <th>Reviews</th>\n      <th>Size</th>\n      <th>Installs</th>\n      <th>Type</th>\n      <th>Price</th>\n      <th>Content Rating</th>\n      <th>Genres</th>\n      <th>Last Updated</th>\n      <th>Current Ver</th>\n      <th>Android Ver</th>\n    </tr>\n  </thead>\n  <tbody>\n    <tr>\n      <th>0</th>\n      <td>Photo Editor &amp; Candy Camera &amp; Grid &amp; ScrapBook</td>\n      <td>ART_AND_DESIGN</td>\n      <td>4.0</td>\n      <td>159</td>\n      <td>19</td>\n      <td>10,000</td>\n      <td>Free</td>\n      <td>0</td>\n      <td>Everyone</td>\n      <td>Art &amp; Design</td>\n      <td>January 7, 2018</td>\n      <td>1.0.0</td>\n      <td>4.0.3 and up</td>\n    </tr>\n    <tr>\n      <th>1</th>\n      <td>Coloring book moana</td>\n      <td>ART_AND_DESIGN</td>\n      <td>4.0</td>\n      <td>967</td>\n      <td>14</td>\n      <td>500,000</td>\n      <td>Free</td>\n      <td>0</td>\n      <td>Everyone</td>\n      <td>Art &amp; Design;Pretend Play</td>\n      <td>January 15, 2018</td>\n      <td>2.0.0</td>\n      <td>4.0.3 and up</td>\n    </tr>\n    <tr>\n      <th>2</th>\n      <td>U Launcher Lite – FREE Live Cool Themes, Hide ...</td>\n      <td>ART_AND_DESIGN</td>\n      <td>5.0</td>\n      <td>87510</td>\n      <td>8.7</td>\n      <td>5,000,000</td>\n      <td>Free</td>\n      <td>0</td>\n      <td>Everyone</td>\n      <td>Art &amp; Design</td>\n      <td>August 1, 2018</td>\n      <td>1.2.4</td>\n      <td>4.0.3 and up</td>\n    </tr>\n    <tr>\n      <th>3</th>\n      <td>Sketch - Draw &amp; Paint</td>\n      <td>ART_AND_DESIGN</td>\n      <td>4.0</td>\n      <td>215644</td>\n      <td>25</td>\n      <td>50,000,000</td>\n      <td>Free</td>\n      <td>0</td>\n      <td>Teen</td>\n      <td>Art &amp; Design</td>\n      <td>June 8, 2018</td>\n      <td>Varies with device</td>\n      <td>4.2 and up</td>\n    </tr>\n    <tr>\n      <th>4</th>\n      <td>Pixel Draw - Number Art Coloring Book</td>\n      <td>ART_AND_DESIGN</td>\n      <td>4.0</td>\n      <td>967</td>\n      <td>2.8</td>\n      <td>100,000</td>\n      <td>Free</td>\n      <td>0</td>\n      <td>Everyone</td>\n      <td>Art &amp; Design;Creativity</td>\n      <td>June 20, 2018</td>\n      <td>1.1</td>\n      <td>4.4 and up</td>\n    </tr>\n    <tr>\n      <th>...</th>\n      <td>...</td>\n      <td>...</td>\n      <td>...</td>\n      <td>...</td>\n      <td>...</td>\n      <td>...</td>\n      <td>...</td>\n      <td>...</td>\n      <td>...</td>\n      <td>...</td>\n      <td>...</td>\n      <td>...</td>\n      <td>...</td>\n    </tr>\n    <tr>\n      <th>10834</th>\n      <td>FR Calculator</td>\n      <td>FAMILY</td>\n      <td>4.0</td>\n      <td>7</td>\n      <td>2.6</td>\n      <td>500</td>\n      <td>Free</td>\n      <td>0</td>\n      <td>Everyone</td>\n      <td>Education</td>\n      <td>June 18, 2017</td>\n      <td>1.0.0</td>\n      <td>4.1 and up</td>\n    </tr>\n    <tr>\n      <th>10836</th>\n      <td>Sya9a Maroc - FR</td>\n      <td>FAMILY</td>\n      <td>4.0</td>\n      <td>38</td>\n      <td>53</td>\n      <td>5,000</td>\n      <td>Free</td>\n      <td>0</td>\n      <td>Everyone</td>\n      <td>Education</td>\n      <td>July 25, 2017</td>\n      <td>1.48</td>\n      <td>4.1 and up</td>\n    </tr>\n    <tr>\n      <th>10837</th>\n      <td>Fr. Mike Schmitz Audio Teachings</td>\n      <td>FAMILY</td>\n      <td>5.0</td>\n      <td>4</td>\n      <td>3.6</td>\n      <td>100</td>\n      <td>Free</td>\n      <td>0</td>\n      <td>Everyone</td>\n      <td>Education</td>\n      <td>July 6, 2018</td>\n      <td>1.0</td>\n      <td>4.1 and up</td>\n    </tr>\n    <tr>\n      <th>10839</th>\n      <td>The SCP Foundation DB fr nn5n</td>\n      <td>BOOKS_AND_REFERENCE</td>\n      <td>4.0</td>\n      <td>114</td>\n      <td>0</td>\n      <td>1,000</td>\n      <td>Free</td>\n      <td>0</td>\n      <td>Mature 17+</td>\n      <td>Books &amp; Reference</td>\n      <td>January 19, 2015</td>\n      <td>Varies with device</td>\n      <td>Varies with device</td>\n    </tr>\n    <tr>\n      <th>10840</th>\n      <td>iHoroscope - 2018 Daily Horoscope &amp; Astrology</td>\n      <td>LIFESTYLE</td>\n      <td>4.0</td>\n      <td>398307</td>\n      <td>19</td>\n      <td>10,000,000</td>\n      <td>Free</td>\n      <td>0</td>\n      <td>Everyone</td>\n      <td>Lifestyle</td>\n      <td>July 25, 2018</td>\n      <td>Varies with device</td>\n      <td>Varies with device</td>\n    </tr>\n  </tbody>\n</table>\n<p>9360 rows × 13 columns</p>\n</div>"
     },
     "metadata": {},
     "execution_count": 21
    }
   ],
   "source": [
    "data_clean"
   ]
  },
  {
   "source": [
    "## Mapping categorical data to numeric types\n",
    "This is actually a very unnecessary step in generalk. RandomForest implementation actually is capable of handling categorical data because there is no calculation that involves using he original data. In case of numeric, average is used for calculating the impurity (More on that later), and in case of categoric, probabilities are uses for gini score.<br>\n",
    "Unfortunately Sci-kit learns implementation does not handle categorical data. We could turn everything into OneHotRepresentation but that would result in large number of columns for the trees and would hurt performance.<br>\n",
    "The R implementation of RandomForest handles categorical data as does the XGBoost framework.<br>\n",
    "Converting them into numeric representation is, in general, is considered bad practice as the algorthm considers these numbers in order and establishes a hierarchy in the data that does not even exist. This can result in weird results."
   ],
   "cell_type": "markdown",
   "metadata": {}
  },
  {
   "cell_type": "code",
   "execution_count": 22,
   "metadata": {},
   "outputs": [],
   "source": [
    "for i in [\"Category\",\"Type\",\"Content Rating\",\"Genres\",\"Last Updated\",\"Android Ver\",\"Current Ver\"]:\n",
    "    vals = data_clean[i].unique()\n",
    "    vic_status = {vals[j]:j for j in range(len(vals))}\n",
    "    data_clean[i] = data_clean[i].map(vic_status)\n",
    "    data.head()"
   ]
  },
  {
   "source": [
    "## Abandoned OneHot Representation"
   ],
   "cell_type": "markdown",
   "metadata": {}
  },
  {
   "cell_type": "code",
   "execution_count": 23,
   "metadata": {},
   "outputs": [],
   "source": [
    "#ohe = OneHotEncoder()\n",
    "#for i in [\"Category\",\"Type\",\"Content Rating\",\"Genres\",\"Last Updated\",\"Android Ver\",\"Current Ver\"]:\n",
    "#    data_clean[i] = data_clean[i].astype(\"object\")\n",
    "#    data_clean[i] = ohe.fit_transform(data_clean[i].values.reshape(-1,1)).toarray().tolist()"
   ]
  },
  {
   "source": [
    "## Viewing the data"
   ],
   "cell_type": "markdown",
   "metadata": {}
  },
  {
   "cell_type": "code",
   "execution_count": 24,
   "metadata": {},
   "outputs": [
    {
     "output_type": "execute_result",
     "data": {
      "text/plain": "                                                     App  Category  Rating  \\\n0         Photo Editor &amp; Candy Camera &amp; Grid &amp; ScrapBook         0     4.0   \n1                                    Coloring book moana         0     4.0   \n2      U Launcher Lite – FREE Live Cool Themes, Hide ...         0     5.0   \n3                                  Sketch - Draw &amp; Paint         0     4.0   \n4                  Pixel Draw - Number Art Coloring Book         0     4.0   \n...                                                  ...       ...     ...   \n10834                                      FR Calculator        18     4.0   \n10836                                   Sya9a Maroc - FR        18     4.0   \n10837                   Fr. Mike Schmitz Audio Teachings        18     5.0   \n10839                      The SCP Foundation DB fr nn5n         3     4.0   \n10840      iHoroscope - 2018 Daily Horoscope &amp; Astrology        16     4.0   \n\n      Reviews Size    Installs  Type Price  Content Rating  Genres  \\\n0         159   19      10,000     0     0               0       0   \n1         967   14     500,000     0     0               0       1   \n2       87510  8.7   5,000,000     0     0               0       0   \n3      215644   25  50,000,000     0     0               1       0   \n4         967  2.8     100,000     0     0               0       2   \n...       ...  ...         ...   ...   ...             ...     ...   \n10834       7  2.6         500     0     0               0      12   \n10836      38   53       5,000     0     0               0      12   \n10837       4  3.6         100     0     0               0      12   \n10839     114    0       1,000     0     0               3       5   \n10840  398307   19  10,000,000     0     0               0      28   \n\n       Last Updated  Current Ver  Android Ver  \n0                 0            0            0  \n1                 1            1            0  \n2                 2            2            0  \n3                 3            3            1  \n4                 4            4            2  \n...             ...          ...          ...  \n10834           304            0            5  \n10836           472         1864            5  \n10837           122            5            5  \n10839           892            3            8  \n10840            65            3            8  \n\n[9360 rows x 13 columns]",
      "text/html": "<div>\n<style scoped>\n    .dataframe tbody tr th:only-of-type {\n        vertical-align: middle;\n    }\n\n    .dataframe tbody tr th {\n        vertical-align: top;\n    }\n\n    .dataframe thead th {\n        text-align: right;\n    }\n</style>\n<table border=\"1\" class=\"dataframe\">\n  <thead>\n    <tr style=\"text-align: right;\">\n      <th></th>\n      <th>App</th>\n      <th>Category</th>\n      <th>Rating</th>\n      <th>Reviews</th>\n      <th>Size</th>\n      <th>Installs</th>\n      <th>Type</th>\n      <th>Price</th>\n      <th>Content Rating</th>\n      <th>Genres</th>\n      <th>Last Updated</th>\n      <th>Current Ver</th>\n      <th>Android Ver</th>\n    </tr>\n  </thead>\n  <tbody>\n    <tr>\n      <th>0</th>\n      <td>Photo Editor &amp; Candy Camera &amp; Grid &amp; ScrapBook</td>\n      <td>0</td>\n      <td>4.0</td>\n      <td>159</td>\n      <td>19</td>\n      <td>10,000</td>\n      <td>0</td>\n      <td>0</td>\n      <td>0</td>\n      <td>0</td>\n      <td>0</td>\n      <td>0</td>\n      <td>0</td>\n    </tr>\n    <tr>\n      <th>1</th>\n      <td>Coloring book moana</td>\n      <td>0</td>\n      <td>4.0</td>\n      <td>967</td>\n      <td>14</td>\n      <td>500,000</td>\n      <td>0</td>\n      <td>0</td>\n      <td>0</td>\n      <td>1</td>\n      <td>1</td>\n      <td>1</td>\n      <td>0</td>\n    </tr>\n    <tr>\n      <th>2</th>\n      <td>U Launcher Lite – FREE Live Cool Themes, Hide ...</td>\n      <td>0</td>\n      <td>5.0</td>\n      <td>87510</td>\n      <td>8.7</td>\n      <td>5,000,000</td>\n      <td>0</td>\n      <td>0</td>\n      <td>0</td>\n      <td>0</td>\n      <td>2</td>\n      <td>2</td>\n      <td>0</td>\n    </tr>\n    <tr>\n      <th>3</th>\n      <td>Sketch - Draw &amp; Paint</td>\n      <td>0</td>\n      <td>4.0</td>\n      <td>215644</td>\n      <td>25</td>\n      <td>50,000,000</td>\n      <td>0</td>\n      <td>0</td>\n      <td>1</td>\n      <td>0</td>\n      <td>3</td>\n      <td>3</td>\n      <td>1</td>\n    </tr>\n    <tr>\n      <th>4</th>\n      <td>Pixel Draw - Number Art Coloring Book</td>\n      <td>0</td>\n      <td>4.0</td>\n      <td>967</td>\n      <td>2.8</td>\n      <td>100,000</td>\n      <td>0</td>\n      <td>0</td>\n      <td>0</td>\n      <td>2</td>\n      <td>4</td>\n      <td>4</td>\n      <td>2</td>\n    </tr>\n    <tr>\n      <th>...</th>\n      <td>...</td>\n      <td>...</td>\n      <td>...</td>\n      <td>...</td>\n      <td>...</td>\n      <td>...</td>\n      <td>...</td>\n      <td>...</td>\n      <td>...</td>\n      <td>...</td>\n      <td>...</td>\n      <td>...</td>\n      <td>...</td>\n    </tr>\n    <tr>\n      <th>10834</th>\n      <td>FR Calculator</td>\n      <td>18</td>\n      <td>4.0</td>\n      <td>7</td>\n      <td>2.6</td>\n      <td>500</td>\n      <td>0</td>\n      <td>0</td>\n      <td>0</td>\n      <td>12</td>\n      <td>304</td>\n      <td>0</td>\n      <td>5</td>\n    </tr>\n    <tr>\n      <th>10836</th>\n      <td>Sya9a Maroc - FR</td>\n      <td>18</td>\n      <td>4.0</td>\n      <td>38</td>\n      <td>53</td>\n      <td>5,000</td>\n      <td>0</td>\n      <td>0</td>\n      <td>0</td>\n      <td>12</td>\n      <td>472</td>\n      <td>1864</td>\n      <td>5</td>\n    </tr>\n    <tr>\n      <th>10837</th>\n      <td>Fr. Mike Schmitz Audio Teachings</td>\n      <td>18</td>\n      <td>5.0</td>\n      <td>4</td>\n      <td>3.6</td>\n      <td>100</td>\n      <td>0</td>\n      <td>0</td>\n      <td>0</td>\n      <td>12</td>\n      <td>122</td>\n      <td>5</td>\n      <td>5</td>\n    </tr>\n    <tr>\n      <th>10839</th>\n      <td>The SCP Foundation DB fr nn5n</td>\n      <td>3</td>\n      <td>4.0</td>\n      <td>114</td>\n      <td>0</td>\n      <td>1,000</td>\n      <td>0</td>\n      <td>0</td>\n      <td>3</td>\n      <td>5</td>\n      <td>892</td>\n      <td>3</td>\n      <td>8</td>\n    </tr>\n    <tr>\n      <th>10840</th>\n      <td>iHoroscope - 2018 Daily Horoscope &amp; Astrology</td>\n      <td>16</td>\n      <td>4.0</td>\n      <td>398307</td>\n      <td>19</td>\n      <td>10,000,000</td>\n      <td>0</td>\n      <td>0</td>\n      <td>0</td>\n      <td>28</td>\n      <td>65</td>\n      <td>3</td>\n      <td>8</td>\n    </tr>\n  </tbody>\n</table>\n<p>9360 rows × 13 columns</p>\n</div>"
     },
     "metadata": {},
     "execution_count": 24
    }
   ],
   "source": [
    "data_clean"
   ]
  },
  {
   "source": [
    "## Seperating into target and data variables"
   ],
   "cell_type": "markdown",
   "metadata": {}
  },
  {
   "cell_type": "code",
   "execution_count": 25,
   "metadata": {},
   "outputs": [],
   "source": [
    "data_Y = data_clean[\"Rating\"]\n",
    "data_X = data_clean[[i for i in data.columns if i not in [\"Rating\",\"App\"]]]"
   ]
  },
  {
   "source": [
    "## Converting the installs into integer values\n",
    "There are some commas in the attribute that neads to be removed and converted to integer type"
   ],
   "cell_type": "markdown",
   "metadata": {}
  },
  {
   "cell_type": "code",
   "execution_count": 26,
   "metadata": {},
   "outputs": [],
   "source": [
    "def con_int(x):\n",
    "    return int(x.replace(',',''))\n",
    "data_X[\"Installs\"] = data_X[\"Installs\"].apply(con_int)"
   ]
  },
  {
   "source": [
    "## Converting the price\n",
    "The price has the dollar symbol that needs to be removed and this is converted to float type"
   ],
   "cell_type": "markdown",
   "metadata": {}
  },
  {
   "cell_type": "code",
   "execution_count": 27,
   "metadata": {},
   "outputs": [
    {
     "output_type": "execute_result",
     "data": {
      "text/plain": "array([&#39;0&#39;, &#39;$4.99&#39;, &#39;$3.99&#39;, &#39;$6.99&#39;, &#39;$7.99&#39;, &#39;$5.99&#39;, &#39;$2.99&#39;, &#39;$3.49&#39;,\n       &#39;$1.99&#39;, &#39;$9.99&#39;, &#39;$7.49&#39;, &#39;$0.99&#39;, &#39;$9.00&#39;, &#39;$5.49&#39;, &#39;$10.00&#39;,\n       &#39;$24.99&#39;, &#39;$11.99&#39;, &#39;$79.99&#39;, &#39;$16.99&#39;, &#39;$14.99&#39;, &#39;$29.99&#39;,\n       &#39;$12.99&#39;, &#39;$2.49&#39;, &#39;$10.99&#39;, &#39;$1.50&#39;, &#39;$19.99&#39;, &#39;$15.99&#39;, &#39;$33.99&#39;,\n       &#39;$39.99&#39;, &#39;$3.95&#39;, &#39;$4.49&#39;, &#39;$1.70&#39;, &#39;$8.99&#39;, &#39;$1.49&#39;, &#39;$3.88&#39;,\n       &#39;$399.99&#39;, &#39;$17.99&#39;, &#39;$400.00&#39;, &#39;$3.02&#39;, &#39;$1.76&#39;, &#39;$4.84&#39;, &#39;$4.77&#39;,\n       &#39;$1.61&#39;, &#39;$2.50&#39;, &#39;$1.59&#39;, &#39;$6.49&#39;, &#39;$1.29&#39;, &#39;$299.99&#39;, &#39;$379.99&#39;,\n       &#39;$37.99&#39;, &#39;$18.99&#39;, &#39;$389.99&#39;, &#39;$8.49&#39;, &#39;$1.75&#39;, &#39;$14.00&#39;, &#39;$2.00&#39;,\n       &#39;$3.08&#39;, &#39;$2.59&#39;, &#39;$19.40&#39;, &#39;$3.90&#39;, &#39;$4.59&#39;, &#39;$15.46&#39;, &#39;$3.04&#39;,\n       &#39;$13.99&#39;, &#39;$4.29&#39;, &#39;$3.28&#39;, &#39;$4.60&#39;, &#39;$1.00&#39;, &#39;$2.95&#39;, &#39;$2.90&#39;,\n       &#39;$1.97&#39;, &#39;$2.56&#39;, &#39;$1.20&#39;], dtype=object)"
     },
     "metadata": {},
     "execution_count": 27
    }
   ],
   "source": [
    "data_X[\"Price\"].unique()"
   ]
  },
  {
   "cell_type": "code",
   "execution_count": 28,
   "metadata": {},
   "outputs": [],
   "source": [
    "def con_price(x):\n",
    "    return float(x.replace('$',''))\n",
    "data_X[\"Price\"] = data_X[\"Price\"].apply(con_price)"
   ]
  },
  {
   "source": [
    "## Splitting into train-test-split"
   ],
   "cell_type": "markdown",
   "metadata": {}
  },
  {
   "cell_type": "code",
   "execution_count": 33,
   "metadata": {
    "tags": []
   },
   "outputs": [
    {
     "output_type": "stream",
     "name": "stdout",
     "text": "(7488, 11) (7488,)\n(1872, 11) (1872,)\n"
    }
   ],
   "source": [
    "train_data,test_data,train_labels,test_labels = train_test_split(data_X,data_Y,test_size  = 0.2)\n",
    "print(train_data.shape,train_labels.shape)\n",
    "print(test_data.shape,test_labels.shape)"
   ]
  },
  {
   "source": [
    "## Random Forest Classifier\n",
    "Random Forest classifier uses decision trees to classify. Decision trees are not good at generalizing the predictions andhence random forest aims to do just that. Random forests have many trees that classify (Or predict/regress) the input, and a majority vote is taken to decide the final output. Unlike decision trees, the attributes is initally selected randomly and then the impurity score is considered to select which one seperates the data the best. Rnadom forests typically use bootstrapping to make the decision trees. All of these help in beter generalizing. The original implementations handles categorical data and uses guesses initally and improves this guess using the decision trees.<br><br>\n",
    "The RFC function in sklearn has some defaults:<br>\n",
    "1.Number of trees is 100<br>\n",
    "2.Number of attributes selected is square root of number of features (For each tree at every step)<br>\n",
    "3.The impurity function by defualt is gini<br>\n",
    "4.By defualt there is no limit on the number of leaf nodes<br>\n",
    "5.The algorithm boostraps (Without replacement,unlike the original implementation) by default"
   ],
   "cell_type": "markdown",
   "metadata": {}
  },
  {
   "cell_type": "code",
   "execution_count": 34,
   "metadata": {},
   "outputs": [
    {
     "output_type": "execute_result",
     "data": {
      "text/plain": "RandomForestClassifier()"
     },
     "metadata": {},
     "execution_count": 34
    }
   ],
   "source": [
    "model_forest = RFC()\n",
    "model_forest.fit(train_data,train_labels)"
   ]
  },
  {
   "source": [
    "## Accuracy Score of the Classifier"
   ],
   "cell_type": "markdown",
   "metadata": {}
  },
  {
   "cell_type": "code",
   "execution_count": 35,
   "metadata": {
    "tags": []
   },
   "outputs": [
    {
     "output_type": "stream",
     "name": "stdout",
     "text": "Train accuracy:  100.0\nTest accuracy:  77.24358974358975\n"
    }
   ],
   "source": [
    "print(\"Train accuracy: \",model_forest.score(train_data,train_labels)*100)\n",
    "print(\"Test accuracy: \",model_forest.score(test_data,test_labels)*100)"
   ]
  },
  {
   "source": [
    "## Decision Path of the sample 0"
   ],
   "cell_type": "markdown",
   "metadata": {}
  },
  {
   "cell_type": "code",
   "execution_count": 37,
   "metadata": {},
   "outputs": [
    {
     "output_type": "execute_result",
     "data": {
      "text/plain": "array([[1, 0, 0, ..., 0, 0, 0]], dtype=int64)"
     },
     "metadata": {},
     "execution_count": 37
    }
   ],
   "source": [
    "model_forest.decision_path(train_data.loc[0].values.reshape(1,-1))[0].toarray()"
   ]
  },
  {
   "source": [
    "## Gini impurity scores of the dataset we have used"
   ],
   "cell_type": "markdown",
   "metadata": {}
  },
  {
   "cell_type": "code",
   "execution_count": 225,
   "metadata": {},
   "outputs": [
    {
     "output_type": "execute_result",
     "data": {
      "text/plain": "&lt;matplotlib.axes._subplots.AxesSubplot at 0x226315c6588&gt;"
     },
     "metadata": {},
     "execution_count": 225
    },
    {
     "output_type": "display_data",
     "data": {
      "text/plain": "&lt;Figure size 1224x504 with 1 Axes&gt;",
      "image/svg+xml": "<?xml version=\"1.0\" encoding=\"utf-8\" standalone=\"no\"?>\r\n<!DOCTYPE svg PUBLIC \"-//W3C//DTD SVG 1.1//EN\"\r\n  \"http://www.w3.org/Graphics/SVG/1.1/DTD/svg11.dtd\">\r\n<!-- Created with matplotlib (https://matplotlib.org/) -->\r\n<svg height=\"411.598125pt\" version=\"1.1\" viewBox=\"0 0 998.628125 411.598125\" width=\"998.628125pt\" xmlns=\"http://www.w3.org/2000/svg\" xmlns:xlink=\"http://www.w3.org/1999/xlink\">\r\n <defs>\r\n  <style type=\"text/css\">\r\n*{stroke-linecap:butt;stroke-linejoin:round;}\r\n  </style>\r\n </defs>\r\n <g id=\"figure_1\">\r\n  <g id=\"patch_1\">\r\n   <path d=\"M 0 411.598125 \r\nL 998.628125 411.598125 \r\nL 998.628125 0 \r\nL 0 0 \r\nz\r\n\" style=\"fill:none;\"/>\r\n  </g>\r\n  <g id=\"axes_1\">\r\n   <g id=\"patch_2\">\r\n    <path d=\"M 42.828125 387.72 \r\nL 991.428125 387.72 \r\nL 991.428125 7.2 \r\nL 42.828125 7.2 \r\nz\r\n\" style=\"fill:#ffffff;\"/>\r\n   </g>\r\n   <g id=\"patch_3\">\r\n    <path clip-path=\"url(#p9ae0cfb0a9)\" d=\"M 51.451761 387.72 \r\nL 120.440852 387.72 \r\nL 120.440852 252.829673 \r\nL 51.451761 252.829673 \r\nz\r\n\" style=\"fill:#ea96a3;\"/>\r\n   </g>\r\n   <g id=\"patch_4\">\r\n    <path clip-path=\"url(#p9ae0cfb0a9)\" d=\"M 137.688125 387.72 \r\nL 206.677216 387.72 \r\nL 206.677216 25.32 \r\nL 137.688125 25.32 \r\nz\r\n\" style=\"fill:#dc924e;\"/>\r\n   </g>\r\n   <g id=\"patch_5\">\r\n    <path clip-path=\"url(#p9ae0cfb0a9)\" d=\"M 223.924489 387.72 \r\nL 292.91358 387.72 \r\nL 292.91358 155.622482 \r\nL 223.924489 155.622482 \r\nz\r\n\" style=\"fill:#b39d48;\"/>\r\n   </g>\r\n   <g id=\"patch_6\">\r\n    <path clip-path=\"url(#p9ae0cfb0a9)\" d=\"M 310.160852 387.72 \r\nL 379.149943 387.72 \r\nL 379.149943 200.276873 \r\nL 310.160852 200.276873 \r\nz\r\n\" style=\"fill:#8ea546;\"/>\r\n   </g>\r\n   <g id=\"patch_7\">\r\n    <path clip-path=\"url(#p9ae0cfb0a9)\" d=\"M 396.397216 387.72 \r\nL 465.386307 387.72 \r\nL 465.386307 378.811415 \r\nL 396.397216 378.811415 \r\nz\r\n\" style=\"fill:#48b067;\"/>\r\n   </g>\r\n   <g id=\"patch_8\">\r\n    <path clip-path=\"url(#p9ae0cfb0a9)\" d=\"M 482.63358 387.72 \r\nL 551.62267 387.72 \r\nL 551.62267 360.720029 \r\nL 482.63358 360.720029 \r\nz\r\n\" style=\"fill:#4aac98;\"/>\r\n   </g>\r\n   <g id=\"patch_9\">\r\n    <path clip-path=\"url(#p9ae0cfb0a9)\" d=\"M 568.869943 387.72 \r\nL 637.859034 387.72 \r\nL 637.859034 348.210932 \r\nL 568.869943 348.210932 \r\nz\r\n\" style=\"fill:#4dabb0;\"/>\r\n   </g>\r\n   <g id=\"patch_10\">\r\n    <path clip-path=\"url(#p9ae0cfb0a9)\" d=\"M 655.106307 387.72 \r\nL 724.095398 387.72 \r\nL 724.095398 220.298947 \r\nL 655.106307 220.298947 \r\nz\r\n\" style=\"fill:#54acd3;\"/>\r\n   </g>\r\n   <g id=\"patch_11\">\r\n    <path clip-path=\"url(#p9ae0cfb0a9)\" d=\"M 741.34267 387.72 \r\nL 810.331761 387.72 \r\nL 810.331761 114.407676 \r\nL 741.34267 114.407676 \r\nz\r\n\" style=\"fill:#a9aceb;\"/>\r\n   </g>\r\n   <g id=\"patch_12\">\r\n    <path clip-path=\"url(#p9ae0cfb0a9)\" d=\"M 827.579034 387.72 \r\nL 896.568125 387.72 \r\nL 896.568125 148.566484 \r\nL 827.579034 148.566484 \r\nz\r\n\" style=\"fill:#d795e8;\"/>\r\n   </g>\r\n   <g id=\"patch_13\">\r\n    <path clip-path=\"url(#p9ae0cfb0a9)\" d=\"M 913.815398 387.72 \r\nL 982.804489 387.72 \r\nL 982.804489 244.969648 \r\nL 913.815398 244.969648 \r\nz\r\n\" style=\"fill:#e88fc9;\"/>\r\n   </g>\r\n   <g id=\"matplotlib.axis_1\">\r\n    <g id=\"xtick_1\">\r\n     <g id=\"line2d_1\">\r\n      <defs>\r\n       <path d=\"M 0 0 \r\nL 0 3.5 \r\n\" id=\"m9f7c8efc13\" style=\"stroke:#000000;stroke-width:0.8;\"/>\r\n      </defs>\r\n      <g>\r\n       <use style=\"stroke:#000000;stroke-width:0.8;\" x=\"85.946307\" xlink:href=\"#m9f7c8efc13\" y=\"387.72\"/>\r\n      </g>\r\n     </g>\r\n     <g id=\"text_1\">\r\n      <!-- Category -->\r\n      <defs>\r\n       <path d=\"M 64.40625 67.28125 \r\nL 64.40625 56.890625 \r\nQ 59.421875 61.53125 53.78125 63.8125 \r\nQ 48.140625 66.109375 41.796875 66.109375 \r\nQ 29.296875 66.109375 22.65625 58.46875 \r\nQ 16.015625 50.828125 16.015625 36.375 \r\nQ 16.015625 21.96875 22.65625 14.328125 \r\nQ 29.296875 6.6875 41.796875 6.6875 \r\nQ 48.140625 6.6875 53.78125 8.984375 \r\nQ 59.421875 11.28125 64.40625 15.921875 \r\nL 64.40625 5.609375 \r\nQ 59.234375 2.09375 53.4375 0.328125 \r\nQ 47.65625 -1.421875 41.21875 -1.421875 \r\nQ 24.65625 -1.421875 15.125 8.703125 \r\nQ 5.609375 18.84375 5.609375 36.375 \r\nQ 5.609375 53.953125 15.125 64.078125 \r\nQ 24.65625 74.21875 41.21875 74.21875 \r\nQ 47.75 74.21875 53.53125 72.484375 \r\nQ 59.328125 70.75 64.40625 67.28125 \r\nz\r\n\" id=\"DejaVuSans-67\"/>\r\n       <path d=\"M 34.28125 27.484375 \r\nQ 23.390625 27.484375 19.1875 25 \r\nQ 14.984375 22.515625 14.984375 16.5 \r\nQ 14.984375 11.71875 18.140625 8.90625 \r\nQ 21.296875 6.109375 26.703125 6.109375 \r\nQ 34.1875 6.109375 38.703125 11.40625 \r\nQ 43.21875 16.703125 43.21875 25.484375 \r\nL 43.21875 27.484375 \r\nz\r\nM 52.203125 31.203125 \r\nL 52.203125 0 \r\nL 43.21875 0 \r\nL 43.21875 8.296875 \r\nQ 40.140625 3.328125 35.546875 0.953125 \r\nQ 30.953125 -1.421875 24.3125 -1.421875 \r\nQ 15.921875 -1.421875 10.953125 3.296875 \r\nQ 6 8.015625 6 15.921875 \r\nQ 6 25.140625 12.171875 29.828125 \r\nQ 18.359375 34.515625 30.609375 34.515625 \r\nL 43.21875 34.515625 \r\nL 43.21875 35.40625 \r\nQ 43.21875 41.609375 39.140625 45 \r\nQ 35.0625 48.390625 27.6875 48.390625 \r\nQ 23 48.390625 18.546875 47.265625 \r\nQ 14.109375 46.140625 10.015625 43.890625 \r\nL 10.015625 52.203125 \r\nQ 14.9375 54.109375 19.578125 55.046875 \r\nQ 24.21875 56 28.609375 56 \r\nQ 40.484375 56 46.34375 49.84375 \r\nQ 52.203125 43.703125 52.203125 31.203125 \r\nz\r\n\" id=\"DejaVuSans-97\"/>\r\n       <path d=\"M 18.3125 70.21875 \r\nL 18.3125 54.6875 \r\nL 36.8125 54.6875 \r\nL 36.8125 47.703125 \r\nL 18.3125 47.703125 \r\nL 18.3125 18.015625 \r\nQ 18.3125 11.328125 20.140625 9.421875 \r\nQ 21.96875 7.515625 27.59375 7.515625 \r\nL 36.8125 7.515625 \r\nL 36.8125 0 \r\nL 27.59375 0 \r\nQ 17.1875 0 13.234375 3.875 \r\nQ 9.28125 7.765625 9.28125 18.015625 \r\nL 9.28125 47.703125 \r\nL 2.6875 47.703125 \r\nL 2.6875 54.6875 \r\nL 9.28125 54.6875 \r\nL 9.28125 70.21875 \r\nz\r\n\" id=\"DejaVuSans-116\"/>\r\n       <path d=\"M 56.203125 29.59375 \r\nL 56.203125 25.203125 \r\nL 14.890625 25.203125 \r\nQ 15.484375 15.921875 20.484375 11.0625 \r\nQ 25.484375 6.203125 34.421875 6.203125 \r\nQ 39.59375 6.203125 44.453125 7.46875 \r\nQ 49.3125 8.734375 54.109375 11.28125 \r\nL 54.109375 2.78125 \r\nQ 49.265625 0.734375 44.1875 -0.34375 \r\nQ 39.109375 -1.421875 33.890625 -1.421875 \r\nQ 20.796875 -1.421875 13.15625 6.1875 \r\nQ 5.515625 13.8125 5.515625 26.8125 \r\nQ 5.515625 40.234375 12.765625 48.109375 \r\nQ 20.015625 56 32.328125 56 \r\nQ 43.359375 56 49.78125 48.890625 \r\nQ 56.203125 41.796875 56.203125 29.59375 \r\nz\r\nM 47.21875 32.234375 \r\nQ 47.125 39.59375 43.09375 43.984375 \r\nQ 39.0625 48.390625 32.421875 48.390625 \r\nQ 24.90625 48.390625 20.390625 44.140625 \r\nQ 15.875 39.890625 15.1875 32.171875 \r\nz\r\n\" id=\"DejaVuSans-101\"/>\r\n       <path d=\"M 45.40625 27.984375 \r\nQ 45.40625 37.75 41.375 43.109375 \r\nQ 37.359375 48.484375 30.078125 48.484375 \r\nQ 22.859375 48.484375 18.828125 43.109375 \r\nQ 14.796875 37.75 14.796875 27.984375 \r\nQ 14.796875 18.265625 18.828125 12.890625 \r\nQ 22.859375 7.515625 30.078125 7.515625 \r\nQ 37.359375 7.515625 41.375 12.890625 \r\nQ 45.40625 18.265625 45.40625 27.984375 \r\nz\r\nM 54.390625 6.78125 \r\nQ 54.390625 -7.171875 48.1875 -13.984375 \r\nQ 42 -20.796875 29.203125 -20.796875 \r\nQ 24.46875 -20.796875 20.265625 -20.09375 \r\nQ 16.0625 -19.390625 12.109375 -17.921875 \r\nL 12.109375 -9.1875 \r\nQ 16.0625 -11.328125 19.921875 -12.34375 \r\nQ 23.78125 -13.375 27.78125 -13.375 \r\nQ 36.625 -13.375 41.015625 -8.765625 \r\nQ 45.40625 -4.15625 45.40625 5.171875 \r\nL 45.40625 9.625 \r\nQ 42.625 4.78125 38.28125 2.390625 \r\nQ 33.9375 0 27.875 0 \r\nQ 17.828125 0 11.671875 7.65625 \r\nQ 5.515625 15.328125 5.515625 27.984375 \r\nQ 5.515625 40.671875 11.671875 48.328125 \r\nQ 17.828125 56 27.875 56 \r\nQ 33.9375 56 38.28125 53.609375 \r\nQ 42.625 51.21875 45.40625 46.390625 \r\nL 45.40625 54.6875 \r\nL 54.390625 54.6875 \r\nz\r\n\" id=\"DejaVuSans-103\"/>\r\n       <path d=\"M 30.609375 48.390625 \r\nQ 23.390625 48.390625 19.1875 42.75 \r\nQ 14.984375 37.109375 14.984375 27.296875 \r\nQ 14.984375 17.484375 19.15625 11.84375 \r\nQ 23.34375 6.203125 30.609375 6.203125 \r\nQ 37.796875 6.203125 41.984375 11.859375 \r\nQ 46.1875 17.53125 46.1875 27.296875 \r\nQ 46.1875 37.015625 41.984375 42.703125 \r\nQ 37.796875 48.390625 30.609375 48.390625 \r\nz\r\nM 30.609375 56 \r\nQ 42.328125 56 49.015625 48.375 \r\nQ 55.71875 40.765625 55.71875 27.296875 \r\nQ 55.71875 13.875 49.015625 6.21875 \r\nQ 42.328125 -1.421875 30.609375 -1.421875 \r\nQ 18.84375 -1.421875 12.171875 6.21875 \r\nQ 5.515625 13.875 5.515625 27.296875 \r\nQ 5.515625 40.765625 12.171875 48.375 \r\nQ 18.84375 56 30.609375 56 \r\nz\r\n\" id=\"DejaVuSans-111\"/>\r\n       <path d=\"M 41.109375 46.296875 \r\nQ 39.59375 47.171875 37.8125 47.578125 \r\nQ 36.03125 48 33.890625 48 \r\nQ 26.265625 48 22.1875 43.046875 \r\nQ 18.109375 38.09375 18.109375 28.8125 \r\nL 18.109375 0 \r\nL 9.078125 0 \r\nL 9.078125 54.6875 \r\nL 18.109375 54.6875 \r\nL 18.109375 46.1875 \r\nQ 20.953125 51.171875 25.484375 53.578125 \r\nQ 30.03125 56 36.53125 56 \r\nQ 37.453125 56 38.578125 55.875 \r\nQ 39.703125 55.765625 41.0625 55.515625 \r\nz\r\n\" id=\"DejaVuSans-114\"/>\r\n       <path d=\"M 32.171875 -5.078125 \r\nQ 28.375 -14.84375 24.75 -17.8125 \r\nQ 21.140625 -20.796875 15.09375 -20.796875 \r\nL 7.90625 -20.796875 \r\nL 7.90625 -13.28125 \r\nL 13.1875 -13.28125 \r\nQ 16.890625 -13.28125 18.9375 -11.515625 \r\nQ 21 -9.765625 23.484375 -3.21875 \r\nL 25.09375 0.875 \r\nL 2.984375 54.6875 \r\nL 12.5 54.6875 \r\nL 29.59375 11.921875 \r\nL 46.6875 54.6875 \r\nL 56.203125 54.6875 \r\nz\r\n\" id=\"DejaVuSans-121\"/>\r\n      </defs>\r\n      <g transform=\"translate(63.105682 402.318437)scale(0.1 -0.1)\">\r\n       <use xlink:href=\"#DejaVuSans-67\"/>\r\n       <use x=\"69.824219\" xlink:href=\"#DejaVuSans-97\"/>\r\n       <use x=\"131.103516\" xlink:href=\"#DejaVuSans-116\"/>\r\n       <use x=\"170.3125\" xlink:href=\"#DejaVuSans-101\"/>\r\n       <use x=\"231.835938\" xlink:href=\"#DejaVuSans-103\"/>\r\n       <use x=\"295.3125\" xlink:href=\"#DejaVuSans-111\"/>\r\n       <use x=\"356.494141\" xlink:href=\"#DejaVuSans-114\"/>\r\n       <use x=\"397.607422\" xlink:href=\"#DejaVuSans-121\"/>\r\n      </g>\r\n     </g>\r\n    </g>\r\n    <g id=\"xtick_2\">\r\n     <g id=\"line2d_2\">\r\n      <g>\r\n       <use style=\"stroke:#000000;stroke-width:0.8;\" x=\"172.18267\" xlink:href=\"#m9f7c8efc13\" y=\"387.72\"/>\r\n      </g>\r\n     </g>\r\n     <g id=\"text_2\">\r\n      <!-- Reviews -->\r\n      <defs>\r\n       <path d=\"M 44.390625 34.1875 \r\nQ 47.5625 33.109375 50.5625 29.59375 \r\nQ 53.5625 26.078125 56.59375 19.921875 \r\nL 66.609375 0 \r\nL 56 0 \r\nL 46.6875 18.703125 \r\nQ 43.0625 26.03125 39.671875 28.421875 \r\nQ 36.28125 30.8125 30.421875 30.8125 \r\nL 19.671875 30.8125 \r\nL 19.671875 0 \r\nL 9.8125 0 \r\nL 9.8125 72.90625 \r\nL 32.078125 72.90625 \r\nQ 44.578125 72.90625 50.734375 67.671875 \r\nQ 56.890625 62.453125 56.890625 51.90625 \r\nQ 56.890625 45.015625 53.6875 40.46875 \r\nQ 50.484375 35.9375 44.390625 34.1875 \r\nz\r\nM 19.671875 64.796875 \r\nL 19.671875 38.921875 \r\nL 32.078125 38.921875 \r\nQ 39.203125 38.921875 42.84375 42.21875 \r\nQ 46.484375 45.515625 46.484375 51.90625 \r\nQ 46.484375 58.296875 42.84375 61.546875 \r\nQ 39.203125 64.796875 32.078125 64.796875 \r\nz\r\n\" id=\"DejaVuSans-82\"/>\r\n       <path d=\"M 2.984375 54.6875 \r\nL 12.5 54.6875 \r\nL 29.59375 8.796875 \r\nL 46.6875 54.6875 \r\nL 56.203125 54.6875 \r\nL 35.6875 0 \r\nL 23.484375 0 \r\nz\r\n\" id=\"DejaVuSans-118\"/>\r\n       <path d=\"M 9.421875 54.6875 \r\nL 18.40625 54.6875 \r\nL 18.40625 0 \r\nL 9.421875 0 \r\nz\r\nM 9.421875 75.984375 \r\nL 18.40625 75.984375 \r\nL 18.40625 64.59375 \r\nL 9.421875 64.59375 \r\nz\r\n\" id=\"DejaVuSans-105\"/>\r\n       <path d=\"M 4.203125 54.6875 \r\nL 13.1875 54.6875 \r\nL 24.421875 12.015625 \r\nL 35.59375 54.6875 \r\nL 46.1875 54.6875 \r\nL 57.421875 12.015625 \r\nL 68.609375 54.6875 \r\nL 77.59375 54.6875 \r\nL 63.28125 0 \r\nL 52.6875 0 \r\nL 40.921875 44.828125 \r\nL 29.109375 0 \r\nL 18.5 0 \r\nz\r\n\" id=\"DejaVuSans-119\"/>\r\n       <path d=\"M 44.28125 53.078125 \r\nL 44.28125 44.578125 \r\nQ 40.484375 46.53125 36.375 47.5 \r\nQ 32.28125 48.484375 27.875 48.484375 \r\nQ 21.1875 48.484375 17.84375 46.4375 \r\nQ 14.5 44.390625 14.5 40.28125 \r\nQ 14.5 37.15625 16.890625 35.375 \r\nQ 19.28125 33.59375 26.515625 31.984375 \r\nL 29.59375 31.296875 \r\nQ 39.15625 29.25 43.1875 25.515625 \r\nQ 47.21875 21.78125 47.21875 15.09375 \r\nQ 47.21875 7.46875 41.1875 3.015625 \r\nQ 35.15625 -1.421875 24.609375 -1.421875 \r\nQ 20.21875 -1.421875 15.453125 -0.5625 \r\nQ 10.6875 0.296875 5.421875 2 \r\nL 5.421875 11.28125 \r\nQ 10.40625 8.6875 15.234375 7.390625 \r\nQ 20.0625 6.109375 24.8125 6.109375 \r\nQ 31.15625 6.109375 34.5625 8.28125 \r\nQ 37.984375 10.453125 37.984375 14.40625 \r\nQ 37.984375 18.0625 35.515625 20.015625 \r\nQ 33.0625 21.96875 24.703125 23.78125 \r\nL 21.578125 24.515625 \r\nQ 13.234375 26.265625 9.515625 29.90625 \r\nQ 5.8125 33.546875 5.8125 39.890625 \r\nQ 5.8125 47.609375 11.28125 51.796875 \r\nQ 16.75 56 26.8125 56 \r\nQ 31.78125 56 36.171875 55.265625 \r\nQ 40.578125 54.546875 44.28125 53.078125 \r\nz\r\n\" id=\"DejaVuSans-115\"/>\r\n      </defs>\r\n      <g transform=\"translate(151.738139 402.318437)scale(0.1 -0.1)\">\r\n       <use xlink:href=\"#DejaVuSans-82\"/>\r\n       <use x=\"64.982422\" xlink:href=\"#DejaVuSans-101\"/>\r\n       <use x=\"126.505859\" xlink:href=\"#DejaVuSans-118\"/>\r\n       <use x=\"185.685547\" xlink:href=\"#DejaVuSans-105\"/>\r\n       <use x=\"213.46875\" xlink:href=\"#DejaVuSans-101\"/>\r\n       <use x=\"274.992188\" xlink:href=\"#DejaVuSans-119\"/>\r\n       <use x=\"356.779297\" xlink:href=\"#DejaVuSans-115\"/>\r\n      </g>\r\n     </g>\r\n    </g>\r\n    <g id=\"xtick_3\">\r\n     <g id=\"line2d_3\">\r\n      <g>\r\n       <use style=\"stroke:#000000;stroke-width:0.8;\" x=\"258.419034\" xlink:href=\"#m9f7c8efc13\" y=\"387.72\"/>\r\n      </g>\r\n     </g>\r\n     <g id=\"text_3\">\r\n      <!-- Size -->\r\n      <defs>\r\n       <path d=\"M 53.515625 70.515625 \r\nL 53.515625 60.890625 \r\nQ 47.90625 63.578125 42.921875 64.890625 \r\nQ 37.9375 66.21875 33.296875 66.21875 \r\nQ 25.25 66.21875 20.875 63.09375 \r\nQ 16.5 59.96875 16.5 54.203125 \r\nQ 16.5 49.359375 19.40625 46.890625 \r\nQ 22.3125 44.4375 30.421875 42.921875 \r\nL 36.375 41.703125 \r\nQ 47.40625 39.59375 52.65625 34.296875 \r\nQ 57.90625 29 57.90625 20.125 \r\nQ 57.90625 9.515625 50.796875 4.046875 \r\nQ 43.703125 -1.421875 29.984375 -1.421875 \r\nQ 24.8125 -1.421875 18.96875 -0.25 \r\nQ 13.140625 0.921875 6.890625 3.21875 \r\nL 6.890625 13.375 \r\nQ 12.890625 10.015625 18.65625 8.296875 \r\nQ 24.421875 6.59375 29.984375 6.59375 \r\nQ 38.421875 6.59375 43.015625 9.90625 \r\nQ 47.609375 13.234375 47.609375 19.390625 \r\nQ 47.609375 24.75 44.3125 27.78125 \r\nQ 41.015625 30.8125 33.5 32.328125 \r\nL 27.484375 33.5 \r\nQ 16.453125 35.6875 11.515625 40.375 \r\nQ 6.59375 45.0625 6.59375 53.421875 \r\nQ 6.59375 63.09375 13.40625 68.65625 \r\nQ 20.21875 74.21875 32.171875 74.21875 \r\nQ 37.3125 74.21875 42.625 73.28125 \r\nQ 47.953125 72.359375 53.515625 70.515625 \r\nz\r\n\" id=\"DejaVuSans-83\"/>\r\n       <path d=\"M 5.515625 54.6875 \r\nL 48.1875 54.6875 \r\nL 48.1875 46.484375 \r\nL 14.40625 7.171875 \r\nL 48.1875 7.171875 \r\nL 48.1875 0 \r\nL 4.296875 0 \r\nL 4.296875 8.203125 \r\nL 38.09375 47.515625 \r\nL 5.515625 47.515625 \r\nz\r\n\" id=\"DejaVuSans-122\"/>\r\n      </defs>\r\n      <g transform=\"translate(248.154972 402.318437)scale(0.1 -0.1)\">\r\n       <use xlink:href=\"#DejaVuSans-83\"/>\r\n       <use x=\"63.476562\" xlink:href=\"#DejaVuSans-105\"/>\r\n       <use x=\"91.259766\" xlink:href=\"#DejaVuSans-122\"/>\r\n       <use x=\"143.75\" xlink:href=\"#DejaVuSans-101\"/>\r\n      </g>\r\n     </g>\r\n    </g>\r\n    <g id=\"xtick_4\">\r\n     <g id=\"line2d_4\">\r\n      <g>\r\n       <use style=\"stroke:#000000;stroke-width:0.8;\" x=\"344.655398\" xlink:href=\"#m9f7c8efc13\" y=\"387.72\"/>\r\n      </g>\r\n     </g>\r\n     <g id=\"text_4\">\r\n      <!-- Installs -->\r\n      <defs>\r\n       <path d=\"M 9.8125 72.90625 \r\nL 19.671875 72.90625 \r\nL 19.671875 0 \r\nL 9.8125 0 \r\nz\r\n\" id=\"DejaVuSans-73\"/>\r\n       <path d=\"M 54.890625 33.015625 \r\nL 54.890625 0 \r\nL 45.90625 0 \r\nL 45.90625 32.71875 \r\nQ 45.90625 40.484375 42.875 44.328125 \r\nQ 39.84375 48.1875 33.796875 48.1875 \r\nQ 26.515625 48.1875 22.3125 43.546875 \r\nQ 18.109375 38.921875 18.109375 30.90625 \r\nL 18.109375 0 \r\nL 9.078125 0 \r\nL 9.078125 54.6875 \r\nL 18.109375 54.6875 \r\nL 18.109375 46.1875 \r\nQ 21.34375 51.125 25.703125 53.5625 \r\nQ 30.078125 56 35.796875 56 \r\nQ 45.21875 56 50.046875 50.171875 \r\nQ 54.890625 44.34375 54.890625 33.015625 \r\nz\r\n\" id=\"DejaVuSans-110\"/>\r\n       <path d=\"M 9.421875 75.984375 \r\nL 18.40625 75.984375 \r\nL 18.40625 0 \r\nL 9.421875 0 \r\nz\r\n\" id=\"DejaVuSans-108\"/>\r\n      </defs>\r\n      <g transform=\"translate(326.999929 402.318437)scale(0.1 -0.1)\">\r\n       <use xlink:href=\"#DejaVuSans-73\"/>\r\n       <use x=\"29.492188\" xlink:href=\"#DejaVuSans-110\"/>\r\n       <use x=\"92.871094\" xlink:href=\"#DejaVuSans-115\"/>\r\n       <use x=\"144.970703\" xlink:href=\"#DejaVuSans-116\"/>\r\n       <use x=\"184.179688\" xlink:href=\"#DejaVuSans-97\"/>\r\n       <use x=\"245.458984\" xlink:href=\"#DejaVuSans-108\"/>\r\n       <use x=\"273.242188\" xlink:href=\"#DejaVuSans-108\"/>\r\n       <use x=\"301.025391\" xlink:href=\"#DejaVuSans-115\"/>\r\n      </g>\r\n     </g>\r\n    </g>\r\n    <g id=\"xtick_5\">\r\n     <g id=\"line2d_5\">\r\n      <g>\r\n       <use style=\"stroke:#000000;stroke-width:0.8;\" x=\"430.891761\" xlink:href=\"#m9f7c8efc13\" y=\"387.72\"/>\r\n      </g>\r\n     </g>\r\n     <g id=\"text_5\">\r\n      <!-- Type -->\r\n      <defs>\r\n       <path d=\"M -0.296875 72.90625 \r\nL 61.375 72.90625 \r\nL 61.375 64.59375 \r\nL 35.5 64.59375 \r\nL 35.5 0 \r\nL 25.59375 0 \r\nL 25.59375 64.59375 \r\nL -0.296875 64.59375 \r\nz\r\n\" id=\"DejaVuSans-84\"/>\r\n       <path d=\"M 18.109375 8.203125 \r\nL 18.109375 -20.796875 \r\nL 9.078125 -20.796875 \r\nL 9.078125 54.6875 \r\nL 18.109375 54.6875 \r\nL 18.109375 46.390625 \r\nQ 20.953125 51.265625 25.265625 53.625 \r\nQ 29.59375 56 35.59375 56 \r\nQ 45.5625 56 51.78125 48.09375 \r\nQ 58.015625 40.1875 58.015625 27.296875 \r\nQ 58.015625 14.40625 51.78125 6.484375 \r\nQ 45.5625 -1.421875 35.59375 -1.421875 \r\nQ 29.59375 -1.421875 25.265625 0.953125 \r\nQ 20.953125 3.328125 18.109375 8.203125 \r\nz\r\nM 48.6875 27.296875 \r\nQ 48.6875 37.203125 44.609375 42.84375 \r\nQ 40.53125 48.484375 33.40625 48.484375 \r\nQ 26.265625 48.484375 22.1875 42.84375 \r\nQ 18.109375 37.203125 18.109375 27.296875 \r\nQ 18.109375 17.390625 22.1875 11.75 \r\nQ 26.265625 6.109375 33.40625 6.109375 \r\nQ 40.53125 6.109375 44.609375 11.75 \r\nQ 48.6875 17.390625 48.6875 27.296875 \r\nz\r\n\" id=\"DejaVuSans-112\"/>\r\n      </defs>\r\n      <g transform=\"translate(419.408949 402.318437)scale(0.1 -0.1)\">\r\n       <use xlink:href=\"#DejaVuSans-84\"/>\r\n       <use x=\"45.458984\" xlink:href=\"#DejaVuSans-121\"/>\r\n       <use x=\"104.638672\" xlink:href=\"#DejaVuSans-112\"/>\r\n       <use x=\"168.115234\" xlink:href=\"#DejaVuSans-101\"/>\r\n      </g>\r\n     </g>\r\n    </g>\r\n    <g id=\"xtick_6\">\r\n     <g id=\"line2d_6\">\r\n      <g>\r\n       <use style=\"stroke:#000000;stroke-width:0.8;\" x=\"517.128125\" xlink:href=\"#m9f7c8efc13\" y=\"387.72\"/>\r\n      </g>\r\n     </g>\r\n     <g id=\"text_6\">\r\n      <!-- Price -->\r\n      <defs>\r\n       <path d=\"M 19.671875 64.796875 \r\nL 19.671875 37.40625 \r\nL 32.078125 37.40625 \r\nQ 38.96875 37.40625 42.71875 40.96875 \r\nQ 46.484375 44.53125 46.484375 51.125 \r\nQ 46.484375 57.671875 42.71875 61.234375 \r\nQ 38.96875 64.796875 32.078125 64.796875 \r\nz\r\nM 9.8125 72.90625 \r\nL 32.078125 72.90625 \r\nQ 44.34375 72.90625 50.609375 67.359375 \r\nQ 56.890625 61.8125 56.890625 51.125 \r\nQ 56.890625 40.328125 50.609375 34.8125 \r\nQ 44.34375 29.296875 32.078125 29.296875 \r\nL 19.671875 29.296875 \r\nL 19.671875 0 \r\nL 9.8125 0 \r\nz\r\n\" id=\"DejaVuSans-80\"/>\r\n       <path d=\"M 48.78125 52.59375 \r\nL 48.78125 44.1875 \r\nQ 44.96875 46.296875 41.140625 47.34375 \r\nQ 37.3125 48.390625 33.40625 48.390625 \r\nQ 24.65625 48.390625 19.8125 42.84375 \r\nQ 14.984375 37.3125 14.984375 27.296875 \r\nQ 14.984375 17.28125 19.8125 11.734375 \r\nQ 24.65625 6.203125 33.40625 6.203125 \r\nQ 37.3125 6.203125 41.140625 7.25 \r\nQ 44.96875 8.296875 48.78125 10.40625 \r\nL 48.78125 2.09375 \r\nQ 45.015625 0.34375 40.984375 -0.53125 \r\nQ 36.96875 -1.421875 32.421875 -1.421875 \r\nQ 20.0625 -1.421875 12.78125 6.34375 \r\nQ 5.515625 14.109375 5.515625 27.296875 \r\nQ 5.515625 40.671875 12.859375 48.328125 \r\nQ 20.21875 56 33.015625 56 \r\nQ 37.15625 56 41.109375 55.140625 \r\nQ 45.0625 54.296875 48.78125 52.59375 \r\nz\r\n\" id=\"DejaVuSans-99\"/>\r\n      </defs>\r\n      <g transform=\"translate(504.930469 402.318437)scale(0.1 -0.1)\">\r\n       <use xlink:href=\"#DejaVuSans-80\"/>\r\n       <use x=\"58.552734\" xlink:href=\"#DejaVuSans-114\"/>\r\n       <use x=\"99.666016\" xlink:href=\"#DejaVuSans-105\"/>\r\n       <use x=\"127.449219\" xlink:href=\"#DejaVuSans-99\"/>\r\n       <use x=\"182.429688\" xlink:href=\"#DejaVuSans-101\"/>\r\n      </g>\r\n     </g>\r\n    </g>\r\n    <g id=\"xtick_7\">\r\n     <g id=\"line2d_7\">\r\n      <g>\r\n       <use style=\"stroke:#000000;stroke-width:0.8;\" x=\"603.364489\" xlink:href=\"#m9f7c8efc13\" y=\"387.72\"/>\r\n      </g>\r\n     </g>\r\n     <g id=\"text_7\">\r\n      <!-- Content Rating -->\r\n      <defs>\r\n       <path id=\"DejaVuSans-32\"/>\r\n      </defs>\r\n      <g transform=\"translate(565.772301 402.318437)scale(0.1 -0.1)\">\r\n       <use xlink:href=\"#DejaVuSans-67\"/>\r\n       <use x=\"69.824219\" xlink:href=\"#DejaVuSans-111\"/>\r\n       <use x=\"131.005859\" xlink:href=\"#DejaVuSans-110\"/>\r\n       <use x=\"194.384766\" xlink:href=\"#DejaVuSans-116\"/>\r\n       <use x=\"233.59375\" xlink:href=\"#DejaVuSans-101\"/>\r\n       <use x=\"295.117188\" xlink:href=\"#DejaVuSans-110\"/>\r\n       <use x=\"358.496094\" xlink:href=\"#DejaVuSans-116\"/>\r\n       <use x=\"397.705078\" xlink:href=\"#DejaVuSans-32\"/>\r\n       <use x=\"429.492188\" xlink:href=\"#DejaVuSans-82\"/>\r\n       <use x=\"496.724609\" xlink:href=\"#DejaVuSans-97\"/>\r\n       <use x=\"558.003906\" xlink:href=\"#DejaVuSans-116\"/>\r\n       <use x=\"597.212891\" xlink:href=\"#DejaVuSans-105\"/>\r\n       <use x=\"624.996094\" xlink:href=\"#DejaVuSans-110\"/>\r\n       <use x=\"688.375\" xlink:href=\"#DejaVuSans-103\"/>\r\n      </g>\r\n     </g>\r\n    </g>\r\n    <g id=\"xtick_8\">\r\n     <g id=\"line2d_8\">\r\n      <g>\r\n       <use style=\"stroke:#000000;stroke-width:0.8;\" x=\"689.600852\" xlink:href=\"#m9f7c8efc13\" y=\"387.72\"/>\r\n      </g>\r\n     </g>\r\n     <g id=\"text_8\">\r\n      <!-- Genres -->\r\n      <defs>\r\n       <path d=\"M 59.515625 10.40625 \r\nL 59.515625 29.984375 \r\nL 43.40625 29.984375 \r\nL 43.40625 38.09375 \r\nL 69.28125 38.09375 \r\nL 69.28125 6.78125 \r\nQ 63.578125 2.734375 56.6875 0.65625 \r\nQ 49.8125 -1.421875 42 -1.421875 \r\nQ 24.90625 -1.421875 15.25 8.5625 \r\nQ 5.609375 18.5625 5.609375 36.375 \r\nQ 5.609375 54.25 15.25 64.234375 \r\nQ 24.90625 74.21875 42 74.21875 \r\nQ 49.125 74.21875 55.546875 72.453125 \r\nQ 61.96875 70.703125 67.390625 67.28125 \r\nL 67.390625 56.78125 \r\nQ 61.921875 61.421875 55.765625 63.765625 \r\nQ 49.609375 66.109375 42.828125 66.109375 \r\nQ 29.4375 66.109375 22.71875 58.640625 \r\nQ 16.015625 51.171875 16.015625 36.375 \r\nQ 16.015625 21.625 22.71875 14.15625 \r\nQ 29.4375 6.6875 42.828125 6.6875 \r\nQ 48.046875 6.6875 52.140625 7.59375 \r\nQ 56.25 8.5 59.515625 10.40625 \r\nz\r\n\" id=\"DejaVuSans-71\"/>\r\n      </defs>\r\n      <g transform=\"translate(671.857102 402.318437)scale(0.1 -0.1)\">\r\n       <use xlink:href=\"#DejaVuSans-71\"/>\r\n       <use x=\"77.490234\" xlink:href=\"#DejaVuSans-101\"/>\r\n       <use x=\"139.013672\" xlink:href=\"#DejaVuSans-110\"/>\r\n       <use x=\"202.392578\" xlink:href=\"#DejaVuSans-114\"/>\r\n       <use x=\"241.255859\" xlink:href=\"#DejaVuSans-101\"/>\r\n       <use x=\"302.779297\" xlink:href=\"#DejaVuSans-115\"/>\r\n      </g>\r\n     </g>\r\n    </g>\r\n    <g id=\"xtick_9\">\r\n     <g id=\"line2d_9\">\r\n      <g>\r\n       <use style=\"stroke:#000000;stroke-width:0.8;\" x=\"775.837216\" xlink:href=\"#m9f7c8efc13\" y=\"387.72\"/>\r\n      </g>\r\n     </g>\r\n     <g id=\"text_9\">\r\n      <!-- Last Updated -->\r\n      <defs>\r\n       <path d=\"M 9.8125 72.90625 \r\nL 19.671875 72.90625 \r\nL 19.671875 8.296875 \r\nL 55.171875 8.296875 \r\nL 55.171875 0 \r\nL 9.8125 0 \r\nz\r\n\" id=\"DejaVuSans-76\"/>\r\n       <path d=\"M 8.6875 72.90625 \r\nL 18.609375 72.90625 \r\nL 18.609375 28.609375 \r\nQ 18.609375 16.890625 22.84375 11.734375 \r\nQ 27.09375 6.59375 36.625 6.59375 \r\nQ 46.09375 6.59375 50.34375 11.734375 \r\nQ 54.59375 16.890625 54.59375 28.609375 \r\nL 54.59375 72.90625 \r\nL 64.5 72.90625 \r\nL 64.5 27.390625 \r\nQ 64.5 13.140625 57.4375 5.859375 \r\nQ 50.390625 -1.421875 36.625 -1.421875 \r\nQ 22.796875 -1.421875 15.734375 5.859375 \r\nQ 8.6875 13.140625 8.6875 27.390625 \r\nz\r\n\" id=\"DejaVuSans-85\"/>\r\n       <path d=\"M 45.40625 46.390625 \r\nL 45.40625 75.984375 \r\nL 54.390625 75.984375 \r\nL 54.390625 0 \r\nL 45.40625 0 \r\nL 45.40625 8.203125 \r\nQ 42.578125 3.328125 38.25 0.953125 \r\nQ 33.9375 -1.421875 27.875 -1.421875 \r\nQ 17.96875 -1.421875 11.734375 6.484375 \r\nQ 5.515625 14.40625 5.515625 27.296875 \r\nQ 5.515625 40.1875 11.734375 48.09375 \r\nQ 17.96875 56 27.875 56 \r\nQ 33.9375 56 38.25 53.625 \r\nQ 42.578125 51.265625 45.40625 46.390625 \r\nz\r\nM 14.796875 27.296875 \r\nQ 14.796875 17.390625 18.875 11.75 \r\nQ 22.953125 6.109375 30.078125 6.109375 \r\nQ 37.203125 6.109375 41.296875 11.75 \r\nQ 45.40625 17.390625 45.40625 27.296875 \r\nQ 45.40625 37.203125 41.296875 42.84375 \r\nQ 37.203125 48.484375 30.078125 48.484375 \r\nQ 22.953125 48.484375 18.875 42.84375 \r\nQ 14.796875 37.203125 14.796875 27.296875 \r\nz\r\n\" id=\"DejaVuSans-100\"/>\r\n      </defs>\r\n      <g transform=\"translate(742.550497 402.318437)scale(0.1 -0.1)\">\r\n       <use xlink:href=\"#DejaVuSans-76\"/>\r\n       <use x=\"55.712891\" xlink:href=\"#DejaVuSans-97\"/>\r\n       <use x=\"116.992188\" xlink:href=\"#DejaVuSans-115\"/>\r\n       <use x=\"169.091797\" xlink:href=\"#DejaVuSans-116\"/>\r\n       <use x=\"208.300781\" xlink:href=\"#DejaVuSans-32\"/>\r\n       <use x=\"240.087891\" xlink:href=\"#DejaVuSans-85\"/>\r\n       <use x=\"313.28125\" xlink:href=\"#DejaVuSans-112\"/>\r\n       <use x=\"376.757812\" xlink:href=\"#DejaVuSans-100\"/>\r\n       <use x=\"440.234375\" xlink:href=\"#DejaVuSans-97\"/>\r\n       <use x=\"501.513672\" xlink:href=\"#DejaVuSans-116\"/>\r\n       <use x=\"540.722656\" xlink:href=\"#DejaVuSans-101\"/>\r\n       <use x=\"602.246094\" xlink:href=\"#DejaVuSans-100\"/>\r\n      </g>\r\n     </g>\r\n    </g>\r\n    <g id=\"xtick_10\">\r\n     <g id=\"line2d_10\">\r\n      <g>\r\n       <use style=\"stroke:#000000;stroke-width:0.8;\" x=\"862.07358\" xlink:href=\"#m9f7c8efc13\" y=\"387.72\"/>\r\n      </g>\r\n     </g>\r\n     <g id=\"text_10\">\r\n      <!-- Current Ver -->\r\n      <defs>\r\n       <path d=\"M 8.5 21.578125 \r\nL 8.5 54.6875 \r\nL 17.484375 54.6875 \r\nL 17.484375 21.921875 \r\nQ 17.484375 14.15625 20.5 10.265625 \r\nQ 23.53125 6.390625 29.59375 6.390625 \r\nQ 36.859375 6.390625 41.078125 11.03125 \r\nQ 45.3125 15.671875 45.3125 23.6875 \r\nL 45.3125 54.6875 \r\nL 54.296875 54.6875 \r\nL 54.296875 0 \r\nL 45.3125 0 \r\nL 45.3125 8.40625 \r\nQ 42.046875 3.421875 37.71875 1 \r\nQ 33.40625 -1.421875 27.6875 -1.421875 \r\nQ 18.265625 -1.421875 13.375 4.4375 \r\nQ 8.5 10.296875 8.5 21.578125 \r\nz\r\nM 31.109375 56 \r\nz\r\n\" id=\"DejaVuSans-117\"/>\r\n       <path d=\"M 28.609375 0 \r\nL 0.78125 72.90625 \r\nL 11.078125 72.90625 \r\nL 34.1875 11.53125 \r\nL 57.328125 72.90625 \r\nL 67.578125 72.90625 \r\nL 39.796875 0 \r\nz\r\n\" id=\"DejaVuSans-86\"/>\r\n      </defs>\r\n      <g transform=\"translate(833.543111 402.318437)scale(0.1 -0.1)\">\r\n       <use xlink:href=\"#DejaVuSans-67\"/>\r\n       <use x=\"69.824219\" xlink:href=\"#DejaVuSans-117\"/>\r\n       <use x=\"133.203125\" xlink:href=\"#DejaVuSans-114\"/>\r\n       <use x=\"172.566406\" xlink:href=\"#DejaVuSans-114\"/>\r\n       <use x=\"211.429688\" xlink:href=\"#DejaVuSans-101\"/>\r\n       <use x=\"272.953125\" xlink:href=\"#DejaVuSans-110\"/>\r\n       <use x=\"336.332031\" xlink:href=\"#DejaVuSans-116\"/>\r\n       <use x=\"375.541016\" xlink:href=\"#DejaVuSans-32\"/>\r\n       <use x=\"407.328125\" xlink:href=\"#DejaVuSans-86\"/>\r\n       <use x=\"467.986328\" xlink:href=\"#DejaVuSans-101\"/>\r\n       <use x=\"529.509766\" xlink:href=\"#DejaVuSans-114\"/>\r\n      </g>\r\n     </g>\r\n    </g>\r\n    <g id=\"xtick_11\">\r\n     <g id=\"line2d_11\">\r\n      <g>\r\n       <use style=\"stroke:#000000;stroke-width:0.8;\" x=\"948.309943\" xlink:href=\"#m9f7c8efc13\" y=\"387.72\"/>\r\n      </g>\r\n     </g>\r\n     <g id=\"text_11\">\r\n      <!-- Android Ver -->\r\n      <defs>\r\n       <path d=\"M 34.1875 63.1875 \r\nL 20.796875 26.90625 \r\nL 47.609375 26.90625 \r\nz\r\nM 28.609375 72.90625 \r\nL 39.796875 72.90625 \r\nL 67.578125 0 \r\nL 57.328125 0 \r\nL 50.6875 18.703125 \r\nL 17.828125 18.703125 \r\nL 11.1875 0 \r\nL 0.78125 0 \r\nz\r\n\" id=\"DejaVuSans-65\"/>\r\n      </defs>\r\n      <g transform=\"translate(919.227131 402.318437)scale(0.1 -0.1)\">\r\n       <use xlink:href=\"#DejaVuSans-65\"/>\r\n       <use x=\"68.408203\" xlink:href=\"#DejaVuSans-110\"/>\r\n       <use x=\"131.787109\" xlink:href=\"#DejaVuSans-100\"/>\r\n       <use x=\"195.263672\" xlink:href=\"#DejaVuSans-114\"/>\r\n       <use x=\"234.126953\" xlink:href=\"#DejaVuSans-111\"/>\r\n       <use x=\"295.308594\" xlink:href=\"#DejaVuSans-105\"/>\r\n       <use x=\"323.091797\" xlink:href=\"#DejaVuSans-100\"/>\r\n       <use x=\"386.568359\" xlink:href=\"#DejaVuSans-32\"/>\r\n       <use x=\"418.355469\" xlink:href=\"#DejaVuSans-86\"/>\r\n       <use x=\"479.013672\" xlink:href=\"#DejaVuSans-101\"/>\r\n       <use x=\"540.537109\" xlink:href=\"#DejaVuSans-114\"/>\r\n      </g>\r\n     </g>\r\n    </g>\r\n   </g>\r\n   <g id=\"matplotlib.axis_2\">\r\n    <g id=\"ytick_1\">\r\n     <g id=\"line2d_12\">\r\n      <defs>\r\n       <path d=\"M 0 0 \r\nL -3.5 0 \r\n\" id=\"m2dd29346cc\" style=\"stroke:#000000;stroke-width:0.8;\"/>\r\n      </defs>\r\n      <g>\r\n       <use style=\"stroke:#000000;stroke-width:0.8;\" x=\"42.828125\" xlink:href=\"#m2dd29346cc\" y=\"387.72\"/>\r\n      </g>\r\n     </g>\r\n     <g id=\"text_12\">\r\n      <!-- 0.000 -->\r\n      <defs>\r\n       <path d=\"M 31.78125 66.40625 \r\nQ 24.171875 66.40625 20.328125 58.90625 \r\nQ 16.5 51.421875 16.5 36.375 \r\nQ 16.5 21.390625 20.328125 13.890625 \r\nQ 24.171875 6.390625 31.78125 6.390625 \r\nQ 39.453125 6.390625 43.28125 13.890625 \r\nQ 47.125 21.390625 47.125 36.375 \r\nQ 47.125 51.421875 43.28125 58.90625 \r\nQ 39.453125 66.40625 31.78125 66.40625 \r\nz\r\nM 31.78125 74.21875 \r\nQ 44.046875 74.21875 50.515625 64.515625 \r\nQ 56.984375 54.828125 56.984375 36.375 \r\nQ 56.984375 17.96875 50.515625 8.265625 \r\nQ 44.046875 -1.421875 31.78125 -1.421875 \r\nQ 19.53125 -1.421875 13.0625 8.265625 \r\nQ 6.59375 17.96875 6.59375 36.375 \r\nQ 6.59375 54.828125 13.0625 64.515625 \r\nQ 19.53125 74.21875 31.78125 74.21875 \r\nz\r\n\" id=\"DejaVuSans-48\"/>\r\n       <path d=\"M 10.6875 12.40625 \r\nL 21 12.40625 \r\nL 21 0 \r\nL 10.6875 0 \r\nz\r\n\" id=\"DejaVuSans-46\"/>\r\n      </defs>\r\n      <g transform=\"translate(7.2 391.519219)scale(0.1 -0.1)\">\r\n       <use xlink:href=\"#DejaVuSans-48\"/>\r\n       <use x=\"63.623047\" xlink:href=\"#DejaVuSans-46\"/>\r\n       <use x=\"95.410156\" xlink:href=\"#DejaVuSans-48\"/>\r\n       <use x=\"159.033203\" xlink:href=\"#DejaVuSans-48\"/>\r\n       <use x=\"222.65625\" xlink:href=\"#DejaVuSans-48\"/>\r\n      </g>\r\n     </g>\r\n    </g>\r\n    <g id=\"ytick_2\">\r\n     <g id=\"line2d_13\">\r\n      <g>\r\n       <use style=\"stroke:#000000;stroke-width:0.8;\" x=\"42.828125\" xlink:href=\"#m2dd29346cc\" y=\"342.347854\"/>\r\n      </g>\r\n     </g>\r\n     <g id=\"text_13\">\r\n      <!-- 0.025 -->\r\n      <defs>\r\n       <path d=\"M 19.1875 8.296875 \r\nL 53.609375 8.296875 \r\nL 53.609375 0 \r\nL 7.328125 0 \r\nL 7.328125 8.296875 \r\nQ 12.9375 14.109375 22.625 23.890625 \r\nQ 32.328125 33.6875 34.8125 36.53125 \r\nQ 39.546875 41.84375 41.421875 45.53125 \r\nQ 43.3125 49.21875 43.3125 52.78125 \r\nQ 43.3125 58.59375 39.234375 62.25 \r\nQ 35.15625 65.921875 28.609375 65.921875 \r\nQ 23.96875 65.921875 18.8125 64.3125 \r\nQ 13.671875 62.703125 7.8125 59.421875 \r\nL 7.8125 69.390625 \r\nQ 13.765625 71.78125 18.9375 73 \r\nQ 24.125 74.21875 28.421875 74.21875 \r\nQ 39.75 74.21875 46.484375 68.546875 \r\nQ 53.21875 62.890625 53.21875 53.421875 \r\nQ 53.21875 48.921875 51.53125 44.890625 \r\nQ 49.859375 40.875 45.40625 35.40625 \r\nQ 44.1875 33.984375 37.640625 27.21875 \r\nQ 31.109375 20.453125 19.1875 8.296875 \r\nz\r\n\" id=\"DejaVuSans-50\"/>\r\n       <path d=\"M 10.796875 72.90625 \r\nL 49.515625 72.90625 \r\nL 49.515625 64.59375 \r\nL 19.828125 64.59375 \r\nL 19.828125 46.734375 \r\nQ 21.96875 47.46875 24.109375 47.828125 \r\nQ 26.265625 48.1875 28.421875 48.1875 \r\nQ 40.625 48.1875 47.75 41.5 \r\nQ 54.890625 34.8125 54.890625 23.390625 \r\nQ 54.890625 11.625 47.5625 5.09375 \r\nQ 40.234375 -1.421875 26.90625 -1.421875 \r\nQ 22.3125 -1.421875 17.546875 -0.640625 \r\nQ 12.796875 0.140625 7.71875 1.703125 \r\nL 7.71875 11.625 \r\nQ 12.109375 9.234375 16.796875 8.0625 \r\nQ 21.484375 6.890625 26.703125 6.890625 \r\nQ 35.15625 6.890625 40.078125 11.328125 \r\nQ 45.015625 15.765625 45.015625 23.390625 \r\nQ 45.015625 31 40.078125 35.4375 \r\nQ 35.15625 39.890625 26.703125 39.890625 \r\nQ 22.75 39.890625 18.8125 39.015625 \r\nQ 14.890625 38.140625 10.796875 36.28125 \r\nz\r\n\" id=\"DejaVuSans-53\"/>\r\n      </defs>\r\n      <g transform=\"translate(7.2 346.147073)scale(0.1 -0.1)\">\r\n       <use xlink:href=\"#DejaVuSans-48\"/>\r\n       <use x=\"63.623047\" xlink:href=\"#DejaVuSans-46\"/>\r\n       <use x=\"95.410156\" xlink:href=\"#DejaVuSans-48\"/>\r\n       <use x=\"159.033203\" xlink:href=\"#DejaVuSans-50\"/>\r\n       <use x=\"222.65625\" xlink:href=\"#DejaVuSans-53\"/>\r\n      </g>\r\n     </g>\r\n    </g>\r\n    <g id=\"ytick_3\">\r\n     <g id=\"line2d_14\">\r\n      <g>\r\n       <use style=\"stroke:#000000;stroke-width:0.8;\" x=\"42.828125\" xlink:href=\"#m2dd29346cc\" y=\"296.975708\"/>\r\n      </g>\r\n     </g>\r\n     <g id=\"text_14\">\r\n      <!-- 0.050 -->\r\n      <g transform=\"translate(7.2 300.774927)scale(0.1 -0.1)\">\r\n       <use xlink:href=\"#DejaVuSans-48\"/>\r\n       <use x=\"63.623047\" xlink:href=\"#DejaVuSans-46\"/>\r\n       <use x=\"95.410156\" xlink:href=\"#DejaVuSans-48\"/>\r\n       <use x=\"159.033203\" xlink:href=\"#DejaVuSans-53\"/>\r\n       <use x=\"222.65625\" xlink:href=\"#DejaVuSans-48\"/>\r\n      </g>\r\n     </g>\r\n    </g>\r\n    <g id=\"ytick_4\">\r\n     <g id=\"line2d_15\">\r\n      <g>\r\n       <use style=\"stroke:#000000;stroke-width:0.8;\" x=\"42.828125\" xlink:href=\"#m2dd29346cc\" y=\"251.603562\"/>\r\n      </g>\r\n     </g>\r\n     <g id=\"text_15\">\r\n      <!-- 0.075 -->\r\n      <defs>\r\n       <path d=\"M 8.203125 72.90625 \r\nL 55.078125 72.90625 \r\nL 55.078125 68.703125 \r\nL 28.609375 0 \r\nL 18.3125 0 \r\nL 43.21875 64.59375 \r\nL 8.203125 64.59375 \r\nz\r\n\" id=\"DejaVuSans-55\"/>\r\n      </defs>\r\n      <g transform=\"translate(7.2 255.402781)scale(0.1 -0.1)\">\r\n       <use xlink:href=\"#DejaVuSans-48\"/>\r\n       <use x=\"63.623047\" xlink:href=\"#DejaVuSans-46\"/>\r\n       <use x=\"95.410156\" xlink:href=\"#DejaVuSans-48\"/>\r\n       <use x=\"159.033203\" xlink:href=\"#DejaVuSans-55\"/>\r\n       <use x=\"222.65625\" xlink:href=\"#DejaVuSans-53\"/>\r\n      </g>\r\n     </g>\r\n    </g>\r\n    <g id=\"ytick_5\">\r\n     <g id=\"line2d_16\">\r\n      <g>\r\n       <use style=\"stroke:#000000;stroke-width:0.8;\" x=\"42.828125\" xlink:href=\"#m2dd29346cc\" y=\"206.231416\"/>\r\n      </g>\r\n     </g>\r\n     <g id=\"text_16\">\r\n      <!-- 0.100 -->\r\n      <defs>\r\n       <path d=\"M 12.40625 8.296875 \r\nL 28.515625 8.296875 \r\nL 28.515625 63.921875 \r\nL 10.984375 60.40625 \r\nL 10.984375 69.390625 \r\nL 28.421875 72.90625 \r\nL 38.28125 72.90625 \r\nL 38.28125 8.296875 \r\nL 54.390625 8.296875 \r\nL 54.390625 0 \r\nL 12.40625 0 \r\nz\r\n\" id=\"DejaVuSans-49\"/>\r\n      </defs>\r\n      <g transform=\"translate(7.2 210.030635)scale(0.1 -0.1)\">\r\n       <use xlink:href=\"#DejaVuSans-48\"/>\r\n       <use x=\"63.623047\" xlink:href=\"#DejaVuSans-46\"/>\r\n       <use x=\"95.410156\" xlink:href=\"#DejaVuSans-49\"/>\r\n       <use x=\"159.033203\" xlink:href=\"#DejaVuSans-48\"/>\r\n       <use x=\"222.65625\" xlink:href=\"#DejaVuSans-48\"/>\r\n      </g>\r\n     </g>\r\n    </g>\r\n    <g id=\"ytick_6\">\r\n     <g id=\"line2d_17\">\r\n      <g>\r\n       <use style=\"stroke:#000000;stroke-width:0.8;\" x=\"42.828125\" xlink:href=\"#m2dd29346cc\" y=\"160.85927\"/>\r\n      </g>\r\n     </g>\r\n     <g id=\"text_17\">\r\n      <!-- 0.125 -->\r\n      <g transform=\"translate(7.2 164.658489)scale(0.1 -0.1)\">\r\n       <use xlink:href=\"#DejaVuSans-48\"/>\r\n       <use x=\"63.623047\" xlink:href=\"#DejaVuSans-46\"/>\r\n       <use x=\"95.410156\" xlink:href=\"#DejaVuSans-49\"/>\r\n       <use x=\"159.033203\" xlink:href=\"#DejaVuSans-50\"/>\r\n       <use x=\"222.65625\" xlink:href=\"#DejaVuSans-53\"/>\r\n      </g>\r\n     </g>\r\n    </g>\r\n    <g id=\"ytick_7\">\r\n     <g id=\"line2d_18\">\r\n      <g>\r\n       <use style=\"stroke:#000000;stroke-width:0.8;\" x=\"42.828125\" xlink:href=\"#m2dd29346cc\" y=\"115.487124\"/>\r\n      </g>\r\n     </g>\r\n     <g id=\"text_18\">\r\n      <!-- 0.150 -->\r\n      <g transform=\"translate(7.2 119.286342)scale(0.1 -0.1)\">\r\n       <use xlink:href=\"#DejaVuSans-48\"/>\r\n       <use x=\"63.623047\" xlink:href=\"#DejaVuSans-46\"/>\r\n       <use x=\"95.410156\" xlink:href=\"#DejaVuSans-49\"/>\r\n       <use x=\"159.033203\" xlink:href=\"#DejaVuSans-53\"/>\r\n       <use x=\"222.65625\" xlink:href=\"#DejaVuSans-48\"/>\r\n      </g>\r\n     </g>\r\n    </g>\r\n    <g id=\"ytick_8\">\r\n     <g id=\"line2d_19\">\r\n      <g>\r\n       <use style=\"stroke:#000000;stroke-width:0.8;\" x=\"42.828125\" xlink:href=\"#m2dd29346cc\" y=\"70.114978\"/>\r\n      </g>\r\n     </g>\r\n     <g id=\"text_19\">\r\n      <!-- 0.175 -->\r\n      <g transform=\"translate(7.2 73.914196)scale(0.1 -0.1)\">\r\n       <use xlink:href=\"#DejaVuSans-48\"/>\r\n       <use x=\"63.623047\" xlink:href=\"#DejaVuSans-46\"/>\r\n       <use x=\"95.410156\" xlink:href=\"#DejaVuSans-49\"/>\r\n       <use x=\"159.033203\" xlink:href=\"#DejaVuSans-55\"/>\r\n       <use x=\"222.65625\" xlink:href=\"#DejaVuSans-53\"/>\r\n      </g>\r\n     </g>\r\n    </g>\r\n    <g id=\"ytick_9\">\r\n     <g id=\"line2d_20\">\r\n      <g>\r\n       <use style=\"stroke:#000000;stroke-width:0.8;\" x=\"42.828125\" xlink:href=\"#m2dd29346cc\" y=\"24.742832\"/>\r\n      </g>\r\n     </g>\r\n     <g id=\"text_20\">\r\n      <!-- 0.200 -->\r\n      <g transform=\"translate(7.2 28.54205)scale(0.1 -0.1)\">\r\n       <use xlink:href=\"#DejaVuSans-48\"/>\r\n       <use x=\"63.623047\" xlink:href=\"#DejaVuSans-46\"/>\r\n       <use x=\"95.410156\" xlink:href=\"#DejaVuSans-50\"/>\r\n       <use x=\"159.033203\" xlink:href=\"#DejaVuSans-48\"/>\r\n       <use x=\"222.65625\" xlink:href=\"#DejaVuSans-48\"/>\r\n      </g>\r\n     </g>\r\n    </g>\r\n   </g>\r\n   <g id=\"line2d_21\">\r\n    <path clip-path=\"url(#p9ae0cfb0a9)\" d=\"M 0 0 \r\n\" style=\"fill:none;stroke:#424242;stroke-linecap:square;stroke-width:2.7;\"/>\r\n   </g>\r\n   <g id=\"line2d_22\">\r\n    <path clip-path=\"url(#p9ae0cfb0a9)\" d=\"M 0 0 \r\n\" style=\"fill:none;stroke:#424242;stroke-linecap:square;stroke-width:2.7;\"/>\r\n   </g>\r\n   <g id=\"line2d_23\">\r\n    <path clip-path=\"url(#p9ae0cfb0a9)\" d=\"M 0 0 \r\n\" style=\"fill:none;stroke:#424242;stroke-linecap:square;stroke-width:2.7;\"/>\r\n   </g>\r\n   <g id=\"line2d_24\">\r\n    <path clip-path=\"url(#p9ae0cfb0a9)\" d=\"M 0 0 \r\n\" style=\"fill:none;stroke:#424242;stroke-linecap:square;stroke-width:2.7;\"/>\r\n   </g>\r\n   <g id=\"line2d_25\">\r\n    <path clip-path=\"url(#p9ae0cfb0a9)\" d=\"M 0 0 \r\n\" style=\"fill:none;stroke:#424242;stroke-linecap:square;stroke-width:2.7;\"/>\r\n   </g>\r\n   <g id=\"line2d_26\">\r\n    <path clip-path=\"url(#p9ae0cfb0a9)\" d=\"M 0 0 \r\n\" style=\"fill:none;stroke:#424242;stroke-linecap:square;stroke-width:2.7;\"/>\r\n   </g>\r\n   <g id=\"line2d_27\">\r\n    <path clip-path=\"url(#p9ae0cfb0a9)\" d=\"M 0 0 \r\n\" style=\"fill:none;stroke:#424242;stroke-linecap:square;stroke-width:2.7;\"/>\r\n   </g>\r\n   <g id=\"line2d_28\">\r\n    <path clip-path=\"url(#p9ae0cfb0a9)\" d=\"M 0 0 \r\n\" style=\"fill:none;stroke:#424242;stroke-linecap:square;stroke-width:2.7;\"/>\r\n   </g>\r\n   <g id=\"line2d_29\">\r\n    <path clip-path=\"url(#p9ae0cfb0a9)\" d=\"M 0 0 \r\n\" style=\"fill:none;stroke:#424242;stroke-linecap:square;stroke-width:2.7;\"/>\r\n   </g>\r\n   <g id=\"line2d_30\">\r\n    <path clip-path=\"url(#p9ae0cfb0a9)\" d=\"M 0 0 \r\n\" style=\"fill:none;stroke:#424242;stroke-linecap:square;stroke-width:2.7;\"/>\r\n   </g>\r\n   <g id=\"line2d_31\">\r\n    <path clip-path=\"url(#p9ae0cfb0a9)\" d=\"M 0 0 \r\n\" style=\"fill:none;stroke:#424242;stroke-linecap:square;stroke-width:2.7;\"/>\r\n   </g>\r\n   <g id=\"patch_14\">\r\n    <path d=\"M 42.828125 387.72 \r\nL 42.828125 7.2 \r\n\" style=\"fill:none;stroke:#000000;stroke-linecap:square;stroke-linejoin:miter;stroke-width:0.8;\"/>\r\n   </g>\r\n   <g id=\"patch_15\">\r\n    <path d=\"M 991.428125 387.72 \r\nL 991.428125 7.2 \r\n\" style=\"fill:none;stroke:#000000;stroke-linecap:square;stroke-linejoin:miter;stroke-width:0.8;\"/>\r\n   </g>\r\n   <g id=\"patch_16\">\r\n    <path d=\"M 42.828125 387.72 \r\nL 991.428125 387.72 \r\n\" style=\"fill:none;stroke:#000000;stroke-linecap:square;stroke-linejoin:miter;stroke-width:0.8;\"/>\r\n   </g>\r\n   <g id=\"patch_17\">\r\n    <path d=\"M 42.828125 7.2 \r\nL 991.428125 7.2 \r\n\" style=\"fill:none;stroke:#000000;stroke-linecap:square;stroke-linejoin:miter;stroke-width:0.8;\"/>\r\n   </g>\r\n  </g>\r\n </g>\r\n <defs>\r\n  <clipPath id=\"p9ae0cfb0a9\">\r\n   <rect height=\"380.52\" width=\"948.6\" x=\"42.828125\" y=\"7.2\"/>\r\n  </clipPath>\r\n </defs>\r\n</svg>\r\n",
      "image/png": "[encoded data removed]"
     },
     "metadata": {
      "needs_background": "light"
     }
    }
   ],
   "source": [
    "plt.figure(figsize = (17,7))\n",
    "sns.barplot(x = train_data.columns,y = model_forest.feature_importances_)"
   ]
  },
  {
   "source": [
    "<center><h1>End of notebook</h1><center>"
   ],
   "cell_type": "markdown",
   "metadata": {}
  }
 ]
}