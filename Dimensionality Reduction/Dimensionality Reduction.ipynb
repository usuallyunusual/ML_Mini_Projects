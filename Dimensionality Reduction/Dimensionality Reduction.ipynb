{
 "cells": [
  {
   "cell_type": "markdown",
   "metadata": {},
   "source": [
    "# Dimensionality Reduction"
   ]
  },
  {
   "cell_type": "markdown",
   "metadata": {},
   "source": [
    "The complexity of any classifier or regressor depends on the number of inputs (Both number of samples and features), this determines the time and space complexity of the classifier or regressor. So feature selection (Of which dimensionality reduction is a subset) becomes an important part of the decision making process."
   ]
  },
  {
   "cell_type": "markdown",
   "metadata": {},
   "source": [
    "Feature selection, ideally, should not be a seperate process and should infact be a part of the decision making algorithm.<br>\n",
    "1. The complexity of most learning algorithms depend on the number of input samples N, and the dimensions of these samples D.So reducing these implies a direct reduction in time and space complexity of the algorithm. Reducing the dimensions D, also reduces the inference complexity during test times. This also, to a certain extent, helps explain the process of decision making better (Not always).\n",
    "2. In case of feature extraction. If, for some reason, we decide to exclude  feature, we then save the cost of extracting said feature making the pipeline (Of decision making) more efficient.\n",
    "3. Lower dimensions ensures less chances of overfitting (Usually) and hence a decision mking process that is explainable by only a few features is more robust (For smaller datasets)\n",
    "4. Having lower dimensions help visualization and detecting structure of the data which could prove useful for outlier detection."
   ]
  },
  {
   "cell_type": "markdown",
   "metadata": {},
   "source": [
    "# Multi-Dimensional Scaling "
   ]
  },
  {
   "cell_type": "markdown",
   "metadata": {},
   "source": [
    "Multi domensional scaling aims to map the features from an unknown dimensional space to a N dimensional space.<br><br>\n",
    "Consider N points in the data. The dimesnionality of these data points are unknown. Distance $d_{ij}$, for all points i , j where i , j = 1 , 2 , .. N , is given. The distance measure is unknown (Only the values of distance is given). Multi-dimensioanl scaling projects these data points from the unknown dimensional space to a N dimensional space, such that the euclidean distance between the given points (Say i, j) are as close to the given distances $d_{ij}$."
   ]
  },
  {
   "cell_type": "markdown",
   "metadata": {},
   "source": [
    "Multi-dimensional scaling can be used to reduce dimensions by passing the $d$ dimensional $x$ space as input, the pairwise euclidean distance is caluclated to project it to a lower dimensions while preserving the original dimensions."
   ]
  },
  {
   "attachments": {
    "image.png": {
     "image/png": "[encoded data removed]"
    }
   },
   "cell_type": "markdown",
   "metadata": {},
   "source": [
    "The pairwise euclidean squared distance between points $r$ and $s$ is given by,\n",
    "![image.png](attachment:image.png)"
   ]
  },
  {
   "attachments": {
    "image.png": {
     "image/png": "[encoded data removed]"
    }
   },
   "cell_type": "markdown",
   "metadata": {},
   "source": [
    "Now if we define $b_{rs}$ as\n",
    "$$B = X*X^{T}$$\n",
    "or more precisely,\n",
    "![image.png](attachment:image.png)"
   ]
  },
  {
   "attachments": {
    "image.png": {
     "image/png": "[encoded data removed]"
    }
   },
   "cell_type": "markdown",
   "metadata": {},
   "source": [
    "we get $d^{2}_{rs}$ as,\n",
    "![image.png](attachment:image.png)"
   ]
  },
  {
   "cell_type": "markdown",
   "metadata": {},
   "source": [
    "Note that this is zero mean. The sum of all data points will be equal to zero. This is a constraint on the data"
   ]
  },
  {
   "cell_type": "markdown",
   "metadata": {},
   "source": [
    "Using the matrix B, we can get the eigen vectors of B and then the eigen values from those vectors. We choose $k$ dimensions, where,\n",
    "$k < min (d , N)$"
   ]
  },
  {
   "cell_type": "markdown",
   "metadata": {},
   "source": [
    "Multi-dimensional scaling does the same thing as PCA,\n",
    "1. Both have a linear relationship with the original dimension $d$\n",
    "2. PCA is calculated on Covariance matrix, whereas MDS is calculated on Correlation matrix. Essentially PCA on correlation matrix is the same as MDS with euclildean distance with unit variance variables.\n",
    "3. PCA does this more efficiently"
   ]
  },
  {
   "cell_type": "markdown",
   "metadata": {},
   "source": [
    "The objectives in brief can be written as :\n",
    "1. As an exploratory technique to identify unrecognized dimensions affecting behavior \n",
    "2. As a means of obtaining comparative evaluations of objects when the specific bases of comparison are unknown or undefinable"
   ]
  },
  {
   "cell_type": "markdown",
   "metadata": {},
   "source": [
    "# Principal Component Analysis (PCA) and Linear Discriminant Analysis (LDA)"
   ]
  },
  {
   "cell_type": "markdown",
   "metadata": {},
   "source": [
    "## Principal component Analysis"
   ]
  },
  {
   "cell_type": "markdown",
   "metadata": {},
   "source": [
    "In projection methods we try to find the mapping of input space in $d$ dimensions to a new $k ( < d)$ dimensions, with minimum loss of information. The projection of x on the direction w is,\n",
    "$$Z = W^{T}*X$$"
   ]
  },
  {
   "cell_type": "markdown",
   "metadata": {},
   "source": [
    "PCA is an unsupervised dimensionality reduction method (Does not require targets). It aims to find the principal component $w$ of $x$ such that $w$ has maximum variance (The difference between different points is maximum). To ensure solution is unique $||w||$ is equal to 1, this also makes the direction important."
   ]
  },
  {
   "cell_type": "markdown",
   "metadata": {},
   "source": [
    "Consider,<br><br>\n",
    "$$Var(Z) = W^{T}*X$$\n",
    "PCA aims to maximize $Var(Z)$ and keep $||W|| = 1$"
   ]
  },
  {
   "cell_type": "markdown",
   "metadata": {},
   "source": [
    "Additionally the second principal component has to be orthogonal to the previous principal component (Dot product is zero). This ensures the correlation is minimized.\n",
    "<br><br>\n",
    "In brief:\n",
    "1. PCA is an unsupervised algorithm(Requires no targets)\n",
    "2. PCA uses the covariance matrix to find projection onto the new dimensions.\n",
    "3. PCA maximizes varaince in the data and reduces correlation \n",
    "4. The eigen values are calculated using eigen vectors and these are arranged in descending order. The first principal component contributes hte maximum variance and so on."
   ]
  },
  {
   "cell_type": "markdown",
   "metadata": {},
   "source": [
    "## Linear discriminant analysis"
   ]
  },
  {
   "cell_type": "markdown",
   "metadata": {},
   "source": [
    "Linear discriminant analysis is a supervised technique(Requires targets) for dimensionality reduction, mainly used for classification.<br><br>\n",
    "Given samples from classes C1 and C2, LDA finds a projection from the original $d$ dimension to $k < min ( d , n)$ dimensions such that the seperation between the two classes is maximum. Here $n$ is the number of classes"
   ]
  },
  {
   "cell_type": "markdown",
   "metadata": {
    "ExecuteTime": {
     "end_time": "2020-08-31T07:13:22.761829Z",
     "start_time": "2020-08-31T07:13:22.740859Z"
    }
   },
   "source": [
    "LDA is also called Fisher’s linear discriminant. The objective function is called Fisher’s criterion J(w). The Fisher criterion is defined to be the ratio of the between-class variance to the within-class variance."
   ]
  },
  {
   "cell_type": "markdown",
   "metadata": {},
   "source": [
    "LDA also finds a projection of the data (Like PCA) but also uses the targets to maximise the distance between classes (Unlike PCA)"
   ]
  },
  {
   "cell_type": "markdown",
   "metadata": {},
   "source": [
    "The projection is given by,\n",
    "$$Z = W^{T}*X$$\n"
   ]
  },
  {
   "cell_type": "markdown",
   "metadata": {},
   "source": [
    "While also optimizing the Fisher's Criterion $J(W)$ given by,\n",
    "$$J(W) = \\frac{(m_{1} - m_{2})^{2}}{(s_{1}^{2}+s_{2}^{2})}$$\n",
    "where,<br>\n",
    "$m_{i}$ is the mean of the class $i$<br>\n",
    "$s_{i}^{2}$ is the scatter (Within class) of class $i$ "
   ]
  },
  {
   "cell_type": "markdown",
   "metadata": {},
   "source": [
    "LDA essentially increase the distance between the means of the classes while at the same time decreasing the within class scatter of the class. This is encapsulated by th Fisher's Criterion"
   ]
  },
  {
   "cell_type": "markdown",
   "metadata": {},
   "source": [
    "In brief:<br>\n",
    "1. LDA is a dimnesionality reduction method that is supervosed (Requires targets)\n",
    "2. LDA is also a classifier of sorts. It aims for maximum seperation\n",
    "3. Uses covariance matrix to find projection. And hence the number of samples has to be big (Otherwise inversion gives a singular value)\n",
    "4. The resultant features are arranged in descending order of the seperation contribution. The first feature seperates the the most and so on."
   ]
  },
  {
   "cell_type": "markdown",
   "metadata": {},
   "source": [
    "# Demonstration of Dimensionality Reduction"
   ]
  },
  {
   "cell_type": "code",
   "execution_count": 93,
   "metadata": {
    "ExecuteTime": {
     "end_time": "2020-08-31T09:39:23.122308Z",
     "start_time": "2020-08-31T09:39:23.118320Z"
    }
   },
   "outputs": [],
   "source": [
    "import numpy as np\n",
    "import pandas as pd\n",
    "import matplotlib.pyplot as plt\n",
    "import seaborn as sns\n",
    "from sklearn.decomposition import PCA\n",
    "from sklearn.discriminant_analysis import LinearDiscriminantAnalysis as LDA\n",
    "import tensorflow as tf\n",
    "from sklearn.model_selection import train_test_split\n",
    "from mpl_toolkits.mplot3d import Axes3D"
   ]
  },
  {
   "cell_type": "markdown",
   "metadata": {},
   "source": [
    "https://www.kaggle.com/dipayanbiswas/parkinsons-disease-speech-signal-features"
   ]
  },
  {
   "cell_type": "code",
   "execution_count": 17,
   "metadata": {
    "ExecuteTime": {
     "end_time": "2020-08-31T09:04:28.725161Z",
     "start_time": "2020-08-31T09:04:28.590483Z"
    }
   },
   "outputs": [],
   "source": [
    "data = pd.read_csv(\"../Datasets/pd_speech_features.csv\")\n",
    "data = data.drop(data.columns[300:-1],axis = 1)\n",
    "data = data.drop(\"id\",axis = 1)"
   ]
  },
  {
   "cell_type": "code",
   "execution_count": 18,
   "metadata": {
    "ExecuteTime": {
     "end_time": "2020-08-31T09:04:30.188595Z",
     "start_time": "2020-08-31T09:04:30.170643Z"
    }
   },
   "outputs": [
    {
     "data": {
      "text/html": [
       "<div>\n",
       "<style scoped>\n",
       "    .dataframe tbody tr th:only-of-type {\n",
       "        vertical-align: middle;\n",
       "    }\n",
       "\n",
       "    .dataframe tbody tr th {\n",
       "        vertical-align: top;\n",
       "    }\n",
       "\n",
       "    .dataframe thead th {\n",
       "        text-align: right;\n",
       "    }\n",
       "</style>\n",
       "<table border=\"1\" class=\"dataframe\">\n",
       "  <thead>\n",
       "    <tr style=\"text-align: right;\">\n",
       "      <th></th>\n",
       "      <th>gender</th>\n",
       "      <th>PPE</th>\n",
       "      <th>DFA</th>\n",
       "      <th>RPDE</th>\n",
       "      <th>numPulses</th>\n",
       "      <th>numPeriodsPulses</th>\n",
       "      <th>meanPeriodPulses</th>\n",
       "      <th>stdDevPeriodPulses</th>\n",
       "      <th>locPctJitter</th>\n",
       "      <th>locAbsJitter</th>\n",
       "      <th>...</th>\n",
       "      <th>app_LT_entropy_shannon_10_coef</th>\n",
       "      <th>app_LT_entropy_log_1_coef</th>\n",
       "      <th>app_LT_entropy_log_2_coef</th>\n",
       "      <th>app_LT_entropy_log_3_coef</th>\n",
       "      <th>app_LT_entropy_log_4_coef</th>\n",
       "      <th>app_LT_entropy_log_5_coef</th>\n",
       "      <th>app_LT_entropy_log_6_coef</th>\n",
       "      <th>app_LT_entropy_log_7_coef</th>\n",
       "      <th>app_LT_entropy_log_8_coef</th>\n",
       "      <th>class</th>\n",
       "    </tr>\n",
       "  </thead>\n",
       "  <tbody>\n",
       "    <tr>\n",
       "      <th>0</th>\n",
       "      <td>1</td>\n",
       "      <td>0.85247</td>\n",
       "      <td>0.71826</td>\n",
       "      <td>0.57227</td>\n",
       "      <td>240</td>\n",
       "      <td>239</td>\n",
       "      <td>0.008064</td>\n",
       "      <td>0.000087</td>\n",
       "      <td>0.00218</td>\n",
       "      <td>0.000018</td>\n",
       "      <td>...</td>\n",
       "      <td>-3601122.613</td>\n",
       "      <td>414.6434</td>\n",
       "      <td>276.4850</td>\n",
       "      <td>198.5803</td>\n",
       "      <td>153.8978</td>\n",
       "      <td>132.2489</td>\n",
       "      <td>124.1971</td>\n",
       "      <td>127.9812</td>\n",
       "      <td>130.3804</td>\n",
       "      <td>1</td>\n",
       "    </tr>\n",
       "    <tr>\n",
       "      <th>1</th>\n",
       "      <td>1</td>\n",
       "      <td>0.76686</td>\n",
       "      <td>0.69481</td>\n",
       "      <td>0.53966</td>\n",
       "      <td>234</td>\n",
       "      <td>233</td>\n",
       "      <td>0.008258</td>\n",
       "      <td>0.000073</td>\n",
       "      <td>0.00195</td>\n",
       "      <td>0.000016</td>\n",
       "      <td>...</td>\n",
       "      <td>-3563560.603</td>\n",
       "      <td>413.5284</td>\n",
       "      <td>275.8597</td>\n",
       "      <td>198.1971</td>\n",
       "      <td>153.6379</td>\n",
       "      <td>132.0522</td>\n",
       "      <td>124.0327</td>\n",
       "      <td>127.8282</td>\n",
       "      <td>130.2373</td>\n",
       "      <td>1</td>\n",
       "    </tr>\n",
       "    <tr>\n",
       "      <th>2</th>\n",
       "      <td>1</td>\n",
       "      <td>0.85083</td>\n",
       "      <td>0.67604</td>\n",
       "      <td>0.58982</td>\n",
       "      <td>232</td>\n",
       "      <td>231</td>\n",
       "      <td>0.008340</td>\n",
       "      <td>0.000060</td>\n",
       "      <td>0.00176</td>\n",
       "      <td>0.000015</td>\n",
       "      <td>...</td>\n",
       "      <td>-3539902.400</td>\n",
       "      <td>413.0675</td>\n",
       "      <td>275.5868</td>\n",
       "      <td>198.0149</td>\n",
       "      <td>153.5036</td>\n",
       "      <td>131.9418</td>\n",
       "      <td>123.9329</td>\n",
       "      <td>127.7329</td>\n",
       "      <td>130.1464</td>\n",
       "      <td>1</td>\n",
       "    </tr>\n",
       "    <tr>\n",
       "      <th>3</th>\n",
       "      <td>0</td>\n",
       "      <td>0.41121</td>\n",
       "      <td>0.79672</td>\n",
       "      <td>0.59257</td>\n",
       "      <td>178</td>\n",
       "      <td>177</td>\n",
       "      <td>0.010858</td>\n",
       "      <td>0.000183</td>\n",
       "      <td>0.00419</td>\n",
       "      <td>0.000046</td>\n",
       "      <td>...</td>\n",
       "      <td>-3271399.011</td>\n",
       "      <td>413.6380</td>\n",
       "      <td>275.3259</td>\n",
       "      <td>197.2795</td>\n",
       "      <td>152.5940</td>\n",
       "      <td>130.9480</td>\n",
       "      <td>122.8786</td>\n",
       "      <td>126.6411</td>\n",
       "      <td>129.0689</td>\n",
       "      <td>1</td>\n",
       "    </tr>\n",
       "    <tr>\n",
       "      <th>4</th>\n",
       "      <td>0</td>\n",
       "      <td>0.32790</td>\n",
       "      <td>0.79782</td>\n",
       "      <td>0.53028</td>\n",
       "      <td>236</td>\n",
       "      <td>235</td>\n",
       "      <td>0.008162</td>\n",
       "      <td>0.002669</td>\n",
       "      <td>0.00535</td>\n",
       "      <td>0.000044</td>\n",
       "      <td>...</td>\n",
       "      <td>-3367165.736</td>\n",
       "      <td>421.1396</td>\n",
       "      <td>279.1703</td>\n",
       "      <td>199.4350</td>\n",
       "      <td>153.7788</td>\n",
       "      <td>131.6258</td>\n",
       "      <td>123.3566</td>\n",
       "      <td>127.0837</td>\n",
       "      <td>129.4029</td>\n",
       "      <td>1</td>\n",
       "    </tr>\n",
       "  </tbody>\n",
       "</table>\n",
       "<p>5 rows × 300 columns</p>\n",
       "</div>"
      ],
      "text/plain": [
       "   gender      PPE      DFA     RPDE  numPulses  numPeriodsPulses  \\\n",
       "0       1  0.85247  0.71826  0.57227        240               239   \n",
       "1       1  0.76686  0.69481  0.53966        234               233   \n",
       "2       1  0.85083  0.67604  0.58982        232               231   \n",
       "3       0  0.41121  0.79672  0.59257        178               177   \n",
       "4       0  0.32790  0.79782  0.53028        236               235   \n",
       "\n",
       "   meanPeriodPulses  stdDevPeriodPulses  locPctJitter  locAbsJitter  ...  \\\n",
       "0          0.008064            0.000087       0.00218      0.000018  ...   \n",
       "1          0.008258            0.000073       0.00195      0.000016  ...   \n",
       "2          0.008340            0.000060       0.00176      0.000015  ...   \n",
       "3          0.010858            0.000183       0.00419      0.000046  ...   \n",
       "4          0.008162            0.002669       0.00535      0.000044  ...   \n",
       "\n",
       "   app_LT_entropy_shannon_10_coef  app_LT_entropy_log_1_coef  \\\n",
       "0                    -3601122.613                   414.6434   \n",
       "1                    -3563560.603                   413.5284   \n",
       "2                    -3539902.400                   413.0675   \n",
       "3                    -3271399.011                   413.6380   \n",
       "4                    -3367165.736                   421.1396   \n",
       "\n",
       "   app_LT_entropy_log_2_coef  app_LT_entropy_log_3_coef  \\\n",
       "0                   276.4850                   198.5803   \n",
       "1                   275.8597                   198.1971   \n",
       "2                   275.5868                   198.0149   \n",
       "3                   275.3259                   197.2795   \n",
       "4                   279.1703                   199.4350   \n",
       "\n",
       "   app_LT_entropy_log_4_coef  app_LT_entropy_log_5_coef  \\\n",
       "0                   153.8978                   132.2489   \n",
       "1                   153.6379                   132.0522   \n",
       "2                   153.5036                   131.9418   \n",
       "3                   152.5940                   130.9480   \n",
       "4                   153.7788                   131.6258   \n",
       "\n",
       "   app_LT_entropy_log_6_coef  app_LT_entropy_log_7_coef  \\\n",
       "0                   124.1971                   127.9812   \n",
       "1                   124.0327                   127.8282   \n",
       "2                   123.9329                   127.7329   \n",
       "3                   122.8786                   126.6411   \n",
       "4                   123.3566                   127.0837   \n",
       "\n",
       "   app_LT_entropy_log_8_coef  class  \n",
       "0                   130.3804      1  \n",
       "1                   130.2373      1  \n",
       "2                   130.1464      1  \n",
       "3                   129.0689      1  \n",
       "4                   129.4029      1  \n",
       "\n",
       "[5 rows x 300 columns]"
      ]
     },
     "execution_count": 18,
     "metadata": {},
     "output_type": "execute_result"
    }
   ],
   "source": [
    "data.head()"
   ]
  },
  {
   "cell_type": "code",
   "execution_count": 19,
   "metadata": {
    "ExecuteTime": {
     "end_time": "2020-08-31T09:04:34.699963Z",
     "start_time": "2020-08-31T09:04:34.695974Z"
    }
   },
   "outputs": [
    {
     "data": {
      "text/plain": [
       "(756, 300)"
      ]
     },
     "execution_count": 19,
     "metadata": {},
     "output_type": "execute_result"
    }
   ],
   "source": [
    "data.shape"
   ]
  },
  {
   "cell_type": "code",
   "execution_count": 20,
   "metadata": {
    "ExecuteTime": {
     "end_time": "2020-08-31T09:04:35.365795Z",
     "start_time": "2020-08-31T09:04:34.926967Z"
    }
   },
   "outputs": [
    {
     "data": {
      "text/html": [
       "<div>\n",
       "<style scoped>\n",
       "    .dataframe tbody tr th:only-of-type {\n",
       "        vertical-align: middle;\n",
       "    }\n",
       "\n",
       "    .dataframe tbody tr th {\n",
       "        vertical-align: top;\n",
       "    }\n",
       "\n",
       "    .dataframe thead th {\n",
       "        text-align: right;\n",
       "    }\n",
       "</style>\n",
       "<table border=\"1\" class=\"dataframe\">\n",
       "  <thead>\n",
       "    <tr style=\"text-align: right;\">\n",
       "      <th></th>\n",
       "      <th>gender</th>\n",
       "      <th>PPE</th>\n",
       "      <th>DFA</th>\n",
       "      <th>RPDE</th>\n",
       "      <th>numPulses</th>\n",
       "      <th>numPeriodsPulses</th>\n",
       "      <th>meanPeriodPulses</th>\n",
       "      <th>stdDevPeriodPulses</th>\n",
       "      <th>locPctJitter</th>\n",
       "      <th>locAbsJitter</th>\n",
       "      <th>...</th>\n",
       "      <th>app_LT_entropy_shannon_10_coef</th>\n",
       "      <th>app_LT_entropy_log_1_coef</th>\n",
       "      <th>app_LT_entropy_log_2_coef</th>\n",
       "      <th>app_LT_entropy_log_3_coef</th>\n",
       "      <th>app_LT_entropy_log_4_coef</th>\n",
       "      <th>app_LT_entropy_log_5_coef</th>\n",
       "      <th>app_LT_entropy_log_6_coef</th>\n",
       "      <th>app_LT_entropy_log_7_coef</th>\n",
       "      <th>app_LT_entropy_log_8_coef</th>\n",
       "      <th>class</th>\n",
       "    </tr>\n",
       "  </thead>\n",
       "  <tbody>\n",
       "    <tr>\n",
       "      <th>count</th>\n",
       "      <td>756.000000</td>\n",
       "      <td>756.000000</td>\n",
       "      <td>756.000000</td>\n",
       "      <td>756.000000</td>\n",
       "      <td>756.000000</td>\n",
       "      <td>756.000000</td>\n",
       "      <td>756.000000</td>\n",
       "      <td>756.000000</td>\n",
       "      <td>756.000000</td>\n",
       "      <td>7.560000e+02</td>\n",
       "      <td>...</td>\n",
       "      <td>7.560000e+02</td>\n",
       "      <td>756.000000</td>\n",
       "      <td>756.000000</td>\n",
       "      <td>756.000000</td>\n",
       "      <td>756.000000</td>\n",
       "      <td>756.000000</td>\n",
       "      <td>756.000000</td>\n",
       "      <td>756.000000</td>\n",
       "      <td>756.000000</td>\n",
       "      <td>756.000000</td>\n",
       "    </tr>\n",
       "    <tr>\n",
       "      <th>mean</th>\n",
       "      <td>0.515873</td>\n",
       "      <td>0.746284</td>\n",
       "      <td>0.700414</td>\n",
       "      <td>0.489058</td>\n",
       "      <td>323.972222</td>\n",
       "      <td>322.678571</td>\n",
       "      <td>0.006360</td>\n",
       "      <td>0.000383</td>\n",
       "      <td>0.002324</td>\n",
       "      <td>1.673391e-05</td>\n",
       "      <td>...</td>\n",
       "      <td>-4.143375e+06</td>\n",
       "      <td>425.629078</td>\n",
       "      <td>282.711578</td>\n",
       "      <td>202.511481</td>\n",
       "      <td>156.685856</td>\n",
       "      <td>134.482587</td>\n",
       "      <td>126.164411</td>\n",
       "      <td>129.842591</td>\n",
       "      <td>132.197901</td>\n",
       "      <td>0.746032</td>\n",
       "    </tr>\n",
       "    <tr>\n",
       "      <th>std</th>\n",
       "      <td>0.500079</td>\n",
       "      <td>0.169294</td>\n",
       "      <td>0.069718</td>\n",
       "      <td>0.137442</td>\n",
       "      <td>99.219059</td>\n",
       "      <td>99.402499</td>\n",
       "      <td>0.001826</td>\n",
       "      <td>0.000728</td>\n",
       "      <td>0.002628</td>\n",
       "      <td>2.290134e-05</td>\n",
       "      <td>...</td>\n",
       "      <td>4.876751e+05</td>\n",
       "      <td>22.146419</td>\n",
       "      <td>12.763780</td>\n",
       "      <td>7.567502</td>\n",
       "      <td>4.475900</td>\n",
       "      <td>2.819619</td>\n",
       "      <td>2.067284</td>\n",
       "      <td>1.888099</td>\n",
       "      <td>1.632429</td>\n",
       "      <td>0.435568</td>\n",
       "    </tr>\n",
       "    <tr>\n",
       "      <th>min</th>\n",
       "      <td>0.000000</td>\n",
       "      <td>0.041551</td>\n",
       "      <td>0.543500</td>\n",
       "      <td>0.154300</td>\n",
       "      <td>2.000000</td>\n",
       "      <td>1.000000</td>\n",
       "      <td>0.002107</td>\n",
       "      <td>0.000011</td>\n",
       "      <td>0.000210</td>\n",
       "      <td>6.860000e-07</td>\n",
       "      <td>...</td>\n",
       "      <td>-5.882489e+06</td>\n",
       "      <td>138.297600</td>\n",
       "      <td>115.908600</td>\n",
       "      <td>106.489700</td>\n",
       "      <td>102.332000</td>\n",
       "      <td>107.374200</td>\n",
       "      <td>111.134600</td>\n",
       "      <td>121.331100</td>\n",
       "      <td>126.152000</td>\n",
       "      <td>0.000000</td>\n",
       "    </tr>\n",
       "    <tr>\n",
       "      <th>25%</th>\n",
       "      <td>0.000000</td>\n",
       "      <td>0.762833</td>\n",
       "      <td>0.647053</td>\n",
       "      <td>0.386537</td>\n",
       "      <td>251.000000</td>\n",
       "      <td>250.000000</td>\n",
       "      <td>0.005003</td>\n",
       "      <td>0.000049</td>\n",
       "      <td>0.000970</td>\n",
       "      <td>5.260000e-06</td>\n",
       "      <td>...</td>\n",
       "      <td>-4.474741e+06</td>\n",
       "      <td>419.073075</td>\n",
       "      <td>279.039500</td>\n",
       "      <td>200.170825</td>\n",
       "      <td>155.049100</td>\n",
       "      <td>133.138125</td>\n",
       "      <td>124.978700</td>\n",
       "      <td>128.718000</td>\n",
       "      <td>131.123125</td>\n",
       "      <td>0.000000</td>\n",
       "    </tr>\n",
       "    <tr>\n",
       "      <th>50%</th>\n",
       "      <td>1.000000</td>\n",
       "      <td>0.809655</td>\n",
       "      <td>0.700525</td>\n",
       "      <td>0.484355</td>\n",
       "      <td>317.000000</td>\n",
       "      <td>316.000000</td>\n",
       "      <td>0.006048</td>\n",
       "      <td>0.000077</td>\n",
       "      <td>0.001495</td>\n",
       "      <td>9.530000e-06</td>\n",
       "      <td>...</td>\n",
       "      <td>-4.155440e+06</td>\n",
       "      <td>428.110650</td>\n",
       "      <td>284.092300</td>\n",
       "      <td>203.374950</td>\n",
       "      <td>157.179700</td>\n",
       "      <td>134.804800</td>\n",
       "      <td>126.390950</td>\n",
       "      <td>130.046450</td>\n",
       "      <td>132.335200</td>\n",
       "      <td>1.000000</td>\n",
       "    </tr>\n",
       "    <tr>\n",
       "      <th>75%</th>\n",
       "      <td>1.000000</td>\n",
       "      <td>0.834315</td>\n",
       "      <td>0.754985</td>\n",
       "      <td>0.586515</td>\n",
       "      <td>384.250000</td>\n",
       "      <td>383.250000</td>\n",
       "      <td>0.007528</td>\n",
       "      <td>0.000171</td>\n",
       "      <td>0.002520</td>\n",
       "      <td>1.832500e-05</td>\n",
       "      <td>...</td>\n",
       "      <td>-3.802516e+06</td>\n",
       "      <td>435.746200</td>\n",
       "      <td>288.434200</td>\n",
       "      <td>206.039200</td>\n",
       "      <td>159.002800</td>\n",
       "      <td>136.164075</td>\n",
       "      <td>127.547025</td>\n",
       "      <td>131.134600</td>\n",
       "      <td>133.346950</td>\n",
       "      <td>1.000000</td>\n",
       "    </tr>\n",
       "    <tr>\n",
       "      <th>max</th>\n",
       "      <td>1.000000</td>\n",
       "      <td>0.907660</td>\n",
       "      <td>0.852640</td>\n",
       "      <td>0.871230</td>\n",
       "      <td>907.000000</td>\n",
       "      <td>905.000000</td>\n",
       "      <td>0.012966</td>\n",
       "      <td>0.003483</td>\n",
       "      <td>0.027750</td>\n",
       "      <td>2.564800e-04</td>\n",
       "      <td>...</td>\n",
       "      <td>-2.665481e+06</td>\n",
       "      <td>467.377300</td>\n",
       "      <td>305.941900</td>\n",
       "      <td>216.634100</td>\n",
       "      <td>166.016500</td>\n",
       "      <td>141.399600</td>\n",
       "      <td>131.865800</td>\n",
       "      <td>135.165000</td>\n",
       "      <td>137.089700</td>\n",
       "      <td>1.000000</td>\n",
       "    </tr>\n",
       "  </tbody>\n",
       "</table>\n",
       "<p>8 rows × 300 columns</p>\n",
       "</div>"
      ],
      "text/plain": [
       "           gender         PPE         DFA        RPDE   numPulses  \\\n",
       "count  756.000000  756.000000  756.000000  756.000000  756.000000   \n",
       "mean     0.515873    0.746284    0.700414    0.489058  323.972222   \n",
       "std      0.500079    0.169294    0.069718    0.137442   99.219059   \n",
       "min      0.000000    0.041551    0.543500    0.154300    2.000000   \n",
       "25%      0.000000    0.762833    0.647053    0.386537  251.000000   \n",
       "50%      1.000000    0.809655    0.700525    0.484355  317.000000   \n",
       "75%      1.000000    0.834315    0.754985    0.586515  384.250000   \n",
       "max      1.000000    0.907660    0.852640    0.871230  907.000000   \n",
       "\n",
       "       numPeriodsPulses  meanPeriodPulses  stdDevPeriodPulses  locPctJitter  \\\n",
       "count        756.000000        756.000000          756.000000    756.000000   \n",
       "mean         322.678571          0.006360            0.000383      0.002324   \n",
       "std           99.402499          0.001826            0.000728      0.002628   \n",
       "min            1.000000          0.002107            0.000011      0.000210   \n",
       "25%          250.000000          0.005003            0.000049      0.000970   \n",
       "50%          316.000000          0.006048            0.000077      0.001495   \n",
       "75%          383.250000          0.007528            0.000171      0.002520   \n",
       "max          905.000000          0.012966            0.003483      0.027750   \n",
       "\n",
       "       locAbsJitter  ...  app_LT_entropy_shannon_10_coef  \\\n",
       "count  7.560000e+02  ...                    7.560000e+02   \n",
       "mean   1.673391e-05  ...                   -4.143375e+06   \n",
       "std    2.290134e-05  ...                    4.876751e+05   \n",
       "min    6.860000e-07  ...                   -5.882489e+06   \n",
       "25%    5.260000e-06  ...                   -4.474741e+06   \n",
       "50%    9.530000e-06  ...                   -4.155440e+06   \n",
       "75%    1.832500e-05  ...                   -3.802516e+06   \n",
       "max    2.564800e-04  ...                   -2.665481e+06   \n",
       "\n",
       "       app_LT_entropy_log_1_coef  app_LT_entropy_log_2_coef  \\\n",
       "count                 756.000000                 756.000000   \n",
       "mean                  425.629078                 282.711578   \n",
       "std                    22.146419                  12.763780   \n",
       "min                   138.297600                 115.908600   \n",
       "25%                   419.073075                 279.039500   \n",
       "50%                   428.110650                 284.092300   \n",
       "75%                   435.746200                 288.434200   \n",
       "max                   467.377300                 305.941900   \n",
       "\n",
       "       app_LT_entropy_log_3_coef  app_LT_entropy_log_4_coef  \\\n",
       "count                 756.000000                 756.000000   \n",
       "mean                  202.511481                 156.685856   \n",
       "std                     7.567502                   4.475900   \n",
       "min                   106.489700                 102.332000   \n",
       "25%                   200.170825                 155.049100   \n",
       "50%                   203.374950                 157.179700   \n",
       "75%                   206.039200                 159.002800   \n",
       "max                   216.634100                 166.016500   \n",
       "\n",
       "       app_LT_entropy_log_5_coef  app_LT_entropy_log_6_coef  \\\n",
       "count                 756.000000                 756.000000   \n",
       "mean                  134.482587                 126.164411   \n",
       "std                     2.819619                   2.067284   \n",
       "min                   107.374200                 111.134600   \n",
       "25%                   133.138125                 124.978700   \n",
       "50%                   134.804800                 126.390950   \n",
       "75%                   136.164075                 127.547025   \n",
       "max                   141.399600                 131.865800   \n",
       "\n",
       "       app_LT_entropy_log_7_coef  app_LT_entropy_log_8_coef       class  \n",
       "count                 756.000000                 756.000000  756.000000  \n",
       "mean                  129.842591                 132.197901    0.746032  \n",
       "std                     1.888099                   1.632429    0.435568  \n",
       "min                   121.331100                 126.152000    0.000000  \n",
       "25%                   128.718000                 131.123125    0.000000  \n",
       "50%                   130.046450                 132.335200    1.000000  \n",
       "75%                   131.134600                 133.346950    1.000000  \n",
       "max                   135.165000                 137.089700    1.000000  \n",
       "\n",
       "[8 rows x 300 columns]"
      ]
     },
     "execution_count": 20,
     "metadata": {},
     "output_type": "execute_result"
    }
   ],
   "source": [
    "data.describe()"
   ]
  },
  {
   "cell_type": "code",
   "execution_count": 22,
   "metadata": {
    "ExecuteTime": {
     "end_time": "2020-08-31T09:05:32.082683Z",
     "start_time": "2020-08-31T09:05:32.077696Z"
    }
   },
   "outputs": [],
   "source": [
    "target = data[\"class\"]\n",
    "data_sec = data[data.columns[:-1]]"
   ]
  },
  {
   "cell_type": "code",
   "execution_count": 38,
   "metadata": {
    "ExecuteTime": {
     "end_time": "2020-08-31T09:16:36.739763Z",
     "start_time": "2020-08-31T09:16:36.663919Z"
    }
   },
   "outputs": [
    {
     "name": "stdout",
     "output_type": "stream",
     "text": [
      "1    564\n",
      "0    192\n",
      "Name: class, dtype: int64\n",
      "Baseline 74.60317460317461 %\n"
     ]
    },
    {
     "data": {
      "image/png": "[encoded data removed]",
      "text/plain": [
       "<Figure size 432x288 with 1 Axes>"
      ]
     },
     "metadata": {
      "needs_background": "light"
     },
     "output_type": "display_data"
    }
   ],
   "source": [
    "sns.countplot(target)\n",
    "print(target.value_counts())\n",
    "print(\"Baseline\",(target.value_counts()[1]/target.shape[0])*100,\"%\")"
   ]
  },
  {
   "cell_type": "code",
   "execution_count": 145,
   "metadata": {
    "ExecuteTime": {
     "end_time": "2020-08-31T10:06:36.272469Z",
     "start_time": "2020-08-31T10:06:36.265487Z"
    }
   },
   "outputs": [],
   "source": [
    "X_train,X_test,Y_train,Y_test = train_test_split(data_sec,target,test_size = 0.2)"
   ]
  },
  {
   "cell_type": "code",
   "execution_count": 146,
   "metadata": {
    "ExecuteTime": {
     "end_time": "2020-08-31T10:06:36.448254Z",
     "start_time": "2020-08-31T10:06:36.445222Z"
    }
   },
   "outputs": [
    {
     "name": "stdout",
     "output_type": "stream",
     "text": [
      "(604, 299) (604,)\n",
      "(152, 299) (152,)\n"
     ]
    }
   ],
   "source": [
    "print(X_train.shape,Y_train.shape)\n",
    "print(X_test.shape,Y_test.shape)"
   ]
  },
  {
   "cell_type": "code",
   "execution_count": 147,
   "metadata": {
    "ExecuteTime": {
     "end_time": "2020-08-31T10:06:37.386379Z",
     "start_time": "2020-08-31T10:06:37.146971Z"
    }
   },
   "outputs": [],
   "source": [
    "X_train = (X_train - X_train.mean())/X_train.std()\n",
    "X_test = (X_test - X_test.mean())/X_test.std()"
   ]
  },
  {
   "cell_type": "code",
   "execution_count": 149,
   "metadata": {
    "ExecuteTime": {
     "end_time": "2020-08-31T10:08:53.683630Z",
     "start_time": "2020-08-31T10:08:53.229760Z"
    }
   },
   "outputs": [
    {
     "data": {
      "text/plain": [
       "Text(0, 0.5, 'Explained Variance ratio')"
      ]
     },
     "execution_count": 149,
     "metadata": {},
     "output_type": "execute_result"
    },
    {
     "data": {
      "image/png": "[encoded data removed]",
      "text/plain": [
       "<Figure size 432x288 with 1 Axes>"
      ]
     },
     "metadata": {
      "needs_background": "light"
     },
     "output_type": "display_data"
    }
   ],
   "source": [
    "pca = PCA().fit(X_train)\n",
    "X_pca = pca.fit_transform(X_train)\n",
    "X_pca_test = pca.fit_transform(X_test)\n",
    "sums = np.cumsum(pca.explained_variance_ratio_)\n",
    "plt.plot(np.cumsum(pca.explained_variance_ratio_))\n",
    "plt.xlabel(\"Number of Components\")\n",
    "plt.ylabel(\"Explained Variance ratio\")"
   ]
  },
  {
   "cell_type": "code",
   "execution_count": 72,
   "metadata": {
    "ExecuteTime": {
     "end_time": "2020-08-31T09:29:48.125167Z",
     "start_time": "2020-08-31T09:29:48.121177Z"
    }
   },
   "outputs": [
    {
     "data": {
      "text/plain": [
       "0.9657289439379847"
      ]
     },
     "execution_count": 72,
     "metadata": {},
     "output_type": "execute_result"
    }
   ],
   "source": [
    "sums[80]"
   ]
  },
  {
   "cell_type": "code",
   "execution_count": 91,
   "metadata": {
    "ExecuteTime": {
     "end_time": "2020-08-31T09:36:19.820594Z",
     "start_time": "2020-08-31T09:36:19.672956Z"
    }
   },
   "outputs": [
    {
     "data": {
      "text/plain": [
       "Text(0, 0.5, 'PCA Component 2')"
      ]
     },
     "execution_count": 91,
     "metadata": {},
     "output_type": "execute_result"
    },
    {
     "data": {
      "image/png": "[encoded data removed]",
      "text/plain": [
       "<Figure size 432x288 with 1 Axes>"
      ]
     },
     "metadata": {
      "needs_background": "light"
     },
     "output_type": "display_data"
    }
   ],
   "source": [
    "sns.scatterplot(X_pca[:,0],X_pca[:,1],hue = Y_train)\n",
    "plt.xlabel(\"PCA Component 1\")\n",
    "plt.ylabel(\"PCA Component 2\")"
   ]
  },
  {
   "cell_type": "code",
   "execution_count": 102,
   "metadata": {
    "ExecuteTime": {
     "end_time": "2020-08-31T09:40:31.025366Z",
     "start_time": "2020-08-31T09:40:30.767026Z"
    }
   },
   "outputs": [
    {
     "data": {
      "image/png": "[encoded data removed]",
      "text/plain": [
       "<Figure size 432x288 with 2 Axes>"
      ]
     },
     "metadata": {
      "needs_background": "light"
     },
     "output_type": "display_data"
    }
   ],
   "source": [
    "ax = Axes3D(plt.figure())\n",
    "p = ax.scatter(X_pca[:, 0], X_pca[:, 1],X_pca[:,2],\n",
    "            c=Y_train, alpha=0.5,\n",
    "            cmap=plt.cm.get_cmap('vlag_r', 2))\n",
    "plt.xlabel('component 1')\n",
    "plt.ylabel('component 2')\n",
    "ax.set_zlabel('component 3')\n",
    "plt.colorbar(p);"
   ]
  },
  {
   "cell_type": "code",
   "execution_count": 198,
   "metadata": {
    "ExecuteTime": {
     "end_time": "2020-08-31T10:23:49.934713Z",
     "start_time": "2020-08-31T10:23:49.876869Z"
    }
   },
   "outputs": [],
   "source": [
    "lda = LDA().fit_transform(X_train,Y_train)\n",
    "lda_test = LDA().fit_transform(X_test,Y_test)"
   ]
  },
  {
   "cell_type": "code",
   "execution_count": 113,
   "metadata": {
    "ExecuteTime": {
     "end_time": "2020-08-31T09:44:24.899238Z",
     "start_time": "2020-08-31T09:44:24.760602Z"
    }
   },
   "outputs": [
    {
     "data": {
      "text/plain": [
       "Text(0, 0.5, 'LDA Component 2')"
      ]
     },
     "execution_count": 113,
     "metadata": {},
     "output_type": "execute_result"
    },
    {
     "data": {
      "image/png": "[encoded data removed]",
      "text/plain": [
       "<Figure size 432x288 with 1 Axes>"
      ]
     },
     "metadata": {
      "needs_background": "light"
     },
     "output_type": "display_data"
    }
   ],
   "source": [
    "sns.scatterplot(lda[:,0],1,hue = Y_train)\n",
    "plt.xlabel(\"LDA Component 1\")\n",
    "plt.ylabel(\"LDA Component 2\")"
   ]
  },
  {
   "cell_type": "code",
   "execution_count": 110,
   "metadata": {
    "ExecuteTime": {
     "end_time": "2020-08-31T09:42:27.447564Z",
     "start_time": "2020-08-31T09:42:27.442577Z"
    }
   },
   "outputs": [
    {
     "data": {
      "text/plain": [
       "(604, 1)"
      ]
     },
     "execution_count": 110,
     "metadata": {},
     "output_type": "execute_result"
    }
   ],
   "source": [
    "lda.shape"
   ]
  },
  {
   "cell_type": "code",
   "execution_count": 141,
   "metadata": {
    "ExecuteTime": {
     "end_time": "2020-08-31T10:05:05.218596Z",
     "start_time": "2020-08-31T10:04:53.878896Z"
    }
   },
   "outputs": [
    {
     "name": "stdout",
     "output_type": "stream",
     "text": [
      "Model: \"sequential_7\"\n",
      "_________________________________________________________________\n",
      "Layer (type)                 Output Shape              Param #   \n",
      "=================================================================\n",
      "dense_13 (Dense)             (1, 256)                  76800     \n",
      "_________________________________________________________________\n",
      "dense_14 (Dense)             (1, 1)                    257       \n",
      "=================================================================\n",
      "Total params: 77,057\n",
      "Trainable params: 77,057\n",
      "Non-trainable params: 0\n",
      "_________________________________________________________________\n",
      "Epoch 1/10\n",
      "604/604 [==============================] - 1s 2ms/sample - loss: 0.5901 - acc: 0.7715\n",
      "Epoch 2/10\n",
      "604/604 [==============================] - 1s 2ms/sample - loss: 0.2866 - acc: 0.8775\n",
      "Epoch 3/10\n",
      "604/604 [==============================] - 1s 2ms/sample - loss: 0.2381 - acc: 0.9023\n",
      "Epoch 4/10\n",
      "604/604 [==============================] - 1s 2ms/sample - loss: 0.1904 - acc: 0.9338\n",
      "Epoch 5/10\n",
      "604/604 [==============================] - 1s 2ms/sample - loss: 0.1586 - acc: 0.9487\n",
      "Epoch 6/10\n",
      "604/604 [==============================] - 1s 2ms/sample - loss: 0.1180 - acc: 0.9619\n",
      "Epoch 7/10\n",
      "604/604 [==============================] - 1s 2ms/sample - loss: 0.0598 - acc: 0.9834\n",
      "Epoch 8/10\n",
      "604/604 [==============================] - 1s 2ms/sample - loss: 0.0591 - acc: 0.9884\n",
      "Epoch 9/10\n",
      "604/604 [==============================] - 1s 2ms/sample - loss: 0.0573 - acc: 0.9818\n",
      "Epoch 10/10\n",
      "604/604 [==============================] - 1s 2ms/sample - loss: 0.0600 - acc: 0.9818\n"
     ]
    },
    {
     "data": {
      "text/plain": [
       "<tensorflow.python.keras.callbacks.History at 0x1febb541888>"
      ]
     },
     "execution_count": 141,
     "metadata": {},
     "output_type": "execute_result"
    }
   ],
   "source": [
    "model_orig = tf.keras.models.Sequential([tf.keras.layers.Input(299,1),\n",
    "                                        tf.keras.layers.Dense(units = 256,activation = tf.nn.relu),\n",
    "                                        tf.keras.layers.Dense(units = 1,activation = tf.nn.sigmoid)])\n",
    "model_orig.compile(optimizer = \"adam\",loss = \"binary_crossentropy\",metrics = [\"accuracy\"])\n",
    "model_orig.build()\n",
    "model_orig.summary()\n",
    "model_orig.fit(X_train,Y_train.values,epochs = 10)"
   ]
  },
  {
   "cell_type": "code",
   "execution_count": 144,
   "metadata": {
    "ExecuteTime": {
     "end_time": "2020-08-31T10:05:49.098897Z",
     "start_time": "2020-08-31T10:05:48.411732Z"
    }
   },
   "outputs": [
    {
     "name": "stdout",
     "output_type": "stream",
     "text": [
      "604/604 [==============================] - 1s 882us/sample - loss: 0.7026 - acc: 0.9255\n",
      "92.54966974258423\n",
      "152/152 [==============================] - 0s 886us/sample - loss: 1.3734 - acc: 0.7632\n",
      "76.31579041481018\n"
     ]
    }
   ],
   "source": [
    "print(model_orig.evaluate(X_train,Y_train.values)[1]*100)\n",
    "print(model_orig.evaluate(X_test,Y_test.values)[1]*100)"
   ]
  },
  {
   "cell_type": "code",
   "execution_count": 224,
   "metadata": {
    "ExecuteTime": {
     "end_time": "2020-08-31T10:40:42.784151Z",
     "start_time": "2020-08-31T10:40:14.127805Z"
    }
   },
   "outputs": [
    {
     "name": "stdout",
     "output_type": "stream",
     "text": [
      "Model: \"sequential_42\"\n",
      "_________________________________________________________________\n",
      "Layer (type)                 Output Shape              Param #   \n",
      "=================================================================\n",
      "dense_83 (Dense)             (1, 1024)                 154624    \n",
      "_________________________________________________________________\n",
      "dense_84 (Dense)             (1, 1)                    1025      \n",
      "=================================================================\n",
      "Total params: 155,649\n",
      "Trainable params: 155,649\n",
      "Non-trainable params: 0\n",
      "_________________________________________________________________\n",
      "Epoch 1/20\n",
      "604/604 [==============================] - 2s 3ms/sample - loss: 7.3186 - acc: 0.7666\n",
      "Epoch 2/20\n",
      "604/604 [==============================] - 1s 2ms/sample - loss: 0.7312 - acc: 0.7748\n",
      "Epoch 3/20\n",
      "604/604 [==============================] - 1s 2ms/sample - loss: 0.7333 - acc: 0.7781\n",
      "Epoch 4/20\n",
      "604/604 [==============================] - 1s 2ms/sample - loss: 0.7175 - acc: 0.7765\n",
      "Epoch 5/20\n",
      "604/604 [==============================] - 1s 2ms/sample - loss: 0.6736 - acc: 0.7914\n",
      "Epoch 6/20\n",
      "604/604 [==============================] - 1s 2ms/sample - loss: 0.6500 - acc: 0.7781\n",
      "Epoch 7/20\n",
      "604/604 [==============================] - 1s 2ms/sample - loss: 0.6322 - acc: 0.7864\n",
      "Epoch 8/20\n",
      "604/604 [==============================] - 1s 2ms/sample - loss: 0.6201 - acc: 0.7964\n",
      "Epoch 9/20\n",
      "604/604 [==============================] - 1s 2ms/sample - loss: 0.5922 - acc: 0.8013\n",
      "Epoch 10/20\n",
      "604/604 [==============================] - 1s 2ms/sample - loss: 0.5757 - acc: 0.7930\n",
      "Epoch 11/20\n",
      "604/604 [==============================] - 1s 2ms/sample - loss: 0.5883 - acc: 0.7831\n",
      "Epoch 12/20\n",
      "604/604 [==============================] - 1s 2ms/sample - loss: 0.5669 - acc: 0.7864\n",
      "Epoch 13/20\n",
      "604/604 [==============================] - 1s 2ms/sample - loss: 0.5607 - acc: 0.7997\n",
      "Epoch 14/20\n",
      "604/604 [==============================] - 1s 2ms/sample - loss: 0.5600 - acc: 0.8013\n",
      "Epoch 15/20\n",
      "604/604 [==============================] - 1s 2ms/sample - loss: 0.5571 - acc: 0.7930\n",
      "Epoch 16/20\n",
      "604/604 [==============================] - 1s 2ms/sample - loss: 0.5412 - acc: 0.8063\n",
      "Epoch 17/20\n",
      "604/604 [==============================] - 1s 2ms/sample - loss: 0.5478 - acc: 0.8030\n",
      "Epoch 18/20\n",
      "604/604 [==============================] - 1s 2ms/sample - loss: 0.5466 - acc: 0.8046\n",
      "Epoch 19/20\n",
      "604/604 [==============================] - 1s 2ms/sample - loss: 0.5422 - acc: 0.7914\n",
      "Epoch 20/20\n",
      "604/604 [==============================] - 1s 2ms/sample - loss: 0.5381 - acc: 0.7980\n"
     ]
    },
    {
     "data": {
      "text/plain": [
       "<tensorflow.python.keras.callbacks.History at 0x1ffa97f2488>"
      ]
     },
     "execution_count": 224,
     "metadata": {},
     "output_type": "execute_result"
    }
   ],
   "source": [
    "feat = 150\n",
    "model_pca = tf.keras.models.Sequential([tf.keras.layers.Input(feat,1),\n",
    "                                        tf.keras.layers.Dense(units = 1024,activation = tf.nn.relu,kernel_regularizer = tf.keras.regularizers.l2(0.7)),\n",
    "                                        tf.keras.layers.Dense(units = 1,activation = tf.nn.sigmoid)])\n",
    "model_pca.compile(optimizer = \"adam\",loss = \"binary_crossentropy\",metrics = [\"accuracy\"])\n",
    "model_pca.build()\n",
    "model_pca.summary()\n",
    "model_pca.fit(X_pca[:,:feat],Y_train.values,epochs = 20)"
   ]
  },
  {
   "cell_type": "code",
   "execution_count": 225,
   "metadata": {
    "ExecuteTime": {
     "end_time": "2020-08-31T10:40:44.214297Z",
     "start_time": "2020-08-31T10:40:42.785120Z"
    }
   },
   "outputs": [
    {
     "name": "stdout",
     "output_type": "stream",
     "text": [
      "604/604 [==============================] - 1s 2ms/sample - loss: 0.4896 - acc: 0.8477\n",
      "84.76821184158325\n",
      "152/152 [==============================] - 0s 1ms/sample - loss: 0.7737 - acc: 0.7697\n",
      "76.97368264198303\n"
     ]
    }
   ],
   "source": [
    "print(model_pca.evaluate(X_pca[:,:feat],Y_train.values)[1]*100)\n",
    "print(model_pca.evaluate(X_pca_test[:,:feat],Y_test.values)[1]*100)"
   ]
  },
  {
   "cell_type": "code",
   "execution_count": 199,
   "metadata": {
    "ExecuteTime": {
     "end_time": "2020-08-31T10:24:08.405734Z",
     "start_time": "2020-08-31T10:23:54.642703Z"
    }
   },
   "outputs": [
    {
     "name": "stdout",
     "output_type": "stream",
     "text": [
      "Model: \"sequential_30\"\n",
      "_________________________________________________________________\n",
      "Layer (type)                 Output Shape              Param #   \n",
      "=================================================================\n",
      "dense_59 (Dense)             (1, 256)                  512       \n",
      "_________________________________________________________________\n",
      "dense_60 (Dense)             (1, 1)                    257       \n",
      "=================================================================\n",
      "Total params: 769\n",
      "Trainable params: 769\n",
      "Non-trainable params: 0\n",
      "_________________________________________________________________\n",
      "Epoch 1/10\n",
      "604/604 [==============================] - 2s 3ms/sample - loss: 0.2425 - acc: 0.9139\n",
      "Epoch 2/10\n",
      "604/604 [==============================] - 1s 2ms/sample - loss: 0.1736 - acc: 0.9255\n",
      "Epoch 3/10\n",
      "604/604 [==============================] - 1s 2ms/sample - loss: 0.1689 - acc: 0.9288\n",
      "Epoch 4/10\n",
      "604/604 [==============================] - 1s 2ms/sample - loss: 0.1655 - acc: 0.9321\n",
      "Epoch 5/10\n",
      "604/604 [==============================] - 1s 2ms/sample - loss: 0.1660 - acc: 0.9305\n",
      "Epoch 6/10\n",
      "604/604 [==============================] - 1s 2ms/sample - loss: 0.1658 - acc: 0.9338\n",
      "Epoch 7/10\n",
      "604/604 [==============================] - 1s 2ms/sample - loss: 0.1645 - acc: 0.9321\n",
      "Epoch 8/10\n",
      "604/604 [==============================] - 1s 2ms/sample - loss: 0.1648 - acc: 0.9288\n",
      "Epoch 9/10\n",
      "604/604 [==============================] - 1s 2ms/sample - loss: 0.1650 - acc: 0.9288\n",
      "Epoch 10/10\n",
      "604/604 [==============================] - 1s 2ms/sample - loss: 0.1671 - acc: 0.9272\n"
     ]
    },
    {
     "data": {
      "text/plain": [
       "<tensorflow.python.keras.callbacks.History at 0x1ff9ef33188>"
      ]
     },
     "execution_count": 199,
     "metadata": {},
     "output_type": "execute_result"
    }
   ],
   "source": [
    "feat = 1\n",
    "model_lda = tf.keras.models.Sequential([tf.keras.layers.Input(feat,1),\n",
    "                                        tf.keras.layers.Dense(units = 256,activation = tf.nn.relu,kernel_regularizer = tf.keras.regularizers.l2(0.01)),\n",
    "                                        tf.keras.layers.Dense(units = 1,activation = tf.nn.sigmoid)])\n",
    "model_lda.compile(optimizer = \"adam\",loss = \"binary_crossentropy\",metrics = [\"accuracy\"])\n",
    "model_lda.build()\n",
    "model_lda.summary()\n",
    "model_lda.fit(lda[:,:feat],Y_train.values,epochs = 10)"
   ]
  },
  {
   "cell_type": "code",
   "execution_count": 201,
   "metadata": {
    "ExecuteTime": {
     "end_time": "2020-08-31T10:25:05.777511Z",
     "start_time": "2020-08-31T10:25:04.632607Z"
    }
   },
   "outputs": [
    {
     "name": "stdout",
     "output_type": "stream",
     "text": [
      "604/604 [==============================] - 1s 1ms/sample - loss: 0.1579 - acc: 0.9272\n",
      "92.71523356437683\n",
      "152/152 [==============================] - 0s 1ms/sample - loss: 0.0142 - acc: 1.0000\n",
      "100.0\n"
     ]
    }
   ],
   "source": [
    "print(model_lda.evaluate(lda[:,:feat],Y_train.values)[1]*100)\n",
    "print(model_lda.evaluate(lda_test[:,:feat],Y_test.values)[1]*100)"
   ]
  },
  {
   "cell_type": "code",
   "execution_count": null,
   "metadata": {},
   "outputs": [],
   "source": []
  }
 ],
 "metadata": {
  "kernelspec": {
   "display_name": "Python 3",
   "language": "python",
   "name": "python3"
  },
  "language_info": {
   "codemirror_mode": {
    "name": "ipython",
    "version": 3
   },
   "file_extension": ".py",
   "mimetype": "text/x-python",
   "name": "python",
   "nbconvert_exporter": "python",
   "pygments_lexer": "ipython3",
   "version": "3.7.7"
  }
 },
 "nbformat": 4,
 "nbformat_minor": 4
}
